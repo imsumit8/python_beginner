{
  "nbformat": 4,
  "nbformat_minor": 0,
  "metadata": {
    "colab": {
      "provenance": [],
      "authorship_tag": "ABX9TyNZNULB2dINkhyWn9ESxXOW",
      "include_colab_link": true
    },
    "kernelspec": {
      "name": "python3",
      "display_name": "Python 3"
    },
    "language_info": {
      "name": "python"
    }
  },
  "cells": [
    {
      "cell_type": "markdown",
      "metadata": {
        "id": "view-in-github",
        "colab_type": "text"
      },
      "source": [
        "<a href=\"https://colab.research.google.com/github/imsumit8/python_beginner/blob/main/Problem_Solving_2.ipynb\" target=\"_parent\"><img src=\"https://colab.research.google.com/assets/colab-badge.svg\" alt=\"Open In Colab\"/></a>"
      ]
    },
    {
      "cell_type": "code",
      "execution_count": 2,
      "metadata": {
        "colab": {
          "base_uri": "https://localhost:8080/"
        },
        "id": "MGmChD1wG2lZ",
        "outputId": "94276130-321c-42a5-d003-c3d95cdd62b9"
      },
      "outputs": [
        {
          "output_type": "stream",
          "name": "stdout",
          "text": [
            "-12457865\n",
            "9\n"
          ]
        }
      ],
      "source": [
        "number=input()\n",
        "counter=0\n",
        "for i in number:\n",
        "  counter+=1\n",
        "print(counter)"
      ]
    },
    {
      "cell_type": "code",
      "source": [
        "number=int(input())\n",
        "counter=0\n",
        "while number>0:\n",
        "  number=number//10\n",
        "  counter+=1\n",
        "print(\"No. of digit is :\",counter)"
      ],
      "metadata": {
        "colab": {
          "base_uri": "https://localhost:8080/"
        },
        "id": "3nPCdP-iHkWt",
        "outputId": "b0a386dd-1f72-47b3-97e0-938f15d7a091"
      },
      "execution_count": 4,
      "outputs": [
        {
          "output_type": "stream",
          "name": "stdout",
          "text": [
            "-976\n",
            "No. of digit is : 0\n"
          ]
        }
      ]
    },
    {
      "cell_type": "code",
      "source": [
        "# how to count digits after decimal"
      ],
      "metadata": {
        "id": "vG0szgGZK904"
      },
      "execution_count": null,
      "outputs": []
    },
    {
      "cell_type": "code",
      "source": [
        "num=0.1234\n",
        "count=0\n",
        "while True:\n",
        "  if num"
      ],
      "metadata": {
        "id": "XWHB8HnaJhP6"
      },
      "execution_count": null,
      "outputs": []
    },
    {
      "cell_type": "code",
      "source": [
        "number=int(input())\n",
        "for i in range (1,number+1):\n",
        "  for j in range(1,i+1):\n",
        "    print(j,end=\" \")\n",
        "  print()\n"
      ],
      "metadata": {
        "colab": {
          "base_uri": "https://localhost:8080/"
        },
        "id": "u2AkLyqRLXI_",
        "outputId": "2ad096c3-c4ce-4ee4-ef22-01a21edea467"
      },
      "execution_count": 6,
      "outputs": [
        {
          "output_type": "stream",
          "name": "stdout",
          "text": [
            "3\n",
            "1 \n",
            "1 2 \n",
            "1 2 3 \n"
          ]
        }
      ]
    },
    {
      "cell_type": "code",
      "source": [
        "number=int(input())\n",
        "for i in range (1,number+1):\n",
        "  for j in range(number+1-i):\n",
        "    print(0,end=\" \")\n",
        "  print()\n"
      ],
      "metadata": {
        "colab": {
          "base_uri": "https://localhost:8080/"
        },
        "id": "cmGoENpkRsoV",
        "outputId": "54e5a603-a3c3-4c3c-b51d-08ac88c35f97"
      },
      "execution_count": 12,
      "outputs": [
        {
          "output_type": "stream",
          "name": "stdout",
          "text": [
            "5\n",
            "0 0 0 0 0 \n",
            "0 0 0 0 \n",
            "0 0 0 \n",
            "0 0 \n",
            "0 \n"
          ]
        }
      ]
    },
    {
      "cell_type": "code",
      "source": [
        "number=int(input())\n",
        "for i in range (1,number+1):\n",
        "  for j in range(number-i):\n",
        "    print(0,end=\" \")\n",
        "  print(i)\n"
      ],
      "metadata": {
        "colab": {
          "base_uri": "https://localhost:8080/"
        },
        "id": "0d_Ax1veMOnP",
        "outputId": "effb0adc-a713-48d0-ab76-c23758ed77d4"
      },
      "execution_count": 13,
      "outputs": [
        {
          "output_type": "stream",
          "name": "stdout",
          "text": [
            "6\n",
            "0 0 0 0 0 1\n",
            "0 0 0 0 2\n",
            "0 0 0 3\n",
            "0 0 4\n",
            "0 5\n",
            "6\n"
          ]
        }
      ]
    },
    {
      "cell_type": "code",
      "source": [
        "# 1>- 0 0 0 0 1\n",
        "# 2>- 0 0 0 2\n",
        "# 3>- 0 0 3\n",
        "# 4>- 0 2\n",
        "# 5>- 1\n",
        "# every pattern printing happens for some value of i and j\n"
      ],
      "metadata": {
        "id": "nQE5-4AhURzz"
      },
      "execution_count": null,
      "outputs": []
    },
    {
      "cell_type": "code",
      "source": [
        "number=int(input())\n",
        "for i in range (1,number+1):\n",
        "  for j in range(number-i+1):\n",
        "    if j==number-i:\n",
        "      print(i,end=\" \")\n",
        "    else:\n",
        "      print(0,end=\" \")\n",
        "  print()\n"
      ],
      "metadata": {
        "colab": {
          "base_uri": "https://localhost:8080/"
        },
        "id": "_hhBfUIOOts-",
        "outputId": "e8499103-5924-42b1-d069-a1b03421991c"
      },
      "execution_count": 15,
      "outputs": [
        {
          "output_type": "stream",
          "name": "stdout",
          "text": [
            "5\n",
            "0 0 0 0 1 \n",
            "0 0 0 2 \n",
            "0 0 3 \n",
            "0 4 \n",
            "5 \n"
          ]
        }
      ]
    },
    {
      "cell_type": "code",
      "source": [
        "number=int(input())\n",
        "counter=0\n",
        "while number>0:\n",
        "  last_digit=number% 10\n",
        "  if last_digit%2==0:\n",
        "    counter+=1\n",
        "  number=int(number/10)\n",
        "print(\"No of even digit: \", counter)\n",
        ""
      ],
      "metadata": {
        "colab": {
          "base_uri": "https://localhost:8080/"
        },
        "id": "czvEd79bUGht",
        "outputId": "8052b1e5-c1f0-4845-eee4-606247f1fd96"
      },
      "execution_count": 18,
      "outputs": [
        {
          "output_type": "stream",
          "name": "stdout",
          "text": [
            "134567\n",
            "No of even digit:  2\n"
          ]
        }
      ]
    },
    {
      "cell_type": "code",
      "source": [
        "print('''Question-You are given an integer A as input and you need to determine whether it is a palindrome or not.\n",
        " A palindrome integer is one whose digits, when reversed, result in the same number.\n",
        "  For example, 121 is a palindrome because its reverse is also 121,\n",
        "  but 123 is not a palindrome because its reverse is 321.\n",
        "  Note: The given integer will not have any leading zeros.\n",
        "''')"
      ],
      "metadata": {
        "colab": {
          "base_uri": "https://localhost:8080/"
        },
        "id": "UrqeUvkPWXF1",
        "outputId": "538158f8-6fcf-4138-dc74-b012d5e7477a"
      },
      "execution_count": 20,
      "outputs": [
        {
          "output_type": "stream",
          "name": "stdout",
          "text": [
            "Question-You are given an integer A as input and you need to determine whether it is a palindrome or not.\n",
            " A palindrome integer is one whose digits, when reversed, result in the same number.\n",
            "  For example, 121 is a palindrome because its reverse is also 121,\n",
            "  but 123 is not a palindrome because its reverse is 321. \n",
            "  Note: The given integer will not have any leading zeros.\n",
            "\n"
          ]
        }
      ]
    },
    {
      "cell_type": "code",
      "source": [
        "\n",
        "number=int(input())\n",
        "number_old=number  #121\n",
        "new_num=0\n",
        "while number>0:      # true # true   # true\n",
        "  last_digit=number%10 #1   # 2 # 1\n",
        "  new_num=new_num*10+last_digit #1 #12 #121\n",
        "  number=int(number/10) #12    # 1  # 0\n",
        "\n",
        "print(new_num)\n",
        "\n",
        "if new_num== number_old:\n",
        "  print(\"The number is a palindrome\")\n",
        "else:\n",
        "  print(\"The number is not a palindrome\")\n",
        "\n",
        ""
      ],
      "metadata": {
        "colab": {
          "base_uri": "https://localhost:8080/"
        },
        "id": "kp4IMe2TXezR",
        "outputId": "fbf45074-a093-41f8-b612-220372b01075"
      },
      "execution_count": 26,
      "outputs": [
        {
          "output_type": "stream",
          "name": "stdout",
          "text": [
            "121\n",
            "121\n",
            "The number is a palindrome\n"
          ]
        }
      ]
    },
    {
      "cell_type": "code",
      "source": [
        "number=int(input())\n",
        "for i in range (1,number+1):\n",
        "  #for j in range(number-i):\n",
        "  #  print('_',end=\" \")\n",
        "  print('_'*(number-i),end=\"\")\n",
        "  #for k in range(i):\n",
        "  #  print(\"*\",end=\" \")\n",
        "  print('*'*i,end=\"\")\n",
        "  print()\n",
        "\n",
        "\n",
        "# 1>- ____*\n",
        "# 2>- ___**\n",
        "# 3>- __***\n",
        "# 4>- _****\n",
        "# 5>- *****"
      ],
      "metadata": {
        "colab": {
          "base_uri": "https://localhost:8080/"
        },
        "id": "dDm0fz51ZAuj",
        "outputId": "834247d6-aa54-4159-80d5-9a7af398e038"
      },
      "execution_count": 33,
      "outputs": [
        {
          "output_type": "stream",
          "name": "stdout",
          "text": [
            "5\n",
            "____*\n",
            "___**\n",
            "__***\n",
            "_****\n",
            "*****\n"
          ]
        }
      ]
    },
    {
      "cell_type": "code",
      "source": [],
      "metadata": {
        "id": "F3QK9urvcSW3"
      },
      "execution_count": null,
      "outputs": []
    }
  ]
}