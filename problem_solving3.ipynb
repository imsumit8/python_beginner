{
  "nbformat": 4,
  "nbformat_minor": 0,
  "metadata": {
    "colab": {
      "provenance": [],
      "authorship_tag": "ABX9TyOT1vv6VImYyGxR7DG3ab7c",
      "include_colab_link": true
    },
    "kernelspec": {
      "name": "python3",
      "display_name": "Python 3"
    },
    "language_info": {
      "name": "python"
    }
  },
  "cells": [
    {
      "cell_type": "markdown",
      "metadata": {
        "id": "view-in-github",
        "colab_type": "text"
      },
      "source": [
        "<a href=\"https://colab.research.google.com/github/imsumit8/python_beginner/blob/main/problem_solving3.ipynb\" target=\"_parent\"><img src=\"https://colab.research.google.com/assets/colab-badge.svg\" alt=\"Open In Colab\"/></a>"
      ]
    },
    {
      "cell_type": "code",
      "execution_count": 1,
      "metadata": {
        "id": "BhgbhoFDZgbP"
      },
      "outputs": [],
      "source": [
        "# floor>> largest int smaller than or equal to the value>>start from the right side ...keep on checking the condition"
      ]
    },
    {
      "cell_type": "code",
      "source": [
        "# ceil>>smallest int greater than or equal to the value>>start from the left side and keep on checking"
      ],
      "metadata": {
        "id": "NQZVSiM9a3f0"
      },
      "execution_count": 2,
      "outputs": []
    },
    {
      "cell_type": "code",
      "source": [
        "def ceilfloor(A,B):\n",
        "  lst=[]\n",
        "  for i in range(len(A)-1,-1,-1):\n",
        "    if A[i]<=B:\n",
        "      lst.append(A[i])\n",
        "      break\n",
        "  for i in range(len(A)):\n",
        "    if A[i]>=B:\n",
        "      lst.append(A[i])\n",
        "      break\n",
        "\n",
        "  return lst"
      ],
      "metadata": {
        "id": "2QznaQkZbgaR"
      },
      "execution_count": 16,
      "outputs": []
    },
    {
      "cell_type": "code",
      "source": [
        "A=[-2,4,8,9]\n",
        "b=0\n",
        "ceilfloor(A,b)"
      ],
      "metadata": {
        "colab": {
          "base_uri": "https://localhost:8080/"
        },
        "id": "c8c26m4UcjVy",
        "outputId": "5e93acb3-a4ad-44ab-e0a5-4c4c5e2647e1"
      },
      "execution_count": 17,
      "outputs": [
        {
          "output_type": "execute_result",
          "data": {
            "text/plain": [
              "[-2, 4]"
            ]
          },
          "metadata": {},
          "execution_count": 17
        }
      ]
    },
    {
      "cell_type": "code",
      "source": [
        "def primes_less_than_the_num(A):\n",
        "  lst=[]\n",
        "  for i in range(2,A+1):\n",
        "    count=0\n",
        "    for j in range(1,(i//2)+1):\n",
        "      if i%j==0:\n",
        "        count+=1\n",
        "    if count==1:\n",
        "      lst.append(i)\n",
        "  return lst\n",
        "\n"
      ],
      "metadata": {
        "id": "oiSPTrpscv_6"
      },
      "execution_count": 18,
      "outputs": []
    },
    {
      "cell_type": "code",
      "source": [
        "primes_less_than_the_num(8)"
      ],
      "metadata": {
        "colab": {
          "base_uri": "https://localhost:8080/"
        },
        "id": "uyEmLRGmgq_v",
        "outputId": "a28225c7-39bb-441c-de88-21580538072f"
      },
      "execution_count": 19,
      "outputs": [
        {
          "output_type": "execute_result",
          "data": {
            "text/plain": [
              "[2, 3, 5, 7]"
            ]
          },
          "metadata": {},
          "execution_count": 19
        }
      ]
    },
    {
      "cell_type": "code",
      "source": [
        "def count_coins(A,b):\n",
        "  count=0\n",
        "  for e in A:\n",
        "    if e==b:\n",
        "      count+=1\n",
        "  return count"
      ],
      "metadata": {
        "id": "UHx36lHjgzNe"
      },
      "execution_count": 20,
      "outputs": []
    },
    {
      "cell_type": "code",
      "source": [
        "count_coins([50,5,1,10,5],5)"
      ],
      "metadata": {
        "colab": {
          "base_uri": "https://localhost:8080/"
        },
        "id": "p03Aq68dlzW8",
        "outputId": "e29f1e43-6903-4c0f-8b0f-828e4f76cb62"
      },
      "execution_count": 21,
      "outputs": [
        {
          "output_type": "execute_result",
          "data": {
            "text/plain": [
              "2"
            ]
          },
          "metadata": {},
          "execution_count": 21
        }
      ]
    },
    {
      "cell_type": "code",
      "source": [
        "def remove_coins(lst,val):\n",
        "\n",
        "  for e in lst:\n",
        "    if e==val:\n",
        "      lst.remove(val)\n",
        "  return lst"
      ],
      "metadata": {
        "id": "2_NJSekql5iS"
      },
      "execution_count": 22,
      "outputs": []
    },
    {
      "cell_type": "code",
      "source": [
        "remove_coins([50,5,1,10,5],5)"
      ],
      "metadata": {
        "colab": {
          "base_uri": "https://localhost:8080/"
        },
        "id": "ZQpDDL34meVU",
        "outputId": "8cf7b19d-f29c-4bee-ce2f-508c183a50d9"
      },
      "execution_count": 23,
      "outputs": [
        {
          "output_type": "execute_result",
          "data": {
            "text/plain": [
              "[50, 1, 10]"
            ]
          },
          "metadata": {},
          "execution_count": 23
        }
      ]
    },
    {
      "cell_type": "code",
      "source": [
        "coins=[1,2,5,10,20,5,10]\n",
        "for i in range(coins.count(5)):\n",
        "  coins.remove(5)\n",
        "coins"
      ],
      "metadata": {
        "colab": {
          "base_uri": "https://localhost:8080/"
        },
        "id": "_XAYEFHmmiTD",
        "outputId": "e644c038-c1d4-4018-fe81-788e1c04fcc4"
      },
      "execution_count": 26,
      "outputs": [
        {
          "output_type": "execute_result",
          "data": {
            "text/plain": [
              "[1, 2, 10, 20, 10]"
            ]
          },
          "metadata": {},
          "execution_count": 26
        }
      ]
    },
    {
      "cell_type": "code",
      "source": [
        "def perfect_square_or_not(n):\n",
        "  import math\n",
        "  if math.sqrt(n)%1==0:\n",
        "    return 1\n",
        "  else:\n",
        "    return 0"
      ],
      "metadata": {
        "id": "3m3947fFp3xp"
      },
      "execution_count": 27,
      "outputs": []
    },
    {
      "cell_type": "code",
      "source": [
        "perfect_square_or_not(5)"
      ],
      "metadata": {
        "colab": {
          "base_uri": "https://localhost:8080/"
        },
        "id": "sYX94pIyuI0f",
        "outputId": "d418f3f9-2cb7-42a2-f21d-7cc182241eb0"
      },
      "execution_count": 31,
      "outputs": [
        {
          "output_type": "execute_result",
          "data": {
            "text/plain": [
              "0"
            ]
          },
          "metadata": {},
          "execution_count": 31
        }
      ]
    },
    {
      "cell_type": "code",
      "source": [
        "def perfect_square_or_not2(n):\n",
        "\n",
        "  if n**(0.5)==int(n**(0.5)):\n",
        "    return 1\n",
        "  else:\n",
        "    return 0"
      ],
      "metadata": {
        "id": "F9w1uMucuSWH"
      },
      "execution_count": 32,
      "outputs": []
    },
    {
      "cell_type": "code",
      "source": [
        "perfect_square_or_not2(5)"
      ],
      "metadata": {
        "colab": {
          "base_uri": "https://localhost:8080/"
        },
        "id": "9Y_5LtgMu1C2",
        "outputId": "7430f055-46b9-4ff5-923b-3d11b5c9e1ab"
      },
      "execution_count": 33,
      "outputs": [
        {
          "output_type": "execute_result",
          "data": {
            "text/plain": [
              "0"
            ]
          },
          "metadata": {},
          "execution_count": 33
        }
      ]
    },
    {
      "cell_type": "code",
      "source": [
        "for i in range(1,10):\n",
        "  print(i, \"perfect square\",perfect_square_or_not2(i))"
      ],
      "metadata": {
        "colab": {
          "base_uri": "https://localhost:8080/"
        },
        "id": "bvWxOH8Vu4SW",
        "outputId": "65d871ce-4e60-4eaa-ffb8-fc1bcc855142"
      },
      "execution_count": 35,
      "outputs": [
        {
          "output_type": "stream",
          "name": "stdout",
          "text": [
            "1 perfect square 1\n",
            "2 perfect square 0\n",
            "3 perfect square 0\n",
            "4 perfect square 1\n",
            "5 perfect square 0\n",
            "6 perfect square 0\n",
            "7 perfect square 0\n",
            "8 perfect square 0\n",
            "9 perfect square 1\n"
          ]
        }
      ]
    },
    {
      "cell_type": "code",
      "source": [],
      "metadata": {
        "id": "IvNTNTccvJOW"
      },
      "execution_count": null,
      "outputs": []
    }
  ]
}