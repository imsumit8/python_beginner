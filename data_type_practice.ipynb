{
  "nbformat": 4,
  "nbformat_minor": 0,
  "metadata": {
    "colab": {
      "provenance": [],
      "authorship_tag": "ABX9TyMS9eOoWukuGs7E3uVylg8W",
      "include_colab_link": true
    },
    "kernelspec": {
      "name": "python3",
      "display_name": "Python 3"
    },
    "language_info": {
      "name": "python"
    }
  },
  "cells": [
    {
      "cell_type": "markdown",
      "metadata": {
        "id": "view-in-github",
        "colab_type": "text"
      },
      "source": [
        "<a href=\"https://colab.research.google.com/github/imsumit8/python_beginner/blob/main/data_type_practice.ipynb\" target=\"_parent\"><img src=\"https://colab.research.google.com/assets/colab-badge.svg\" alt=\"Open In Colab\"/></a>"
      ]
    },
    {
      "cell_type": "code",
      "execution_count": 1,
      "metadata": {
        "colab": {
          "base_uri": "https://localhost:8080/"
        },
        "id": "NR9ASkZBr38G",
        "outputId": "488278b1-e590-4107-a0cf-9122855152f4"
      },
      "outputs": [
        {
          "output_type": "stream",
          "name": "stdout",
          "text": [
            "Welcome back!\n"
          ]
        }
      ],
      "source": [
        "print(\"Welcome back!\")"
      ]
    },
    {
      "cell_type": "code",
      "source": [
        "# recap#"
      ],
      "metadata": {
        "id": "-gaLsZ69r9_L"
      },
      "execution_count": 2,
      "outputs": []
    },
    {
      "cell_type": "code",
      "source": [
        "print(\" this is a function that is useful to display output on screen\")"
      ],
      "metadata": {
        "colab": {
          "base_uri": "https://localhost:8080/"
        },
        "id": "Pyus13kUsCqK",
        "outputId": "20f08787-5902-440a-b08f-f5e93b6bfe9b"
      },
      "execution_count": 4,
      "outputs": [
        {
          "output_type": "stream",
          "name": "stdout",
          "text": [
            " this is a function that is useful to display output on screen\n"
          ]
        }
      ]
    },
    {
      "cell_type": "code",
      "source": [
        "print(\"this is a str that will be printed on screen\")\n",
        "print(''' this\n",
        "is a str\n",
        "that will be printed on screen''')"
      ],
      "metadata": {
        "colab": {
          "base_uri": "https://localhost:8080/"
        },
        "id": "CTqt-z8WslxK",
        "outputId": "2218e3a5-6b5b-473c-dd56-1afa2fb19294"
      },
      "execution_count": 5,
      "outputs": [
        {
          "output_type": "stream",
          "name": "stdout",
          "text": [
            "this is a str that will be printed on screen\n",
            " this\n",
            "is a str\n",
            "that will be printed on screen\n"
          ]
        }
      ]
    },
    {
      "cell_type": "code",
      "source": [
        "print(\"this is a str that will be printed on screen\")\n",
        "print(type(''' this\n",
        "is a str\n",
        "that will be printed on screen'''))"
      ],
      "metadata": {
        "colab": {
          "base_uri": "https://localhost:8080/"
        },
        "id": "kUahvmIXs_fD",
        "outputId": "45e9503d-5049-4645-a07a-ceb9d7e19026"
      },
      "execution_count": 6,
      "outputs": [
        {
          "output_type": "stream",
          "name": "stdout",
          "text": [
            "this is a str that will be printed on screen\n",
            "<class 'str'>\n"
          ]
        }
      ]
    },
    {
      "cell_type": "code",
      "source": [
        "# 5 data types"
      ],
      "metadata": {
        "id": "iWCxgq0dtRaB"
      },
      "execution_count": 7,
      "outputs": []
    },
    {
      "cell_type": "code",
      "source": [
        "print(\"this is a str that will be printed on screen\")\n"
      ],
      "metadata": {
        "colab": {
          "base_uri": "https://localhost:8080/"
        },
        "id": "V5PSzboEtWpJ",
        "outputId": "51706332-dc49-49ae-85ec-bdf615e746c3"
      },
      "execution_count": 8,
      "outputs": [
        {
          "output_type": "stream",
          "name": "stdout",
          "text": [
            "this is a str that will be printed on screen\n"
          ]
        }
      ]
    },
    {
      "cell_type": "code",
      "source": [
        "# 2. numbers"
      ],
      "metadata": {
        "id": "FaffS1xCtYn5"
      },
      "execution_count": 9,
      "outputs": []
    },
    {
      "cell_type": "code",
      "source": [
        "#integers\n",
        "print(-1,0,1)\n",
        "print(type(-1))"
      ],
      "metadata": {
        "colab": {
          "base_uri": "https://localhost:8080/"
        },
        "id": "ZftJeUaDteL5",
        "outputId": "6a0f576e-dfdf-434d-8f61-722f4ba947cb"
      },
      "execution_count": 11,
      "outputs": [
        {
          "output_type": "stream",
          "name": "stdout",
          "text": [
            "-1 0 1\n",
            "<class 'int'>\n"
          ]
        }
      ]
    },
    {
      "cell_type": "code",
      "source": [
        "# float\n",
        "\n",
        "print(-0.74567,1.8,type(1.0))"
      ],
      "metadata": {
        "colab": {
          "base_uri": "https://localhost:8080/"
        },
        "id": "_t84C4WWtjWY",
        "outputId": "20085047-c43f-4260-ad30-a90106474e51"
      },
      "execution_count": 13,
      "outputs": [
        {
          "output_type": "stream",
          "name": "stdout",
          "text": [
            "-0.74567 1.8 <class 'float'>\n"
          ]
        }
      ]
    },
    {
      "cell_type": "code",
      "source": [
        "# bool\n",
        "print(True)\n",
        "print(False)"
      ],
      "metadata": {
        "colab": {
          "base_uri": "https://localhost:8080/"
        },
        "id": "UlCNdFpdt2w5",
        "outputId": "8a74bb3d-cb67-468e-c59f-6c7f6e759c14"
      },
      "execution_count": 14,
      "outputs": [
        {
          "output_type": "stream",
          "name": "stdout",
          "text": [
            "True\n",
            "False\n"
          ]
        }
      ]
    },
    {
      "cell_type": "code",
      "source": [
        "# 1: python is case sensitive and python is precisely typed"
      ],
      "metadata": {
        "id": "AuJRfZypueLb"
      },
      "execution_count": 15,
      "outputs": []
    },
    {
      "cell_type": "code",
      "source": [
        "# None"
      ],
      "metadata": {
        "id": "-GMgxi61uoPR"
      },
      "execution_count": 16,
      "outputs": []
    },
    {
      "cell_type": "code",
      "source": [
        "print(None)"
      ],
      "metadata": {
        "colab": {
          "base_uri": "https://localhost:8080/"
        },
        "id": "zQ9BKw11usio",
        "outputId": "9f1a0c27-7c8f-4fac-f61c-79664b13aec2"
      },
      "execution_count": 17,
      "outputs": [
        {
          "output_type": "stream",
          "name": "stdout",
          "text": [
            "None\n"
          ]
        }
      ]
    },
    {
      "cell_type": "code",
      "source": [
        "# I want to store my aadhar number >>>>str\n",
        "# Bank balance >>> float\n",
        "#age in years >>> int"
      ],
      "metadata": {
        "id": "kDA7JHmDuw4X"
      },
      "execution_count": 18,
      "outputs": []
    },
    {
      "cell_type": "code",
      "source": [
        "# expressions\n",
        "# lhs=rhs\n",
        "# rhs is processed first and stored with LHS\n",
        "#Python evaluates expressions from left to right. Notice that while evaluating an assignment, the right-hand side is evaluated before the left-hand side.\n",
        "## Recommendation: don't create variable names  that are name of functions\n"
      ],
      "metadata": {
        "id": "V6PM5hN-vhog"
      },
      "execution_count": null,
      "outputs": []
    },
    {
      "cell_type": "code",
      "source": [
        "# Input functions for getting the input\n",
        "# IMP >> always treat everything as a string"
      ],
      "metadata": {
        "id": "h0E2ICqhxCRz"
      },
      "execution_count": null,
      "outputs": []
    },
    {
      "cell_type": "code",
      "source": [
        "print(int('RIOPHJK'))"
      ],
      "metadata": {
        "colab": {
          "base_uri": "https://localhost:8080/",
          "height": 175
        },
        "id": "xiaTAHPAyJMx",
        "outputId": "0c124d22-93a3-4acb-de50-4c4552b34f04"
      },
      "execution_count": 20,
      "outputs": [
        {
          "output_type": "error",
          "ename": "ValueError",
          "evalue": "ignored",
          "traceback": [
            "\u001b[0;31m---------------------------------------------------------------------------\u001b[0m",
            "\u001b[0;31mValueError\u001b[0m                                Traceback (most recent call last)",
            "\u001b[0;32m<ipython-input-20-6f7095eca05e>\u001b[0m in \u001b[0;36m<cell line: 1>\u001b[0;34m()\u001b[0m\n\u001b[0;32m----> 1\u001b[0;31m \u001b[0mprint\u001b[0m\u001b[0;34m(\u001b[0m\u001b[0mint\u001b[0m\u001b[0;34m(\u001b[0m\u001b[0;34m'RIOPHJK'\u001b[0m\u001b[0;34m)\u001b[0m\u001b[0;34m)\u001b[0m\u001b[0;34m\u001b[0m\u001b[0;34m\u001b[0m\u001b[0m\n\u001b[0m",
            "\u001b[0;31mValueError\u001b[0m: invalid literal for int() with base 10: 'RIOPHJK'"
          ]
        }
      ]
    },
    {
      "cell_type": "markdown",
      "source": [
        "## Type casting\n"
      ],
      "metadata": {
        "id": "JRLBjG-txCyh"
      }
    },
    {
      "cell_type": "code",
      "source": [
        "print(float(\"12345.3578\"))"
      ],
      "metadata": {
        "colab": {
          "base_uri": "https://localhost:8080/"
        },
        "id": "3JGpC8hayYVI",
        "outputId": "fd5f2621-a9fd-42cc-ffd7-8be5f40cab83"
      },
      "execution_count": 21,
      "outputs": [
        {
          "output_type": "stream",
          "name": "stdout",
          "text": [
            "12345.3578\n"
          ]
        }
      ]
    },
    {
      "cell_type": "code",
      "source": [
        "print(int(\"123456.54789\"))"
      ],
      "metadata": {
        "colab": {
          "base_uri": "https://localhost:8080/",
          "height": 175
        },
        "id": "jFlhhUCQyfFw",
        "outputId": "4711cbee-20ce-45ab-da1a-b4acf0ae2c1b"
      },
      "execution_count": 22,
      "outputs": [
        {
          "output_type": "error",
          "ename": "ValueError",
          "evalue": "ignored",
          "traceback": [
            "\u001b[0;31m---------------------------------------------------------------------------\u001b[0m",
            "\u001b[0;31mValueError\u001b[0m                                Traceback (most recent call last)",
            "\u001b[0;32m<ipython-input-22-a2d7007bc43c>\u001b[0m in \u001b[0;36m<cell line: 1>\u001b[0;34m()\u001b[0m\n\u001b[0;32m----> 1\u001b[0;31m \u001b[0mprint\u001b[0m\u001b[0;34m(\u001b[0m\u001b[0mint\u001b[0m\u001b[0;34m(\u001b[0m\u001b[0;34m\"123456.54789\"\u001b[0m\u001b[0;34m)\u001b[0m\u001b[0;34m)\u001b[0m\u001b[0;34m\u001b[0m\u001b[0;34m\u001b[0m\u001b[0m\n\u001b[0m",
            "\u001b[0;31mValueError\u001b[0m: invalid literal for int() with base 10: '123456.54789'"
          ]
        }
      ]
    },
    {
      "cell_type": "code",
      "source": [
        "print(int(12336.34567))\n",
        "print(int(-2345.5678))\n",
        "# it is not rounding decimals are throwin off"
      ],
      "metadata": {
        "colab": {
          "base_uri": "https://localhost:8080/"
        },
        "id": "5ONv9yeHyiPI",
        "outputId": "e881a885-b3ac-442b-be80-d7a7fba41749"
      },
      "execution_count": 24,
      "outputs": [
        {
          "output_type": "stream",
          "name": "stdout",
          "text": [
            "12336\n",
            "-2345\n"
          ]
        }
      ]
    },
    {
      "cell_type": "code",
      "source": [
        "# sep>> seperation between values when printed by same print function\n",
        "# end >> how a print function ends , default is '\\n'\n",
        "print('Ronaldo',39,54,sep='\\n',end=\"\")\n",
        "print(\"Gar mer4e dbo bara gandu\")\n"
      ],
      "metadata": {
        "colab": {
          "base_uri": "https://localhost:8080/"
        },
        "id": "_Lr2NkoDynP4",
        "outputId": "a3addcea-7582-49a2-8aba-6575f69d7e20"
      },
      "execution_count": 26,
      "outputs": [
        {
          "output_type": "stream",
          "name": "stdout",
          "text": [
            "Ronaldo\n",
            "39\n",
            "54Gar mer4e dbo bara gandu\n"
          ]
        }
      ]
    },
    {
      "cell_type": "code",
      "source": [
        "print(\"20\"+\"2\")"
      ],
      "metadata": {
        "colab": {
          "base_uri": "https://localhost:8080/"
        },
        "id": "RUIbcHQE1Oc2",
        "outputId": "79759990-9450-4e7d-94b5-50fe6a90c809"
      },
      "execution_count": 27,
      "outputs": [
        {
          "output_type": "stream",
          "name": "stdout",
          "text": [
            "202\n"
          ]
        }
      ]
    },
    {
      "cell_type": "code",
      "source": [
        "print(\"cristiano\"+\"Ronaldo\")"
      ],
      "metadata": {
        "colab": {
          "base_uri": "https://localhost:8080/"
        },
        "id": "YIjEpU8_29lu",
        "outputId": "79ddc006-a2db-45ff-e884-fa3232c174c6"
      },
      "execution_count": 28,
      "outputs": [
        {
          "output_type": "stream",
          "name": "stdout",
          "text": [
            "cristianoRonaldo\n"
          ]
        }
      ]
    },
    {
      "cell_type": "code",
      "source": [
        "input1= int(input())\n",
        "input2=int(input())\n",
        "print((input1+input2)/2)"
      ],
      "metadata": {
        "colab": {
          "base_uri": "https://localhost:8080/"
        },
        "id": "5TW8I_Nq3CDW",
        "outputId": "882b509a-7b6b-4fe8-94b7-f334a038f485"
      },
      "execution_count": 29,
      "outputs": [
        {
          "output_type": "stream",
          "name": "stdout",
          "text": [
            "6\n",
            "9\n",
            "7.5\n"
          ]
        }
      ]
    },
    {
      "cell_type": "code",
      "source": [
        "# sum is a popular function\n",
        "# nothing like avg"
      ],
      "metadata": {
        "id": "A6wn5dMX55Pc"
      },
      "execution_count": 30,
      "outputs": []
    },
    {
      "cell_type": "code",
      "source": [],
      "metadata": {
        "id": "BiwIUKk66yEV"
      },
      "execution_count": null,
      "outputs": []
    }
  ]
}