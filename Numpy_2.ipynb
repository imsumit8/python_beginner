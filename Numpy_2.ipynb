{
  "nbformat": 4,
  "nbformat_minor": 0,
  "metadata": {
    "colab": {
      "provenance": [],
      "authorship_tag": "ABX9TyNyaHC+X8h9q0IImIbGJAYp",
      "include_colab_link": true
    },
    "kernelspec": {
      "name": "python3",
      "display_name": "Python 3"
    },
    "language_info": {
      "name": "python"
    }
  },
  "cells": [
    {
      "cell_type": "markdown",
      "metadata": {
        "id": "view-in-github",
        "colab_type": "text"
      },
      "source": [
        "<a href=\"https://colab.research.google.com/github/imsumit8/python_beginner/blob/main/Numpy_2.ipynb\" target=\"_parent\"><img src=\"https://colab.research.google.com/assets/colab-badge.svg\" alt=\"Open In Colab\"/></a>"
      ]
    },
    {
      "cell_type": "code",
      "execution_count": 2,
      "metadata": {
        "id": "oE9LHJYK7JHH"
      },
      "outputs": [],
      "source": [
        "import numpy as np\n",
        "a=np.arange(0,16)"
      ]
    },
    {
      "cell_type": "code",
      "source": [
        "a.reshape(8,-1)"
      ],
      "metadata": {
        "colab": {
          "base_uri": "https://localhost:8080/"
        },
        "id": "7cc-D1Zb8AzD",
        "outputId": "64ff9885-a840-4991-8f24-d4de9c1a33f4"
      },
      "execution_count": 3,
      "outputs": [
        {
          "output_type": "execute_result",
          "data": {
            "text/plain": [
              "array([[ 0,  1],\n",
              "       [ 2,  3],\n",
              "       [ 4,  5],\n",
              "       [ 6,  7],\n",
              "       [ 8,  9],\n",
              "       [10, 11],\n",
              "       [12, 13],\n",
              "       [14, 15]])"
            ]
          },
          "metadata": {},
          "execution_count": 3
        }
      ]
    },
    {
      "cell_type": "code",
      "source": [
        "len(a)"
      ],
      "metadata": {
        "colab": {
          "base_uri": "https://localhost:8080/"
        },
        "id": "-NFV1VBc8eqn",
        "outputId": "7693b697-4f16-494f-c16e-717f19d20af0"
      },
      "execution_count": 4,
      "outputs": [
        {
          "output_type": "execute_result",
          "data": {
            "text/plain": [
              "16"
            ]
          },
          "metadata": {},
          "execution_count": 4
        }
      ]
    },
    {
      "cell_type": "code",
      "source": [
        "a.reshape(4,4)"
      ],
      "metadata": {
        "colab": {
          "base_uri": "https://localhost:8080/"
        },
        "id": "EYg759y384RH",
        "outputId": "45f741e4-d92d-4dc0-8115-2d2ac52adbcf"
      },
      "execution_count": 5,
      "outputs": [
        {
          "output_type": "execute_result",
          "data": {
            "text/plain": [
              "array([[ 0,  1,  2,  3],\n",
              "       [ 4,  5,  6,  7],\n",
              "       [ 8,  9, 10, 11],\n",
              "       [12, 13, 14, 15]])"
            ]
          },
          "metadata": {},
          "execution_count": 5
        }
      ]
    },
    {
      "cell_type": "code",
      "source": [
        "b=a.reshape(4,-1)"
      ],
      "metadata": {
        "id": "l0chA-Q8895v"
      },
      "execution_count": 7,
      "outputs": []
    },
    {
      "cell_type": "code",
      "source": [
        "len(b)"
      ],
      "metadata": {
        "colab": {
          "base_uri": "https://localhost:8080/"
        },
        "id": "aNQinuEa9BiI",
        "outputId": "96fe25f9-9c14-4ab0-8136-eef4488d072e"
      },
      "execution_count": 8,
      "outputs": [
        {
          "output_type": "execute_result",
          "data": {
            "text/plain": [
              "4"
            ]
          },
          "metadata": {},
          "execution_count": 8
        }
      ]
    },
    {
      "cell_type": "code",
      "source": [
        "#Taking transpose\n",
        "b.T"
      ],
      "metadata": {
        "colab": {
          "base_uri": "https://localhost:8080/"
        },
        "id": "rUKVDinx9E5P",
        "outputId": "514f5c34-33a4-47cb-9ba9-82bc3907d432"
      },
      "execution_count": 10,
      "outputs": [
        {
          "output_type": "execute_result",
          "data": {
            "text/plain": [
              "array([[ 0,  4,  8, 12],\n",
              "       [ 1,  5,  9, 13],\n",
              "       [ 2,  6, 10, 14],\n",
              "       [ 3,  7, 11, 15]])"
            ]
          },
          "metadata": {},
          "execution_count": 10
        }
      ]
    },
    {
      "cell_type": "code",
      "source": [
        "a=a.reshape(-1,2)\n",
        "print(a)"
      ],
      "metadata": {
        "colab": {
          "base_uri": "https://localhost:8080/"
        },
        "id": "9bDYYWr29OIf",
        "outputId": "7227bc47-554c-47fb-8aa0-0fcc4bd757c1"
      },
      "execution_count": 12,
      "outputs": [
        {
          "output_type": "stream",
          "name": "stdout",
          "text": [
            "[[ 0  1]\n",
            " [ 2  3]\n",
            " [ 4  5]\n",
            " [ 6  7]\n",
            " [ 8  9]\n",
            " [10 11]\n",
            " [12 13]\n",
            " [14 15]]\n"
          ]
        }
      ]
    },
    {
      "cell_type": "code",
      "source": [
        "a[0]"
      ],
      "metadata": {
        "colab": {
          "base_uri": "https://localhost:8080/"
        },
        "id": "RVE7KGiA9wdn",
        "outputId": "25ef6251-eb6d-4d6e-f6d7-817c059cad85"
      },
      "execution_count": 13,
      "outputs": [
        {
          "output_type": "execute_result",
          "data": {
            "text/plain": [
              "array([0, 1])"
            ]
          },
          "metadata": {},
          "execution_count": 13
        }
      ]
    },
    {
      "cell_type": "code",
      "source": [
        "a[-1]"
      ],
      "metadata": {
        "colab": {
          "base_uri": "https://localhost:8080/"
        },
        "id": "pbfdYsId98N4",
        "outputId": "4522e1ba-7bc2-485e-dfd8-909130e0f7ba"
      },
      "execution_count": 14,
      "outputs": [
        {
          "output_type": "execute_result",
          "data": {
            "text/plain": [
              "array([14, 15])"
            ]
          },
          "metadata": {},
          "execution_count": 14
        }
      ]
    },
    {
      "cell_type": "code",
      "source": [
        "a[0][0]"
      ],
      "metadata": {
        "colab": {
          "base_uri": "https://localhost:8080/"
        },
        "id": "g3GkdGRg9-lv",
        "outputId": "95b41dfe-dfd1-469b-f001-d5d6293fa14f"
      },
      "execution_count": 15,
      "outputs": [
        {
          "output_type": "execute_result",
          "data": {
            "text/plain": [
              "0"
            ]
          },
          "metadata": {},
          "execution_count": 15
        }
      ]
    },
    {
      "cell_type": "code",
      "source": [
        "a=np.arange(10,19).reshape(3,-1)"
      ],
      "metadata": {
        "id": "1pmZDoIs-BP-"
      },
      "execution_count": 16,
      "outputs": []
    },
    {
      "cell_type": "code",
      "source": [
        "a"
      ],
      "metadata": {
        "colab": {
          "base_uri": "https://localhost:8080/"
        },
        "id": "xIiMuZ_w-qiG",
        "outputId": "7c84bec1-51d2-4f4c-82bc-301452278607"
      },
      "execution_count": 17,
      "outputs": [
        {
          "output_type": "execute_result",
          "data": {
            "text/plain": [
              "array([[10, 11, 12],\n",
              "       [13, 14, 15],\n",
              "       [16, 17, 18]])"
            ]
          },
          "metadata": {},
          "execution_count": 17
        }
      ]
    },
    {
      "cell_type": "code",
      "source": [
        "a[1][2]"
      ],
      "metadata": {
        "colab": {
          "base_uri": "https://localhost:8080/"
        },
        "id": "OrwWdrub-sLX",
        "outputId": "84215ded-cc9b-46c2-8799-77b6aa8cd70f"
      },
      "execution_count": 18,
      "outputs": [
        {
          "output_type": "execute_result",
          "data": {
            "text/plain": [
              "15"
            ]
          },
          "metadata": {},
          "execution_count": 18
        }
      ]
    },
    {
      "cell_type": "code",
      "source": [
        "a[0,0]"
      ],
      "metadata": {
        "colab": {
          "base_uri": "https://localhost:8080/"
        },
        "id": "iYPyfGgC-u_w",
        "outputId": "2b9a9526-b3a3-4d97-e5ab-6c133368fae8"
      },
      "execution_count": 19,
      "outputs": [
        {
          "output_type": "execute_result",
          "data": {
            "text/plain": [
              "10"
            ]
          },
          "metadata": {},
          "execution_count": 19
        }
      ]
    },
    {
      "cell_type": "code",
      "source": [
        "a[[2,0]]"
      ],
      "metadata": {
        "colab": {
          "base_uri": "https://localhost:8080/"
        },
        "id": "EbnL_ONf-ysW",
        "outputId": "3260a99b-e67a-4519-97d8-bcb09a1dc3b6"
      },
      "execution_count": 20,
      "outputs": [
        {
          "output_type": "execute_result",
          "data": {
            "text/plain": [
              "array([[16, 17, 18],\n",
              "       [10, 11, 12]])"
            ]
          },
          "metadata": {},
          "execution_count": 20
        }
      ]
    },
    {
      "cell_type": "code",
      "source": [
        "m1=np.arange(20).reshape(4,5)"
      ],
      "metadata": {
        "id": "PALoJlDu_L0f"
      },
      "execution_count": 21,
      "outputs": []
    },
    {
      "cell_type": "code",
      "source": [
        "m1"
      ],
      "metadata": {
        "colab": {
          "base_uri": "https://localhost:8080/"
        },
        "id": "76s4ii4l_6ke",
        "outputId": "32587a9c-bb01-45f4-e686-7de3b250e734"
      },
      "execution_count": 22,
      "outputs": [
        {
          "output_type": "execute_result",
          "data": {
            "text/plain": [
              "array([[ 0,  1,  2,  3,  4],\n",
              "       [ 5,  6,  7,  8,  9],\n",
              "       [10, 11, 12, 13, 14],\n",
              "       [15, 16, 17, 18, 19]])"
            ]
          },
          "metadata": {},
          "execution_count": 22
        }
      ]
    },
    {
      "cell_type": "code",
      "source": [
        "m1[0:2]"
      ],
      "metadata": {
        "colab": {
          "base_uri": "https://localhost:8080/"
        },
        "id": "0CGS27AU_9GO",
        "outputId": "3f2d6d92-c4f8-4198-820f-e567ade499c6"
      },
      "execution_count": 23,
      "outputs": [
        {
          "output_type": "execute_result",
          "data": {
            "text/plain": [
              "array([[0, 1, 2, 3, 4],\n",
              "       [5, 6, 7, 8, 9]])"
            ]
          },
          "metadata": {},
          "execution_count": 23
        }
      ]
    },
    {
      "cell_type": "code",
      "source": [
        "m1[-2:]"
      ],
      "metadata": {
        "colab": {
          "base_uri": "https://localhost:8080/"
        },
        "id": "1HNuqioJAIuu",
        "outputId": "1517ab9e-2ce7-4e13-e77f-1a5824272608"
      },
      "execution_count": 24,
      "outputs": [
        {
          "output_type": "execute_result",
          "data": {
            "text/plain": [
              "array([[10, 11, 12, 13, 14],\n",
              "       [15, 16, 17, 18, 19]])"
            ]
          },
          "metadata": {},
          "execution_count": 24
        }
      ]
    },
    {
      "cell_type": "code",
      "source": [
        "#m1[rows slicing,column slicing]"
      ],
      "metadata": {
        "id": "E1J5Lo0JAQ9k"
      },
      "execution_count": 25,
      "outputs": []
    },
    {
      "cell_type": "code",
      "source": [
        "m1[-2:,1:]"
      ],
      "metadata": {
        "colab": {
          "base_uri": "https://localhost:8080/"
        },
        "id": "Q8YcVu50BHWl",
        "outputId": "67c68272-90d2-455a-a04e-417fd96d671a"
      },
      "execution_count": 26,
      "outputs": [
        {
          "output_type": "execute_result",
          "data": {
            "text/plain": [
              "array([[11, 12, 13, 14],\n",
              "       [16, 17, 18, 19]])"
            ]
          },
          "metadata": {},
          "execution_count": 26
        }
      ]
    },
    {
      "cell_type": "code",
      "source": [
        "m1[1:3,0:2]"
      ],
      "metadata": {
        "colab": {
          "base_uri": "https://localhost:8080/"
        },
        "id": "Nnbgag0vBTlF",
        "outputId": "e9da3f64-ee2a-4da5-8c47-07a5047b1bac"
      },
      "execution_count": 27,
      "outputs": [
        {
          "output_type": "execute_result",
          "data": {
            "text/plain": [
              "array([[ 5,  6],\n",
              "       [10, 11]])"
            ]
          },
          "metadata": {},
          "execution_count": 27
        }
      ]
    },
    {
      "cell_type": "code",
      "source": [
        "m1[m1<10]"
      ],
      "metadata": {
        "colab": {
          "base_uri": "https://localhost:8080/"
        },
        "id": "osaneD4yCL3j",
        "outputId": "eaa73d61-ed11-4413-e866-cf4e5f75022b"
      },
      "execution_count": 29,
      "outputs": [
        {
          "output_type": "execute_result",
          "data": {
            "text/plain": [
              "array([0, 1, 2, 3, 4, 5, 6, 7, 8, 9])"
            ]
          },
          "metadata": {},
          "execution_count": 29
        }
      ]
    },
    {
      "cell_type": "code",
      "source": [
        "\n",
        "#o/p is 1d\n",
        "m1[m1%2==0]"
      ],
      "metadata": {
        "colab": {
          "base_uri": "https://localhost:8080/"
        },
        "id": "ygJHBH97DLkT",
        "outputId": "bdb7ce20-1b56-4aa1-8f6c-04fced413aa0"
      },
      "execution_count": 30,
      "outputs": [
        {
          "output_type": "execute_result",
          "data": {
            "text/plain": [
              "array([ 0,  2,  4,  6,  8, 10, 12, 14, 16, 18])"
            ]
          },
          "metadata": {},
          "execution_count": 30
        }
      ]
    },
    {
      "cell_type": "code",
      "source": [
        "a = np.array([0,1,2,3,4,5])\n",
        "mask = (a%2 == 0)\n",
        "a[mask] = -1\n",
        "a"
      ],
      "metadata": {
        "colab": {
          "base_uri": "https://localhost:8080/"
        },
        "id": "GvJwVPnKDm1V",
        "outputId": "d66468b6-c982-4af1-8066-8d2d361b9f20"
      },
      "execution_count": 32,
      "outputs": [
        {
          "output_type": "execute_result",
          "data": {
            "text/plain": [
              "array([-1,  1, -1,  3, -1,  5])"
            ]
          },
          "metadata": {},
          "execution_count": 32
        }
      ]
    },
    {
      "cell_type": "code",
      "source": [
        "a=np.arange(1,6)\n",
        "a"
      ],
      "metadata": {
        "colab": {
          "base_uri": "https://localhost:8080/"
        },
        "id": "P8F_DhgnFEA7",
        "outputId": "4c49754f-cdda-4f1d-c063-cb7dca82bd1b"
      },
      "execution_count": 35,
      "outputs": [
        {
          "output_type": "execute_result",
          "data": {
            "text/plain": [
              "array([1, 2, 3, 4, 5])"
            ]
          },
          "metadata": {},
          "execution_count": 35
        }
      ]
    },
    {
      "cell_type": "code",
      "source": [
        "np.sum(a)"
      ],
      "metadata": {
        "colab": {
          "base_uri": "https://localhost:8080/"
        },
        "id": "_T-3PNALH6Ni",
        "outputId": "26cbad36-1f36-43f1-fdb1-cad76ae3e703"
      },
      "execution_count": 36,
      "outputs": [
        {
          "output_type": "execute_result",
          "data": {
            "text/plain": [
              "15"
            ]
          },
          "metadata": {},
          "execution_count": 36
        }
      ]
    },
    {
      "cell_type": "code",
      "source": [
        "np.mean(a)"
      ],
      "metadata": {
        "colab": {
          "base_uri": "https://localhost:8080/"
        },
        "id": "ig8uE7_TIBqi",
        "outputId": "09d4800f-2a5c-42e8-f064-3449c2d5585a"
      },
      "execution_count": 37,
      "outputs": [
        {
          "output_type": "execute_result",
          "data": {
            "text/plain": [
              "3.0"
            ]
          },
          "metadata": {},
          "execution_count": 37
        }
      ]
    },
    {
      "cell_type": "code",
      "source": [
        "np.min(a)"
      ],
      "metadata": {
        "colab": {
          "base_uri": "https://localhost:8080/"
        },
        "id": "DM4mbFD1IE_7",
        "outputId": "c58c301f-16b4-44fb-d82f-5ffa2fe1b4e1"
      },
      "execution_count": 41,
      "outputs": [
        {
          "output_type": "execute_result",
          "data": {
            "text/plain": [
              "1"
            ]
          },
          "metadata": {},
          "execution_count": 41
        }
      ]
    },
    {
      "cell_type": "code",
      "source": [
        "np.max(a)"
      ],
      "metadata": {
        "colab": {
          "base_uri": "https://localhost:8080/"
        },
        "id": "6lsWNNPHIH5C",
        "outputId": "08e792c8-e474-461f-bb39-3bbbc06a871e"
      },
      "execution_count": 42,
      "outputs": [
        {
          "output_type": "execute_result",
          "data": {
            "text/plain": [
              "5"
            ]
          },
          "metadata": {},
          "execution_count": 42
        }
      ]
    },
    {
      "cell_type": "code",
      "source": [
        "#sum across rows\n",
        "np.sum(m1[0])"
      ],
      "metadata": {
        "colab": {
          "base_uri": "https://localhost:8080/"
        },
        "id": "IjqllBa4IP35",
        "outputId": "860e7713-a645-4aa5-fdfe-9539d97bbb65"
      },
      "execution_count": 45,
      "outputs": [
        {
          "output_type": "execute_result",
          "data": {
            "text/plain": [
              "10"
            ]
          },
          "metadata": {},
          "execution_count": 45
        }
      ]
    },
    {
      "cell_type": "code",
      "source": [
        "np.sum(m1,axis=1) #sum across rows"
      ],
      "metadata": {
        "colab": {
          "base_uri": "https://localhost:8080/"
        },
        "id": "h7K7gBZnIa1Z",
        "outputId": "350d5da6-1db7-43f0-c52d-9acb57956ed2"
      },
      "execution_count": 46,
      "outputs": [
        {
          "output_type": "execute_result",
          "data": {
            "text/plain": [
              "array([10, 35, 60, 85])"
            ]
          },
          "metadata": {},
          "execution_count": 46
        }
      ]
    },
    {
      "cell_type": "code",
      "source": [
        "np.sum(m1,axis=0) #sum across columns"
      ],
      "metadata": {
        "colab": {
          "base_uri": "https://localhost:8080/"
        },
        "id": "n_i8RKhbJ7Ex",
        "outputId": "02c48190-d9c0-4ac7-e7a3-b62e76b8f1ca"
      },
      "execution_count": 47,
      "outputs": [
        {
          "output_type": "execute_result",
          "data": {
            "text/plain": [
              "array([30, 34, 38, 42, 46])"
            ]
          },
          "metadata": {},
          "execution_count": 47
        }
      ]
    },
    {
      "cell_type": "code",
      "source": [
        "np.mean(m1,axis=1)"
      ],
      "metadata": {
        "colab": {
          "base_uri": "https://localhost:8080/"
        },
        "id": "HuyTjYgxKD0w",
        "outputId": "6d03379d-8c30-4fff-9570-6dfe3570af7a"
      },
      "execution_count": 48,
      "outputs": [
        {
          "output_type": "execute_result",
          "data": {
            "text/plain": [
              "array([ 2.,  7., 12., 17.])"
            ]
          },
          "metadata": {},
          "execution_count": 48
        }
      ]
    },
    {
      "cell_type": "code",
      "source": [
        "# np.any(bool array) -> atleast one element need to be true\n",
        "# np.all(bool array)"
      ],
      "metadata": {
        "id": "eu0Sn5-RLM_R"
      },
      "execution_count": 49,
      "outputs": []
    },
    {
      "cell_type": "code",
      "source": [
        "prices = np.array([50, 45, 25, 20, 35])\n",
        "\n",
        "budget = 30\n",
        "\n",
        "can_afford = np.any(budget > prices)\n",
        "\n",
        "if can_afford == True:\n",
        "    print(\"You can buy atleast 1 item on your list\")"
      ],
      "metadata": {
        "colab": {
          "base_uri": "https://localhost:8080/"
        },
        "id": "LffET42fMZpq",
        "outputId": "1b27d7af-d6f3-4748-8af7-258866e338f4"
      },
      "execution_count": 50,
      "outputs": [
        {
          "output_type": "stream",
          "name": "stdout",
          "text": [
            "You can buy atleast 1 item on your list\n"
          ]
        }
      ]
    },
    {
      "cell_type": "code",
      "source": [
        "np.any(budget > prices)"
      ],
      "metadata": {
        "colab": {
          "base_uri": "https://localhost:8080/"
        },
        "id": "qzBUAp2XMcqD",
        "outputId": "b58e0558-c7ae-4f71-e1ef-cd51faa6bfcb"
      },
      "execution_count": 51,
      "outputs": [
        {
          "output_type": "execute_result",
          "data": {
            "text/plain": [
              "True"
            ]
          },
          "metadata": {},
          "execution_count": 51
        }
      ]
    },
    {
      "cell_type": "code",
      "source": [
        "    a = np.array([0,2,3])\n",
        "    b = np.array([1,3,5])\n",
        "a>=b"
      ],
      "metadata": {
        "colab": {
          "base_uri": "https://localhost:8080/"
        },
        "id": "r2YL5xbuMjVI",
        "outputId": "375e8194-c73f-43f6-b3d3-5a17381e5431"
      },
      "execution_count": 52,
      "outputs": [
        {
          "output_type": "execute_result",
          "data": {
            "text/plain": [
              "array([False, False, False])"
            ]
          },
          "metadata": {},
          "execution_count": 52
        }
      ]
    },
    {
      "cell_type": "markdown",
      "source": [
        "#Fitbit EDA"
      ],
      "metadata": {
        "id": "OrFU77YXOM9q"
      }
    },
    {
      "cell_type": "code",
      "source": [
        "!gdown id=1vk1Pu0djiYcrdc85yUXZ_Rqq2oZNcohd\n"
      ],
      "metadata": {
        "colab": {
          "base_uri": "https://localhost:8080/"
        },
        "id": "_nOVdnb6M1Z4",
        "outputId": "470ee303-2ac5-4833-e10a-e88d5ee0e929"
      },
      "execution_count": 56,
      "outputs": [
        {
          "output_type": "stream",
          "name": "stdout",
          "text": [
            "Access denied with the following error:\n",
            "\n",
            " \tCannot retrieve the public link of the file. You may need to change\n",
            "\tthe permission to 'Anyone with the link', or have had many accesses. \n",
            "\n",
            "You may still be able to access the file from the browser:\n",
            "\n",
            "\t https://drive.google.com/uc?id=id=1vk1Pu0djiYcrdc85yUXZ_Rqq2oZNcohd \n",
            "\n"
          ]
        }
      ]
    },
    {
      "cell_type": "code",
      "source": [
        "data=np.loadtxt('fit.txt',dtype='str')"
      ],
      "metadata": {
        "id": "ADiV6AzNOanw"
      },
      "execution_count": 58,
      "outputs": []
    },
    {
      "cell_type": "code",
      "source": [
        "data.shape"
      ],
      "metadata": {
        "colab": {
          "base_uri": "https://localhost:8080/"
        },
        "id": "vJvJ1L87O3Jf",
        "outputId": "a593cec9-31d3-40df-ffa8-4ff1f4a5e1da"
      },
      "execution_count": 59,
      "outputs": [
        {
          "output_type": "execute_result",
          "data": {
            "text/plain": [
              "(96, 6)"
            ]
          },
          "metadata": {},
          "execution_count": 59
        }
      ]
    },
    {
      "cell_type": "code",
      "source": [
        "data[0]"
      ],
      "metadata": {
        "colab": {
          "base_uri": "https://localhost:8080/"
        },
        "id": "9J9FFbX1Paa9",
        "outputId": "dfe6f6b1-2499-4cf2-81aa-13730775e904"
      },
      "execution_count": 60,
      "outputs": [
        {
          "output_type": "execute_result",
          "data": {
            "text/plain": [
              "array(['06-10-2017', '5464', 'Neutral', '181', '5', 'Inactive'],\n",
              "      dtype='<U10')"
            ]
          },
          "metadata": {},
          "execution_count": 60
        }
      ]
    },
    {
      "cell_type": "code",
      "source": [
        "data[-1]"
      ],
      "metadata": {
        "colab": {
          "base_uri": "https://localhost:8080/"
        },
        "id": "M5REM075Pe5m",
        "outputId": "4539cd0d-807b-4571-e707-73d243667f71"
      },
      "execution_count": 61,
      "outputs": [
        {
          "output_type": "execute_result",
          "data": {
            "text/plain": [
              "array(['09-01-2018', '2203', 'Happy', '0', '5', 'Active'], dtype='<U10')"
            ]
          },
          "metadata": {},
          "execution_count": 61
        }
      ]
    },
    {
      "cell_type": "code",
      "source": [
        "data[:5]"
      ],
      "metadata": {
        "colab": {
          "base_uri": "https://localhost:8080/"
        },
        "id": "gigAG3JAPgsW",
        "outputId": "ff02935b-bc80-4c1a-a3ae-0c89a4581355"
      },
      "execution_count": 62,
      "outputs": [
        {
          "output_type": "execute_result",
          "data": {
            "text/plain": [
              "array([['06-10-2017', '5464', 'Neutral', '181', '5', 'Inactive'],\n",
              "       ['07-10-2017', '6041', 'Sad', '197', '8', 'Inactive'],\n",
              "       ['08-10-2017', '25', 'Sad', '0', '5', 'Inactive'],\n",
              "       ['09-10-2017', '5461', 'Sad', '174', '4', 'Inactive'],\n",
              "       ['10-10-2017', '6915', 'Neutral', '223', '5', 'Active']],\n",
              "      dtype='<U10')"
            ]
          },
          "metadata": {},
          "execution_count": 62
        }
      ]
    },
    {
      "cell_type": "code",
      "source": [
        "data.T"
      ],
      "metadata": {
        "colab": {
          "base_uri": "https://localhost:8080/"
        },
        "id": "gQs-_hG5PjPt",
        "outputId": "ce5ab2cb-8ab5-4996-fcab-0694e8636061"
      },
      "execution_count": 64,
      "outputs": [
        {
          "output_type": "execute_result",
          "data": {
            "text/plain": [
              "array([['06-10-2017', '07-10-2017', '08-10-2017', '09-10-2017',\n",
              "        '10-10-2017', '11-10-2017', '12-10-2017', '13-10-2017',\n",
              "        '14-10-2017', '15-10-2017', '16-10-2017', '17-10-2017',\n",
              "        '18-10-2017', '19-10-2017', '20-10-2017', '21-10-2017',\n",
              "        '22-10-2017', '23-10-2017', '24-10-2017', '25-10-2017',\n",
              "        '26-10-2017', '27-10-2017', '28-10-2017', '29-10-2017',\n",
              "        '30-10-2017', '31-10-2017', '01-11-2017', '02-11-2017',\n",
              "        '03-11-2017', '04-11-2017', '05-11-2017', '06-11-2017',\n",
              "        '07-11-2017', '08-11-2017', '09-11-2017', '10-11-2017',\n",
              "        '11-11-2017', '12-11-2017', '13-11-2017', '14-11-2017',\n",
              "        '15-11-2017', '16-11-2017', '17-11-2017', '18-11-2017',\n",
              "        '19-11-2017', '20-11-2017', '21-11-2017', '22-11-2017',\n",
              "        '23-11-2017', '24-11-2017', '25-11-2017', '26-11-2017',\n",
              "        '27-11-2017', '28-11-2017', '29-11-2017', '30-11-2017',\n",
              "        '01-12-2017', '02-12-2017', '03-12-2017', '04-12-2017',\n",
              "        '05-12-2017', '06-12-2017', '07-12-2017', '08-12-2017',\n",
              "        '09-12-2017', '10-12-2017', '11-12-2017', '12-12-2017',\n",
              "        '13-12-2017', '14-12-2017', '15-12-2017', '16-12-2017',\n",
              "        '17-12-2017', '18-12-2017', '19-12-2017', '20-12-2017',\n",
              "        '21-12-2017', '22-12-2017', '23-12-2017', '24-12-2017',\n",
              "        '25-12-2017', '26-12-2017', '27-12-2017', '28-12-2017',\n",
              "        '29-12-2017', '30-12-2017', '31-12-2017', '01-01-2018',\n",
              "        '02-01-2018', '03-01-2018', '04-01-2018', '05-01-2018',\n",
              "        '06-01-2018', '07-01-2018', '08-01-2018', '09-01-2018'],\n",
              "       ['5464', '6041', '25', '5461', '6915', '4545', '4340', '1230',\n",
              "        '61', '1258', '3148', '4687', '4732', '3519', '1580', '2822',\n",
              "        '181', '3158', '4383', '3881', '4037', '202', '292', '330',\n",
              "        '2209', '4550', '4435', '4779', '1831', '2255', '539', '5464',\n",
              "        '6041', '4068', '4683', '4033', '6314', '614', '3149', '4005',\n",
              "        '4880', '4136', '705', '570', '269', '4275', '5999', '4421',\n",
              "        '6930', '5195', '546', '493', '995', '1163', '6676', '3608',\n",
              "        '774', '1421', '4064', '2725', '5934', '1867', '3721', '2374',\n",
              "        '2909', '1648', '799', '7102', '3941', '7422', '437', '1231',\n",
              "        '1696', '4921', '221', '6500', '3575', '4061', '651', '753',\n",
              "        '518', '5537', '4108', '5376', '3066', '177', '36', '299',\n",
              "        '1447', '2599', '702', '133', '153', '500', '2127', '2203'],\n",
              "       ['Neutral', 'Sad', 'Sad', 'Sad', 'Neutral', 'Sad', 'Sad', 'Sad',\n",
              "        'Sad', 'Sad', 'Sad', 'Sad', 'Happy', 'Sad', 'Sad', 'Sad', 'Sad',\n",
              "        'Neutral', 'Neutral', 'Neutral', 'Neutral', 'Neutral', 'Neutral',\n",
              "        'Happy', 'Neutral', 'Happy', 'Happy', 'Happy', 'Happy', 'Happy',\n",
              "        'Happy', 'Happy', 'Neutral', 'Happy', 'Happy', 'Happy', 'Happy',\n",
              "        'Happy', 'Happy', 'Happy', 'Happy', 'Happy', 'Happy', 'Neutral',\n",
              "        'Happy', 'Happy', 'Happy', 'Happy', 'Happy', 'Happy', 'Happy',\n",
              "        'Happy', 'Happy', 'Neutral', 'Sad', 'Happy', 'Happy', 'Happy',\n",
              "        'Happy', 'Happy', 'Happy', 'Happy', 'Sad', 'Neutral', 'Neutral',\n",
              "        'Sad', 'Sad', 'Neutral', 'Neutral', 'Happy', 'Neutral',\n",
              "        'Neutral', 'Sad', 'Neutral', 'Sad', 'Neutral', 'Neutral', 'Sad',\n",
              "        'Sad', 'Sad', 'Sad', 'Happy', 'Neutral', 'Happy', 'Neutral',\n",
              "        'Sad', 'Sad', 'Sad', 'Neutral', 'Neutral', 'Sad', 'Sad', 'Happy',\n",
              "        'Neutral', 'Neutral', 'Happy'],\n",
              "       ['181', '197', '0', '174', '223', '149', '140', '38', '1', '40',\n",
              "        '101', '152', '150', '113', '49', '86', '6', '99', '143', '125',\n",
              "        '129', '6', '9', '10', '72', '150', '141', '156', '57', '72',\n",
              "        '17', '181', '197', '131', '154', '137', '193', '19', '101',\n",
              "        '139', '164', '137', '22', '17', '9', '145', '192', '146', '234',\n",
              "        '167', '16', '17', '32', '35', '220', '116', '23', '44', '131',\n",
              "        '86', '194', '60', '121', '76', '93', '53', '25', '227', '125',\n",
              "        '243', '14', '39', '55', '158', '7', '213', '116', '129', '21',\n",
              "        '28', '16', '180', '138', '176', '99', '5', '1', '10', '47',\n",
              "        '84', '23', '4', '0', '0', '0', '0'],\n",
              "       ['5', '8', '5', '4', '5', '6', '6', '7', '5', '6', '8', '5', '6',\n",
              "        '7', '5', '6', '8', '5', '4', '5', '6', '8', '5', '6', '5', '8',\n",
              "        '5', '4', '5', '4', '5', '4', '3', '2', '9', '5', '6', '4', '5',\n",
              "        '8', '4', '5', '6', '5', '6', '5', '6', '5', '6', '5', '6', '7',\n",
              "        '6', '7', '6', '5', '6', '7', '8', '8', '7', '8', '5', '4', '3',\n",
              "        '3', '4', '5', '5', '5', '3', '4', '4', '5', '5', '5', '5', '5',\n",
              "        '5', '4', '3', '4', '5', '5', '4', '5', '3', '3', '3', '2', '3',\n",
              "        '2', '8', '5', '5', '5'],\n",
              "       ['Inactive', 'Inactive', 'Inactive', 'Inactive', 'Active',\n",
              "        'Inactive', 'Inactive', 'Inactive', 'Inactive', 'Inactive',\n",
              "        'Inactive', 'Inactive', 'Active', 'Inactive', 'Inactive',\n",
              "        'Inactive', 'Inactive', 'Inactive', 'Inactive', 'Inactive',\n",
              "        'Inactive', 'Inactive', 'Inactive', 'Inactive', 'Inactive',\n",
              "        'Active', 'Inactive', 'Inactive', 'Inactive', 'Inactive',\n",
              "        'Active', 'Inactive', 'Inactive', 'Inactive', 'Inactive',\n",
              "        'Inactive', 'Active', 'Active', 'Active', 'Active', 'Active',\n",
              "        'Active', 'Active', 'Active', 'Active', 'Inactive', 'Inactive',\n",
              "        'Inactive', 'Inactive', 'Inactive', 'Inactive', 'Active',\n",
              "        'Active', 'Active', 'Active', 'Active', 'Active', 'Active',\n",
              "        'Active', 'Active', 'Active', 'Active', 'Active', 'Inactive',\n",
              "        'Active', 'Active', 'Inactive', 'Active', 'Active', 'Active',\n",
              "        'Active', 'Active', 'Inactive', 'Active', 'Active', 'Active',\n",
              "        'Active', 'Inactive', 'Inactive', 'Inactive', 'Inactive',\n",
              "        'Active', 'Active', 'Active', 'Active', 'Inactive', 'Inactive',\n",
              "        'Inactive', 'Inactive', 'Inactive', 'Inactive', 'Inactive',\n",
              "        'Inactive', 'Active', 'Inactive', 'Active']], dtype='<U10')"
            ]
          },
          "metadata": {},
          "execution_count": 64
        }
      ]
    },
    {
      "cell_type": "code",
      "source": [
        "date,step_count,mood,calories_burnt,hours_of_sleep,activity_status=data.T"
      ],
      "metadata": {
        "id": "dUceTzNcQIHG"
      },
      "execution_count": 72,
      "outputs": []
    },
    {
      "cell_type": "code",
      "source": [
        "date"
      ],
      "metadata": {
        "colab": {
          "base_uri": "https://localhost:8080/"
        },
        "id": "FSFI70NwQon1",
        "outputId": "44eca18a-0e81-43a4-88d4-6577f1083a5a"
      },
      "execution_count": 73,
      "outputs": [
        {
          "output_type": "execute_result",
          "data": {
            "text/plain": [
              "array(['06-10-2017', '07-10-2017', '08-10-2017', '09-10-2017',\n",
              "       '10-10-2017', '11-10-2017', '12-10-2017', '13-10-2017',\n",
              "       '14-10-2017', '15-10-2017', '16-10-2017', '17-10-2017',\n",
              "       '18-10-2017', '19-10-2017', '20-10-2017', '21-10-2017',\n",
              "       '22-10-2017', '23-10-2017', '24-10-2017', '25-10-2017',\n",
              "       '26-10-2017', '27-10-2017', '28-10-2017', '29-10-2017',\n",
              "       '30-10-2017', '31-10-2017', '01-11-2017', '02-11-2017',\n",
              "       '03-11-2017', '04-11-2017', '05-11-2017', '06-11-2017',\n",
              "       '07-11-2017', '08-11-2017', '09-11-2017', '10-11-2017',\n",
              "       '11-11-2017', '12-11-2017', '13-11-2017', '14-11-2017',\n",
              "       '15-11-2017', '16-11-2017', '17-11-2017', '18-11-2017',\n",
              "       '19-11-2017', '20-11-2017', '21-11-2017', '22-11-2017',\n",
              "       '23-11-2017', '24-11-2017', '25-11-2017', '26-11-2017',\n",
              "       '27-11-2017', '28-11-2017', '29-11-2017', '30-11-2017',\n",
              "       '01-12-2017', '02-12-2017', '03-12-2017', '04-12-2017',\n",
              "       '05-12-2017', '06-12-2017', '07-12-2017', '08-12-2017',\n",
              "       '09-12-2017', '10-12-2017', '11-12-2017', '12-12-2017',\n",
              "       '13-12-2017', '14-12-2017', '15-12-2017', '16-12-2017',\n",
              "       '17-12-2017', '18-12-2017', '19-12-2017', '20-12-2017',\n",
              "       '21-12-2017', '22-12-2017', '23-12-2017', '24-12-2017',\n",
              "       '25-12-2017', '26-12-2017', '27-12-2017', '28-12-2017',\n",
              "       '29-12-2017', '30-12-2017', '31-12-2017', '01-01-2018',\n",
              "       '02-01-2018', '03-01-2018', '04-01-2018', '05-01-2018',\n",
              "       '06-01-2018', '07-01-2018', '08-01-2018', '09-01-2018'],\n",
              "      dtype='<U10')"
            ]
          },
          "metadata": {},
          "execution_count": 73
        }
      ]
    },
    {
      "cell_type": "code",
      "source": [
        "step_count=step_count.astype('int')"
      ],
      "metadata": {
        "id": "ViukWJQTQuBm"
      },
      "execution_count": 74,
      "outputs": []
    },
    {
      "cell_type": "code",
      "source": [
        "np.mean(step_count)"
      ],
      "metadata": {
        "colab": {
          "base_uri": "https://localhost:8080/"
        },
        "id": "4PoxenrJQ_xd",
        "outputId": "65b8be72-33c3-4c0a-c748-cc3edf5e4fcc"
      },
      "execution_count": 75,
      "outputs": [
        {
          "output_type": "execute_result",
          "data": {
            "text/plain": [
              "2935.9375"
            ]
          },
          "metadata": {},
          "execution_count": 75
        }
      ]
    },
    {
      "cell_type": "code",
      "source": [
        "hours_of_sleep=hours_of_sleep.astype('int')"
      ],
      "metadata": {
        "id": "6UNyHkGYRY_t"
      },
      "execution_count": 76,
      "outputs": []
    },
    {
      "cell_type": "code",
      "source": [
        "np.mean(hours_of_sleep)"
      ],
      "metadata": {
        "colab": {
          "base_uri": "https://localhost:8080/"
        },
        "id": "MIlXMRolRsM1",
        "outputId": "ea30627b-d821-4489-eda6-dc201f90d73b"
      },
      "execution_count": 77,
      "outputs": [
        {
          "output_type": "execute_result",
          "data": {
            "text/plain": [
              "5.21875"
            ]
          },
          "metadata": {},
          "execution_count": 77
        }
      ]
    },
    {
      "cell_type": "code",
      "source": [
        "hours_of_sleep[hours_of_sleep>7].size"
      ],
      "metadata": {
        "colab": {
          "base_uri": "https://localhost:8080/"
        },
        "id": "CXaoFSw0RzVF",
        "outputId": "b7d79c7b-c2fe-4a46-dde1-5973c8192469"
      },
      "execution_count": 80,
      "outputs": [
        {
          "output_type": "execute_result",
          "data": {
            "text/plain": [
              "11"
            ]
          },
          "metadata": {},
          "execution_count": 80
        }
      ]
    },
    {
      "cell_type": "code",
      "source": [
        "mood[mood=='Happy'].size"
      ],
      "metadata": {
        "colab": {
          "base_uri": "https://localhost:8080/"
        },
        "id": "qs18e09SR5_N",
        "outputId": "ee29cfab-4ae5-4b24-9393-18d4861d7e84"
      },
      "execution_count": 83,
      "outputs": [
        {
          "output_type": "execute_result",
          "data": {
            "text/plain": [
              "40"
            ]
          },
          "metadata": {},
          "execution_count": 83
        }
      ]
    },
    {
      "cell_type": "code",
      "source": [
        "step_count[mood=='Happy'].mean()"
      ],
      "metadata": {
        "colab": {
          "base_uri": "https://localhost:8080/"
        },
        "id": "0s7KuIwCSc0k",
        "outputId": "8bceb754-1e45-4109-fb28-b475694bbbff"
      },
      "execution_count": 84,
      "outputs": [
        {
          "output_type": "execute_result",
          "data": {
            "text/plain": [
              "3392.725"
            ]
          },
          "metadata": {},
          "execution_count": 84
        }
      ]
    },
    {
      "cell_type": "code",
      "source": [
        "step_count[mood=='Sad'].mean()"
      ],
      "metadata": {
        "colab": {
          "base_uri": "https://localhost:8080/"
        },
        "id": "0Ipgc0-aS011",
        "outputId": "60ff81ac-1f42-4e95-f509-66bc0dd625a5"
      },
      "execution_count": 85,
      "outputs": [
        {
          "output_type": "execute_result",
          "data": {
            "text/plain": [
              "2103.0689655172414"
            ]
          },
          "metadata": {},
          "execution_count": 85
        }
      ]
    },
    {
      "cell_type": "code",
      "source": [
        "mood[step_count>4000]"
      ],
      "metadata": {
        "colab": {
          "base_uri": "https://localhost:8080/"
        },
        "id": "Pyn4DQIXS4pt",
        "outputId": "f7478ea6-4b1b-4f85-cf5e-a857c493081b"
      },
      "execution_count": 86,
      "outputs": [
        {
          "output_type": "execute_result",
          "data": {
            "text/plain": [
              "array(['Neutral', 'Sad', 'Sad', 'Neutral', 'Sad', 'Sad', 'Sad', 'Happy',\n",
              "       'Neutral', 'Neutral', 'Happy', 'Happy', 'Happy', 'Happy',\n",
              "       'Neutral', 'Happy', 'Happy', 'Happy', 'Happy', 'Happy', 'Happy',\n",
              "       'Happy', 'Happy', 'Happy', 'Happy', 'Happy', 'Happy', 'Sad',\n",
              "       'Happy', 'Happy', 'Neutral', 'Happy', 'Neutral', 'Neutral', 'Sad',\n",
              "       'Happy', 'Neutral', 'Happy'], dtype='<U10')"
            ]
          },
          "metadata": {},
          "execution_count": 86
        }
      ]
    },
    {
      "cell_type": "code",
      "source": [],
      "metadata": {
        "id": "iz6w5lv-TSus"
      },
      "execution_count": null,
      "outputs": []
    }
  ]
}