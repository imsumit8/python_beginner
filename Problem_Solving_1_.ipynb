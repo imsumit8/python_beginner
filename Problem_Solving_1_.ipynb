{
  "nbformat": 4,
  "nbformat_minor": 0,
  "metadata": {
    "colab": {
      "provenance": [],
      "authorship_tag": "ABX9TyMFgvTRq18Q078rxXT14XUY",
      "include_colab_link": true
    },
    "kernelspec": {
      "name": "python3",
      "display_name": "Python 3"
    },
    "language_info": {
      "name": "python"
    }
  },
  "cells": [
    {
      "cell_type": "markdown",
      "metadata": {
        "id": "view-in-github",
        "colab_type": "text"
      },
      "source": [
        "<a href=\"https://colab.research.google.com/github/imsumit8/python_beginner/blob/main/Problem_Solving_1_.ipynb\" target=\"_parent\"><img src=\"https://colab.research.google.com/assets/colab-badge.svg\" alt=\"Open In Colab\"/></a>"
      ]
    },
    {
      "cell_type": "code",
      "execution_count": 1,
      "metadata": {
        "colab": {
          "base_uri": "https://localhost:8080/",
          "height": 210
        },
        "id": "ghLp3n-1RvMM",
        "outputId": "a1349279-33a8-41f5-9add-e4ebf2fad44f"
      },
      "outputs": [
        {
          "output_type": "error",
          "ename": "ValueError",
          "evalue": "ignored",
          "traceback": [
            "\u001b[0;31m---------------------------------------------------------------------------\u001b[0m",
            "\u001b[0;31mValueError\u001b[0m                                Traceback (most recent call last)",
            "\u001b[0;32m<ipython-input-1-fa9541e8d964>\u001b[0m in \u001b[0;36m<cell line: 4>\u001b[0;34m()\u001b[0m\n\u001b[1;32m      2\u001b[0m \u001b[0;31m# 5 data types\u001b[0m\u001b[0;34m\u001b[0m\u001b[0;34m\u001b[0m\u001b[0m\n\u001b[1;32m      3\u001b[0m \u001b[0;31m## str, int,float,bool,None\u001b[0m\u001b[0;34m\u001b[0m\u001b[0;34m\u001b[0m\u001b[0m\n\u001b[0;32m----> 4\u001b[0;31m \u001b[0mint\u001b[0m\u001b[0;34m(\u001b[0m\u001b[0;34m\"2.5\"\u001b[0m\u001b[0;34m)\u001b[0m\u001b[0;34m\u001b[0m\u001b[0;34m\u001b[0m\u001b[0m\n\u001b[0m",
            "\u001b[0;31mValueError\u001b[0m: invalid literal for int() with base 10: '2.5'"
          ]
        }
      ],
      "source": [
        "# recap\n",
        "# 5 data types\n",
        "## str, int,float,bool,None\n",
        "int(\"2.5\")"
      ]
    },
    {
      "cell_type": "code",
      "source": [
        "int(\"2\")"
      ],
      "metadata": {
        "colab": {
          "base_uri": "https://localhost:8080/"
        },
        "id": "M6Ok_ZakTKAg",
        "outputId": "96bb0e90-5852-4293-a7e6-4c214eff0c64"
      },
      "execution_count": 2,
      "outputs": [
        {
          "output_type": "execute_result",
          "data": {
            "text/plain": [
              "2"
            ]
          },
          "metadata": {},
          "execution_count": 2
        }
      ]
    },
    {
      "cell_type": "code",
      "source": [
        "❓Print the correct python code that will print the following pattern.\n",
        "** ***** ******"
      ],
      "metadata": {
        "colab": {
          "base_uri": "https://localhost:8080/",
          "height": 140
        },
        "id": "Fe-N-LQ6TQTA",
        "outputId": "34bcc356-5ef2-42a6-92e6-ae6129652849"
      },
      "execution_count": 3,
      "outputs": [
        {
          "output_type": "error",
          "ename": "SyntaxError",
          "evalue": "ignored",
          "traceback": [
            "\u001b[0;36m  File \u001b[0;32m\"<ipython-input-3-bd9aeef3dd59>\"\u001b[0;36m, line \u001b[0;32m1\u001b[0m\n\u001b[0;31m    ❓Print the correct python code that will print the following pattern.\u001b[0m\n\u001b[0m    ^\u001b[0m\n\u001b[0;31mSyntaxError\u001b[0m\u001b[0;31m:\u001b[0m invalid character '❓' (U+2753)\n"
          ]
        }
      ]
    },
    {
      "cell_type": "code",
      "source": [
        "print(\"**\\n*****\\n******\")"
      ],
      "metadata": {
        "colab": {
          "base_uri": "https://localhost:8080/"
        },
        "id": "D0bnMPnVTz7-",
        "outputId": "14bc54f8-1af9-4a07-ccc4-d429f34f3352"
      },
      "execution_count": 5,
      "outputs": [
        {
          "output_type": "stream",
          "name": "stdout",
          "text": [
            "**\n",
            "*****\n",
            "******\n"
          ]
        }
      ]
    },
    {
      "cell_type": "code",
      "source": [
        "print('''**\n",
        "*****\n",
        "******\n",
        "''')"
      ],
      "metadata": {
        "colab": {
          "base_uri": "https://localhost:8080/"
        },
        "id": "bAXv1RXlUKWW",
        "outputId": "a5b442a3-49cd-4a8a-f371-fd1b718a6a57"
      },
      "execution_count": 7,
      "outputs": [
        {
          "output_type": "stream",
          "name": "stdout",
          "text": [
            "**\n",
            "*****\n",
            "******\n",
            "\n"
          ]
        }
      ]
    },
    {
      "cell_type": "code",
      "source": [
        "print('*'*2)\n",
        "print('*'*5)\n",
        "print('*'*6)"
      ],
      "metadata": {
        "colab": {
          "base_uri": "https://localhost:8080/"
        },
        "id": "n6PcjzvvUlwO",
        "outputId": "6891dc48-b986-4526-e13d-5c713f1cc940"
      },
      "execution_count": 8,
      "outputs": [
        {
          "output_type": "stream",
          "name": "stdout",
          "text": [
            "**\n",
            "*****\n",
            "******\n"
          ]
        }
      ]
    },
    {
      "cell_type": "code",
      "source": [
        "print('*'*2,'*'*5,'*'*6,sep=\"\\n\")"
      ],
      "metadata": {
        "colab": {
          "base_uri": "https://localhost:8080/"
        },
        "id": "p4v-BKa1U8XO",
        "outputId": "27730cd4-fd87-4f77-f588-5b0f420c7907"
      },
      "execution_count": 9,
      "outputs": [
        {
          "output_type": "stream",
          "name": "stdout",
          "text": [
            "**\n",
            "*****\n",
            "******\n"
          ]
        }
      ]
    },
    {
      "cell_type": "code",
      "source": [
        "M=input()\n",
        "N=input()\n",
        "print(M+\"$\"+N)\n",
        "print(M,N,sep=\"$\")\n",
        "print(M,\"$\",N,sep=\"\")\n"
      ],
      "metadata": {
        "colab": {
          "base_uri": "https://localhost:8080/"
        },
        "id": "1_zpRZX1VLxN",
        "outputId": "73703543-66f5-440b-d030-74afbbe0f484"
      },
      "execution_count": 13,
      "outputs": [
        {
          "output_type": "stream",
          "name": "stdout",
          "text": [
            "hello\n",
            "world'\n",
            "hello$world'\n",
            "hello$world'\n",
            "hello$world'\n"
          ]
        }
      ]
    },
    {
      "cell_type": "code",
      "source": [
        "print(type(int(float(2.2))))"
      ],
      "metadata": {
        "colab": {
          "base_uri": "https://localhost:8080/"
        },
        "id": "Dv3tJZF_VmiV",
        "outputId": "9c5d580c-4e36-49ba-9877-084312cd0f1e"
      },
      "execution_count": 15,
      "outputs": [
        {
          "output_type": "stream",
          "name": "stdout",
          "text": [
            "<class 'int'>\n"
          ]
        }
      ]
    },
    {
      "cell_type": "code",
      "source": [
        "print(type(str(float(input()))))\n",
        "print(str(float((input()))))"
      ],
      "metadata": {
        "colab": {
          "base_uri": "https://localhost:8080/"
        },
        "id": "dIggFqgHXP2N",
        "outputId": "8481189e-d00a-4551-82b6-bd7325ff5a42"
      },
      "execution_count": 18,
      "outputs": [
        {
          "output_type": "stream",
          "name": "stdout",
          "text": [
            "2\n",
            "<class 'str'>\n",
            "2\n",
            "2.0\n"
          ]
        }
      ]
    },
    {
      "cell_type": "code",
      "source": [
        "bool(False-1)\n",
        "bool(True-3)"
      ],
      "metadata": {
        "colab": {
          "base_uri": "https://localhost:8080/"
        },
        "id": "dhQvfHzfYUgU",
        "outputId": "f82f5c56-e3ae-43d2-e064-32d9d23c2b0d"
      },
      "execution_count": 20,
      "outputs": [
        {
          "output_type": "execute_result",
          "data": {
            "text/plain": [
              "True"
            ]
          },
          "metadata": {},
          "execution_count": 20
        }
      ]
    },
    {
      "cell_type": "code",
      "source": [
        "print(True+3)"
      ],
      "metadata": {
        "colab": {
          "base_uri": "https://localhost:8080/"
        },
        "id": "drdXvZ3nZDPk",
        "outputId": "942a6e87-e245-416c-da72-75e39245c9de"
      },
      "execution_count": 22,
      "outputs": [
        {
          "output_type": "stream",
          "name": "stdout",
          "text": [
            "4\n"
          ]
        }
      ]
    },
    {
      "cell_type": "code",
      "source": [
        "print(-50%7) # Hint: by definition remainder cannot be negative\n",
        "# -50=-7*7+(-1)\n",
        "## -50=-7*8+(6)\n"
      ],
      "metadata": {
        "colab": {
          "base_uri": "https://localhost:8080/"
        },
        "id": "xvPZT9LYZNDk",
        "outputId": "87a44b14-20fd-4a9d-8315-9f23fccb6496"
      },
      "execution_count": 24,
      "outputs": [
        {
          "output_type": "stream",
          "name": "stdout",
          "text": [
            "6\n"
          ]
        }
      ]
    },
    {
      "cell_type": "code",
      "source": [
        "print('''❓Pac-man Problem Description In this exercise,\n",
        "you need to implement some rules from Pac-Man,\n",
        "the classic 1980s-era arcade-game. You have to answer whether the Pac-Man loses or not.\n",
        "Your are given the following integer inputs (0 / 1) one in each line:\n",
        " 1. Does the Pac-Man have a power pellect active?\n",
        "  2. Is the Pac-Man touching a ghost? The Pac-Man loses if it is touching a ghost and **does not **have a power pellet active.\n",
        "''')"
      ],
      "metadata": {
        "colab": {
          "base_uri": "https://localhost:8080/"
        },
        "id": "XmyaGy_Sa1X7",
        "outputId": "f1a18496-98e9-485c-e64f-283d8b54a0b4"
      },
      "execution_count": 25,
      "outputs": [
        {
          "output_type": "stream",
          "name": "stdout",
          "text": [
            "❓Pac-man Problem Description In this exercise, \n",
            "you need to implement some rules from Pac-Man, \n",
            "the classic 1980s-era arcade-game. You have to answer whether the Pac-Man loses or not. \n",
            "Your are given the following integer inputs (0 / 1) one in each line:\n",
            " 1. Does the Pac-Man have a power pellect active?\n",
            "  2. Is the Pac-Man touching a ghost? The Pac-Man loses if it is touching a ghost and **does not **have a power pellet active.\n",
            "\n"
          ]
        }
      ]
    },
    {
      "cell_type": "code",
      "source": [
        "power=int(input())\n",
        "touching_ghost=int(input())\n",
        "\n",
        "if power==0 and touching_ghost==1:\n",
        "  print(\"lose!\")\n",
        "else:\n",
        "  print(\"GO ON\")\n"
      ],
      "metadata": {
        "colab": {
          "base_uri": "https://localhost:8080/"
        },
        "id": "ySo8AWsEclkr",
        "outputId": "18f069c8-331b-4874-a3d1-c945637dc9b6"
      },
      "execution_count": 27,
      "outputs": [
        {
          "output_type": "stream",
          "name": "stdout",
          "text": [
            "1\n",
            "1\n",
            "GO ON\n"
          ]
        }
      ]
    },
    {
      "cell_type": "code",
      "source": [
        "power=int(input())\n",
        "touching_ghost=int(input())\n",
        "\n",
        "if not power and touching_ghost:\n",
        "  print(\"lose!\")\n",
        "else:\n",
        "  print(\"GO ON\")\n"
      ],
      "metadata": {
        "colab": {
          "base_uri": "https://localhost:8080/"
        },
        "id": "ci02JavwdX50",
        "outputId": "60eb73fd-c3b8-47b3-a0fa-c385fe8058e1"
      },
      "execution_count": 28,
      "outputs": [
        {
          "output_type": "stream",
          "name": "stdout",
          "text": [
            "0\n",
            "1\n",
            "lose!\n"
          ]
        }
      ]
    },
    {
      "cell_type": "code",
      "source": [
        "print('''Take an amount as input from the user\n",
        "You only have 200 and 500 Rs Notes in the ATM. For one transaction,\n",
        "you can only dispatch notes of a single type.\n",
        "Given the amount -\n",
        "- \"Dispatching Cash!\" if it can be dispatched.\n",
        "- \"Denomination not available!\" if it can not be''')"
      ],
      "metadata": {
        "colab": {
          "base_uri": "https://localhost:8080/"
        },
        "id": "y5gQurB_eWy6",
        "outputId": "ea67aee8-72fb-412b-af31-dd7cf4e81eab"
      },
      "execution_count": 29,
      "outputs": [
        {
          "output_type": "stream",
          "name": "stdout",
          "text": [
            "Take an amount as input from the user\n",
            "You only have 200 and 500 Rs Notes in the ATM. For one transaction,\n",
            "you can only dispatch notes of a single type.\n",
            "Given the amount -\n",
            "- \"Dispatching Cash!\" if it can be dispatched.\n",
            "- \"Denomination not available!\" if it can not be\n"
          ]
        }
      ]
    },
    {
      "cell_type": "code",
      "source": [
        "amount=int(input())\n",
        "if amount%200!=0 and amount%500!= 0:\n",
        "  print(\"Denomination not available\")\n",
        "else:\n",
        "  print(\"Dispatching cash\")"
      ],
      "metadata": {
        "colab": {
          "base_uri": "https://localhost:8080/"
        },
        "id": "8oucZknciJDC",
        "outputId": "b8d5e91a-40e1-4bdc-c76e-83e7e336c915"
      },
      "execution_count": 32,
      "outputs": [
        {
          "output_type": "stream",
          "name": "stdout",
          "text": [
            "400\n",
            "Dispatching cash\n"
          ]
        }
      ]
    },
    {
      "cell_type": "code",
      "source": [
        "number=int(input(\"please enter a positive integer: \"))\n",
        "print(number%100)"
      ],
      "metadata": {
        "colab": {
          "base_uri": "https://localhost:8080/"
        },
        "id": "bAwsGCjai0Ph",
        "outputId": "6e9ffa70-7f54-42c3-c930-200a00a42e69"
      },
      "execution_count": 34,
      "outputs": [
        {
          "output_type": "stream",
          "name": "stdout",
          "text": [
            "please enter a positive integer: 5677854\n",
            "54\n"
          ]
        }
      ]
    },
    {
      "cell_type": "code",
      "source": [
        "number=int(input(\"please enter a positive integer: \"))\n",
        "remainder_2=number%100\n",
        "# remove left then right\n",
        "print(int(remainder_2/10))\n",
        "print(remainder_2//10)"
      ],
      "metadata": {
        "colab": {
          "base_uri": "https://localhost:8080/"
        },
        "id": "SBvMbBNWkFDZ",
        "outputId": "2547e15d-1f51-420d-f156-7b8df4685692"
      },
      "execution_count": 37,
      "outputs": [
        {
          "output_type": "stream",
          "name": "stdout",
          "text": [
            "please enter a positive integer: 76543\n",
            "4\n",
            "4\n"
          ]
        }
      ]
    },
    {
      "cell_type": "code",
      "source": [
        "print('''\n",
        "❓Build a meter system for an auto. Take into two inputs.\n",
        "Kilometers Travelled and Stall Time (in minutes). Rate List -\n",
        "First 10 kms - Rs 10 per Km\n",
        "Next 40 kms - Rs 9 per Km\n",
        "Next 100 kms - Rs 8 per Km\n",
        "Any leftover km count - Rs. 6 per Km\n",
        "Rs 5 extra for every minute of Stall Time.\n",
        "''')"
      ],
      "metadata": {
        "colab": {
          "base_uri": "https://localhost:8080/"
        },
        "id": "x9129F8Sk8XA",
        "outputId": "7e0ef0f2-03e3-4e73-b478-6763f58b54cf"
      },
      "execution_count": 38,
      "outputs": [
        {
          "output_type": "stream",
          "name": "stdout",
          "text": [
            "\n",
            "❓Build a meter system for an auto. Take into two inputs.\n",
            "Kilometers Travelled and Stall Time (in minutes). Rate List -\n",
            "First 10 kms - Rs 10 per Km\n",
            "Next 40 kms - Rs 9 per Km\n",
            "Next 100 kms - Rs 8 per Km\n",
            "Any leftover km count - Rs. 6 per Km\n",
            "Rs 5 extra for every minute of Stall Time.\n",
            "\n"
          ]
        }
      ]
    },
    {
      "cell_type": "code",
      "source": [
        "km_travelled=int(input())\n",
        "stall_time=int(input())\n",
        "amount=0\n",
        "if km_travelled<=10:\n",
        "  amount=10*km_travelled\n",
        "elif  km_travelled<=50:\n",
        "  amount=100+9*(km_travelled-10)\n",
        "elif km_travelled<=150:\n",
        "  amount=100+40*9+(km_travelled-50)*8\n",
        "else:\n",
        "  amount=100+40*9+100*8+(km_travelled-150)*6\n",
        "print(\"Distance fare: \",amount)\n",
        "print(\"Stall fare: \",stall_time*5)\n",
        "print(amount+stall_time*5)"
      ],
      "metadata": {
        "colab": {
          "base_uri": "https://localhost:8080/"
        },
        "id": "LSwgkrFrncmI",
        "outputId": "fbd18a34-29e9-47cb-9fa6-e00bccd136e8"
      },
      "execution_count": 41,
      "outputs": [
        {
          "output_type": "stream",
          "name": "stdout",
          "text": [
            "120\n",
            "6\n",
            "Distance fare:  1020\n",
            "Stall fare:  30\n",
            "1050\n"
          ]
        }
      ]
    },
    {
      "cell_type": "code",
      "source": [],
      "metadata": {
        "id": "N1aCvBbcpQW4"
      },
      "execution_count": null,
      "outputs": []
    }
  ]
}