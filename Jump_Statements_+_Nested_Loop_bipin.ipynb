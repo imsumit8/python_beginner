{
  "nbformat": 4,
  "nbformat_minor": 0,
  "metadata": {
    "colab": {
      "provenance": [],
      "authorship_tag": "ABX9TyNHK3uDxYWOiE7rOLv+8CHy",
      "include_colab_link": true
    },
    "kernelspec": {
      "name": "python3",
      "display_name": "Python 3"
    },
    "language_info": {
      "name": "python"
    }
  },
  "cells": [
    {
      "cell_type": "markdown",
      "metadata": {
        "id": "view-in-github",
        "colab_type": "text"
      },
      "source": [
        "<a href=\"https://colab.research.google.com/github/imsumit8/python_beginner/blob/main/Jump_Statements_%2B_Nested_Loop_bipin.ipynb\" target=\"_parent\"><img src=\"https://colab.research.google.com/assets/colab-badge.svg\" alt=\"Open In Colab\"/></a>"
      ]
    },
    {
      "cell_type": "code",
      "execution_count": null,
      "metadata": {
        "colab": {
          "base_uri": "https://localhost:8080/",
          "height": 140
        },
        "id": "zCSkvtsqY8oo",
        "outputId": "40f46fab-3734-4f62-ce3b-5d4a6e8657b9"
      },
      "outputs": [
        {
          "output_type": "error",
          "ename": "SyntaxError",
          "evalue": "ignored",
          "traceback": [
            "\u001b[0;36m  File \u001b[0;32m\"<ipython-input-3-5c6775879b5b>\"\u001b[0;36m, line \u001b[0;32m2\u001b[0m\n\u001b[0;31m    print(10 %=5)\u001b[0m\n\u001b[0m             ^\u001b[0m\n\u001b[0;31mSyntaxError\u001b[0m\u001b[0;31m:\u001b[0m invalid syntax\n"
          ]
        }
      ],
      "source": [
        "a=1\n",
        "print(10 %=5)"
      ]
    },
    {
      "cell_type": "code",
      "source": [
        "a=0\n",
        "a=a+1\n",
        "a%=5\n",
        "print(a)"
      ],
      "metadata": {
        "colab": {
          "base_uri": "https://localhost:8080/"
        },
        "id": "AfaEaVfgZFMt",
        "outputId": "98d92fde-3506-45cb-a046-bf0f0038f754"
      },
      "execution_count": null,
      "outputs": [
        {
          "output_type": "stream",
          "name": "stdout",
          "text": [
            "1\n"
          ]
        }
      ]
    },
    {
      "cell_type": "code",
      "source": [
        "a%=5"
      ],
      "metadata": {
        "id": "NZYg3cCoqVyA"
      },
      "execution_count": null,
      "outputs": []
    },
    {
      "cell_type": "code",
      "source": [
        "a=0\n",
        "while True:\n",
        "  a=a+5\n",
        "  a%=5\n",
        "  a+=5\n",
        "  if a==5:\n",
        "    break\n",
        "print(a)"
      ],
      "metadata": {
        "colab": {
          "base_uri": "https://localhost:8080/"
        },
        "id": "XfB2HU7XqfTF",
        "outputId": "030da967-ac28-4e68-fdd7-6e4f4007f8d8"
      },
      "execution_count": null,
      "outputs": [
        {
          "output_type": "stream",
          "name": "stdout",
          "text": [
            "5\n"
          ]
        }
      ]
    },
    {
      "cell_type": "code",
      "source": [
        "a=0\n",
        "while True:\n",
        "  a=a+1\n",
        "  a%=5\n",
        "  a+=1\n",
        "  if a==5:\n",
        "    break\n",
        "print(a)"
      ],
      "metadata": {
        "colab": {
          "base_uri": "https://localhost:8080/"
        },
        "id": "WGae49u6q8G0",
        "outputId": "14653035-f1c9-4fb6-92d5-0cc56e0031be"
      },
      "execution_count": null,
      "outputs": [
        {
          "output_type": "stream",
          "name": "stdout",
          "text": [
            "5\n"
          ]
        }
      ]
    },
    {
      "cell_type": "code",
      "source": [
        "a=0\n",
        "while True:\n",
        "  a=a+2\n",
        "  a%=5\n",
        "  a+=1\n",
        "  if a==5:\n",
        "    break\n",
        "print(a)"
      ],
      "metadata": {
        "colab": {
          "base_uri": "https://localhost:8080/"
        },
        "id": "mOJRrsESrKcX",
        "outputId": "42a91906-24a0-4abd-bcfc-8ceea9d086c2"
      },
      "execution_count": null,
      "outputs": [
        {
          "output_type": "stream",
          "name": "stdout",
          "text": [
            "5\n"
          ]
        }
      ]
    },
    {
      "cell_type": "code",
      "source": [
        "a=0\n",
        "while True:\n",
        "  a=a+1\n",
        "  a%=5\n",
        "  a+=2\n",
        "  if a==5:\n",
        "    break\n",
        "print(a)"
      ],
      "metadata": {
        "colab": {
          "base_uri": "https://localhost:8080/"
        },
        "id": "st97nTwArKnt",
        "outputId": "d8e46881-4162-45f3-aec1-fcc280c06973"
      },
      "execution_count": null,
      "outputs": [
        {
          "output_type": "stream",
          "name": "stdout",
          "text": [
            "5\n"
          ]
        }
      ]
    },
    {
      "cell_type": "code",
      "source": [
        "for i in range(5):\n",
        "  if i==3:\n",
        "    pass #empty statement in python\n",
        "  print(i)"
      ],
      "metadata": {
        "colab": {
          "base_uri": "https://localhost:8080/"
        },
        "id": "oVm3AywvrKpk",
        "outputId": "83cdaf9b-8b19-4b64-d64e-a0b125c61311"
      },
      "execution_count": null,
      "outputs": [
        {
          "output_type": "stream",
          "name": "stdout",
          "text": [
            "0\n",
            "1\n",
            "2\n",
            "3\n",
            "4\n"
          ]
        }
      ]
    },
    {
      "cell_type": "code",
      "source": [
        "for i in range(5):\n",
        "  if i==3:\n",
        "    continue #skips me to the next iteration\n",
        "  print(i)"
      ],
      "metadata": {
        "colab": {
          "base_uri": "https://localhost:8080/"
        },
        "id": "eSPf5BfosTh4",
        "outputId": "564d366a-480a-4686-c0b7-19ee89dd4ecc"
      },
      "execution_count": null,
      "outputs": [
        {
          "output_type": "stream",
          "name": "stdout",
          "text": [
            "0\n",
            "1\n",
            "2\n",
            "4\n"
          ]
        }
      ]
    },
    {
      "cell_type": "code",
      "source": [
        "for i in range(5):\n",
        "  if i==3:\n",
        "    break #ends the loop\n",
        "  print(i)"
      ],
      "metadata": {
        "colab": {
          "base_uri": "https://localhost:8080/"
        },
        "id": "ygjJ3soytZ9O",
        "outputId": "486cf698-093a-4af6-9479-d85d2691de58"
      },
      "execution_count": null,
      "outputs": [
        {
          "output_type": "stream",
          "name": "stdout",
          "text": [
            "0\n",
            "1\n",
            "2\n"
          ]
        }
      ]
    },
    {
      "cell_type": "code",
      "source": [
        "print(''' Question 1 - Write a loop to print the following numbers - 1,1,3,7,13,21,31,43 '''\n",
        ")"
      ],
      "metadata": {
        "colab": {
          "base_uri": "https://localhost:8080/"
        },
        "id": "J529qnxR6n3F",
        "outputId": "de872bfc-ea89-49ac-e9dc-ebf6f1d8952e"
      },
      "execution_count": null,
      "outputs": [
        {
          "output_type": "stream",
          "name": "stdout",
          "text": [
            " Question 1 - Write a loop to print the following numbers - 1,1,3,7,13,21,31,43 \n"
          ]
        }
      ]
    },
    {
      "cell_type": "code",
      "source": [
        " i=1\n",
        "print(i,end=\" \")\n",
        "for j in range(7):\n",
        "  i=i+2*j\n",
        "  print(i,end=\" \")"
      ],
      "metadata": {
        "colab": {
          "base_uri": "https://localhost:8080/"
        },
        "id": "jjYvf1x6tw4m",
        "outputId": "f8a1ad05-ede3-41d9-d332-668bbe039782"
      },
      "execution_count": null,
      "outputs": [
        {
          "output_type": "stream",
          "name": "stdout",
          "text": [
            "1 1 3 7 13 21 31 43 "
          ]
        }
      ]
    },
    {
      "cell_type": "code",
      "source": [
        "number=1\n",
        "i=0\n",
        "while number<=43:\n",
        "  print(number,end=\" \")\n",
        "  number=number+(i*2)\n",
        "  i+=1\n"
      ],
      "metadata": {
        "colab": {
          "base_uri": "https://localhost:8080/"
        },
        "id": "zsYeg578uXUV",
        "outputId": "f7327dc6-8ae4-4c3b-e8a2-e20a23c06053"
      },
      "execution_count": null,
      "outputs": [
        {
          "output_type": "stream",
          "name": "stdout",
          "text": [
            "1 1 3 7 13 21 31 43 "
          ]
        }
      ]
    },
    {
      "cell_type": "code",
      "source": [
        "print(''' Question 2 - Write a program that continuously asks the user to provide an input number.\n",
        " The program should stop only when the user provides 5.\n",
        " Once the user provides 5, The program should print the number of times an input was provided.\n",
        " Assume that user always provides a number! '''\n",
        ")"
      ],
      "metadata": {
        "colab": {
          "base_uri": "https://localhost:8080/"
        },
        "id": "vD3rCsK56L4W",
        "outputId": "0723d9f4-fcdf-4fde-d499-755404ad8f63"
      },
      "execution_count": null,
      "outputs": [
        {
          "output_type": "stream",
          "name": "stdout",
          "text": [
            " Question 2 - Write a program that continuously asks the user to provide an input number.\n",
            " The program should stop only when the user provides 5. \n",
            " Once the user provides 5, The program should print the number of times an input was provided.\n",
            " Assume that user always provides a number! \n"
          ]
        }
      ]
    },
    {
      "cell_type": "code",
      "source": [
        "count=0\n",
        "\n",
        "while i<i+1:\n",
        "  number=int(input())\n",
        "  count+=1\n",
        "  if number==5:\n",
        "    print(\"Number of times input was provided : \",count)\n",
        "    break\n",
        "\n"
      ],
      "metadata": {
        "colab": {
          "base_uri": "https://localhost:8080/"
        },
        "id": "fpK5ITSRzdab",
        "outputId": "6d92b193-14bd-4e3a-dfda-9116e56c73fa"
      },
      "execution_count": null,
      "outputs": [
        {
          "output_type": "stream",
          "name": "stdout",
          "text": [
            "4\n",
            "7\n",
            "5\n",
            "Number of times input was provided :  3\n"
          ]
        }
      ]
    },
    {
      "cell_type": "code",
      "source": [
        "count=0\n",
        "\n",
        "while i<i+1:\n",
        "  number=int(input())\n",
        "\n",
        "  if number==5:\n",
        "    print(\"Number of times input was provided : \",count+1)\n",
        "    break\n",
        "  else:\n",
        "    count+=1\n",
        "\n"
      ],
      "metadata": {
        "colab": {
          "base_uri": "https://localhost:8080/"
        },
        "id": "-SPw3vZs5tEv",
        "outputId": "92efb9ec-1f64-4381-c858-bdb8bc5af1cb"
      },
      "execution_count": null,
      "outputs": [
        {
          "output_type": "stream",
          "name": "stdout",
          "text": [
            "4\n",
            "8\n",
            "8\n",
            "8456789\n",
            "5\n",
            "Number of times input was provided :  5\n"
          ]
        }
      ]
    },
    {
      "cell_type": "code",
      "source": [
        "for i in range(3):\n",
        "  for j in range(4):\n",
        "    print(\"i->\",i,\"j->\",j)"
      ],
      "metadata": {
        "colab": {
          "base_uri": "https://localhost:8080/"
        },
        "id": "HxcK420R5-iZ",
        "outputId": "852e32de-28db-447a-ade3-c6fd6ba26a71"
      },
      "execution_count": null,
      "outputs": [
        {
          "output_type": "stream",
          "name": "stdout",
          "text": [
            "i-> 0 j-> 0\n",
            "i-> 0 j-> 1\n",
            "i-> 0 j-> 2\n",
            "i-> 0 j-> 3\n",
            "i-> 1 j-> 0\n",
            "i-> 1 j-> 1\n",
            "i-> 1 j-> 2\n",
            "i-> 1 j-> 3\n",
            "i-> 2 j-> 0\n",
            "i-> 2 j-> 1\n",
            "i-> 2 j-> 2\n",
            "i-> 2 j-> 3\n"
          ]
        }
      ]
    },
    {
      "cell_type": "code",
      "source": [
        "number=int(input())\n",
        "for i in range(number):\n",
        "  for j in range(number):\n",
        "    print('*',end=\"\")\n",
        "  print()"
      ],
      "metadata": {
        "colab": {
          "base_uri": "https://localhost:8080/"
        },
        "id": "j4al-ZZQAv5F",
        "outputId": "4281f42b-513a-459f-93af-46b8769bf366"
      },
      "execution_count": null,
      "outputs": [
        {
          "output_type": "stream",
          "name": "stdout",
          "text": [
            "5\n",
            "*****\n",
            "*****\n",
            "*****\n",
            "*****\n",
            "*****\n"
          ]
        }
      ]
    },
    {
      "cell_type": "code",
      "source": [
        "n=int(input())\n",
        "print(1,end=\" \")\n",
        "for i in range(2,(n//2)+1):\n",
        "  if n%i==0:\n",
        "    print(i,end=\" \")\n",
        "print(n,end=\"\")"
      ],
      "metadata": {
        "colab": {
          "base_uri": "https://localhost:8080/"
        },
        "id": "yp91bE4ECKzr",
        "outputId": "e0490195-fc10-4370-de16-4df1fbb7270e"
      },
      "execution_count": null,
      "outputs": [
        {
          "output_type": "stream",
          "name": "stdout",
          "text": [
            "6\n",
            "1 2 3 6"
          ]
        }
      ]
    },
    {
      "cell_type": "code",
      "source": [
        "print(''' Question 5 - GCD -> Greatest Common Divisor\n",
        " Given two integer inputs, write a program to calculate GCD.\n",
        " Input - 16 24\n",
        " Output - 8 '''\n",
        ")"
      ],
      "metadata": {
        "colab": {
          "base_uri": "https://localhost:8080/"
        },
        "id": "UY5YNgWxELZV",
        "outputId": "83a06819-8caf-4e26-9af8-bda24e43d6bb"
      },
      "execution_count": null,
      "outputs": [
        {
          "output_type": "stream",
          "name": "stdout",
          "text": [
            " Question 5 - GCD -> Greatest Common Divisor\n",
            " Given two integer inputs, write a program to calculate GCD.\n",
            " Input - 16 24 \n",
            " Output - 8 \n"
          ]
        }
      ]
    },
    {
      "cell_type": "code",
      "source": [
        "n=int(input())\n",
        "m=int(input())\n",
        "smaller= n if n<m else m # ternary operator\n",
        "if n%smaller==0 and m%smaller==0:\n",
        "  print(\"The GCD is :\",smaller)\n",
        "else:\n",
        "  for i in range(1,(smaller//2)+1):\n",
        "    if m%((smaller//2)+1-i)==0 and n%((smaller//2)+1-i)==0 :\n",
        "      print(\"The GCD is :\",(smaller//2)+1-i)\n",
        "      break\n",
        "\n"
      ],
      "metadata": {
        "colab": {
          "base_uri": "https://localhost:8080/"
        },
        "id": "xdq3gUBOI1Wq",
        "outputId": "651e8225-f378-4551-b4fe-182cb32c8703"
      },
      "execution_count": 1,
      "outputs": [
        {
          "output_type": "stream",
          "name": "stdout",
          "text": [
            "75\n",
            "50\n",
            "The GCD is : 25\n"
          ]
        }
      ]
    },
    {
      "cell_type": "code",
      "source": [
        "2"
      ],
      "metadata": {
        "id": "Dty7tDzAnYwm"
      },
      "execution_count": null,
      "outputs": []
    }
  ]
}