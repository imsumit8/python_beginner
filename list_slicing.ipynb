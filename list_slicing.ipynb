{
  "nbformat": 4,
  "nbformat_minor": 0,
  "metadata": {
    "colab": {
      "provenance": [],
      "authorship_tag": "ABX9TyPv+6Pbb4TTVeJk5v3LLmmK",
      "include_colab_link": true
    },
    "kernelspec": {
      "name": "python3",
      "display_name": "Python 3"
    },
    "language_info": {
      "name": "python"
    }
  },
  "cells": [
    {
      "cell_type": "markdown",
      "metadata": {
        "id": "view-in-github",
        "colab_type": "text"
      },
      "source": [
        "<a href=\"https://colab.research.google.com/github/imsumit8/python_beginner/blob/main/list_slicing.ipynb\" target=\"_parent\"><img src=\"https://colab.research.google.com/assets/colab-badge.svg\" alt=\"Open In Colab\"/></a>"
      ]
    },
    {
      "cell_type": "code",
      "execution_count": 1,
      "metadata": {
        "id": "7XkpEnDam2hz"
      },
      "outputs": [],
      "source": [
        "#non-primitive data structures"
      ]
    },
    {
      "cell_type": "code",
      "source": [
        "#python list\n",
        "#[]\n",
        "# ordered>> Indexing >>sorting\n",
        "## duplicates are allowed\n",
        "# it can store anything\n",
        "#editable /mutable"
      ],
      "metadata": {
        "id": "i-WIZj2Rm-T-"
      },
      "execution_count": 2,
      "outputs": []
    },
    {
      "cell_type": "code",
      "source": [
        "my_list=[5,2,8,6,1]\n",
        "print(my_list)\n",
        "my_list.sort()\n",
        "print(my_list)\n",
        "my_list.sort(reverse=True)\n",
        "print(my_list)"
      ],
      "metadata": {
        "colab": {
          "base_uri": "https://localhost:8080/"
        },
        "id": "wMPcL5_wnBLE",
        "outputId": "51e59e45-4ebb-40eb-b122-af24bcbb90b7"
      },
      "execution_count": 4,
      "outputs": [
        {
          "output_type": "stream",
          "name": "stdout",
          "text": [
            "[5, 2, 8, 6, 1]\n",
            "[1, 2, 5, 6, 8]\n",
            "[8, 6, 5, 2, 1]\n"
          ]
        }
      ]
    },
    {
      "cell_type": "code",
      "source": [
        "#operations\n",
        "a=[1,7,4]\n",
        "b=[2,8,5,-15]\n",
        "print(a+b)\n",
        "#concatenates"
      ],
      "metadata": {
        "colab": {
          "base_uri": "https://localhost:8080/"
        },
        "id": "thby9HIGnZeT",
        "outputId": "5b53b97e-a440-471f-d1f5-1ad32953989e"
      },
      "execution_count": 5,
      "outputs": [
        {
          "output_type": "stream",
          "name": "stdout",
          "text": [
            "[1, 7, 4, 2, 8, 5, -15]\n"
          ]
        }
      ]
    },
    {
      "cell_type": "code",
      "source": [
        "# print(a-b) >>TypeError: unsupported operand type(s) for -: 'list' and 'list'\n",
        "# print(a/b) >>TypeError: unsupported operand type(s) for /: 'list' and 'list'\n",
        "# print(a*b) >>TypeError: can't multiply sequence by non-int of type 'list'"
      ],
      "metadata": {
        "colab": {
          "base_uri": "https://localhost:8080/",
          "height": 210
        },
        "id": "BYEpaF_moo2M",
        "outputId": "e1be8b21-3274-4b04-f474-4708023f77d3"
      },
      "execution_count": 8,
      "outputs": [
        {
          "output_type": "error",
          "ename": "TypeError",
          "evalue": "ignored",
          "traceback": [
            "\u001b[0;31m---------------------------------------------------------------------------\u001b[0m",
            "\u001b[0;31mTypeError\u001b[0m                                 Traceback (most recent call last)",
            "\u001b[0;32m<ipython-input-8-124ac2fb62fd>\u001b[0m in \u001b[0;36m<cell line: 3>\u001b[0;34m()\u001b[0m\n\u001b[1;32m      1\u001b[0m \u001b[0;31m# print(a-b) >>TypeError: unsupported operand type(s) for -: 'list' and 'list'\u001b[0m\u001b[0;34m\u001b[0m\u001b[0;34m\u001b[0m\u001b[0m\n\u001b[1;32m      2\u001b[0m \u001b[0;31m# print(a/b) >>TypeError: unsupported operand type(s) for /: 'list' and 'list'\u001b[0m\u001b[0;34m\u001b[0m\u001b[0;34m\u001b[0m\u001b[0m\n\u001b[0;32m----> 3\u001b[0;31m \u001b[0mprint\u001b[0m\u001b[0;34m(\u001b[0m\u001b[0ma\u001b[0m\u001b[0;34m*\u001b[0m\u001b[0mb\u001b[0m\u001b[0;34m)\u001b[0m\u001b[0;34m\u001b[0m\u001b[0;34m\u001b[0m\u001b[0m\n\u001b[0m",
            "\u001b[0;31mTypeError\u001b[0m: can't multiply sequence by non-int of type 'list'"
          ]
        }
      ]
    },
    {
      "cell_type": "code",
      "source": [
        "print(a*4)\n",
        "# x*4=x+x+x+x"
      ],
      "metadata": {
        "colab": {
          "base_uri": "https://localhost:8080/"
        },
        "id": "6zJgrGoCo0JM",
        "outputId": "9a52efad-b372-443a-b371-3cd81bd78152"
      },
      "execution_count": 10,
      "outputs": [
        {
          "output_type": "stream",
          "name": "stdout",
          "text": [
            "[1, 7, 4, 1, 7, 4, 1, 7, 4, 1, 7, 4]\n"
          ]
        }
      ]
    },
    {
      "cell_type": "code",
      "source": [
        "#iterating\n",
        "\n",
        "# my_list\n",
        "\n",
        "#for i in my_list: direct iteration of the values inside the my_list\n",
        "#for i in range(len(my_list)):"
      ],
      "metadata": {
        "id": "-eK2So0YsThK"
      },
      "execution_count": 12,
      "outputs": []
    },
    {
      "cell_type": "markdown",
      "source": [],
      "metadata": {
        "id": "anyyVLLut09a"
      }
    },
    {
      "cell_type": "markdown",
      "source": [
        "##Question-1\n",
        "Given list of all runs by Virat, print runs made in odd matches (Even Indexes). runs = [62, 85, 74, 10, 12, 101, 122, 99, 81, 55]\n"
      ],
      "metadata": {
        "id": "UTfFRvvJt0_J"
      }
    },
    {
      "cell_type": "code",
      "source": [
        "runs=[62,85,74,10,12,101,122,99,81,55]\n",
        "\n",
        "for i in range(len(runs)):\n",
        "  if i%2==0:\n",
        "    print(runs[i])\n",
        "\n",
        "\n"
      ],
      "metadata": {
        "colab": {
          "base_uri": "https://localhost:8080/"
        },
        "id": "V5Mb-RfBtT5V",
        "outputId": "e8c3e887-1e2d-4cf8-d100-acdb6f19f417"
      },
      "execution_count": 16,
      "outputs": [
        {
          "output_type": "stream",
          "name": "stdout",
          "text": [
            "62\n",
            "74\n",
            "12\n",
            "122\n",
            "81\n"
          ]
        }
      ]
    },
    {
      "cell_type": "markdown",
      "source": [
        "Question-2\n",
        "Given list of all runs by Virat, create a new list of runs made in odd matches (Even Indexes). runs = [62, 85, 74, 10, 12, 101, 122, 99, 81, 55] Create a function called odd_runs, that will take one argument, which is the runs list\n"
      ],
      "metadata": {
        "id": "UQnLQuNlu186"
      }
    },
    {
      "cell_type": "code",
      "source": [
        "def odd_runs(runs):\n",
        "  odd=[]\n",
        "  for i in range(len(runs)):\n",
        "    if i%2==0:\n",
        "      odd.append(runs[i])\n",
        "\n",
        "  print(odd)\n",
        "odd_runs(runs)"
      ],
      "metadata": {
        "colab": {
          "base_uri": "https://localhost:8080/"
        },
        "id": "qZ3h2eY2u2sh",
        "outputId": "a44d8a96-4712-4f11-d2be-aaf50f12f0dd"
      },
      "execution_count": 17,
      "outputs": [
        {
          "output_type": "stream",
          "name": "stdout",
          "text": [
            "[62, 74, 12, 122, 81]\n"
          ]
        }
      ]
    },
    {
      "cell_type": "markdown",
      "source": [
        "Question-3\n",
        "Given list of all runs by Virat, create a new list of runs made in last 5 matches. runs = [62, 85, 74, 10, 12, 101, 122, 99, 81, 55] Output should be: [101, 122, 99, 81, 55]\n"
      ],
      "metadata": {
        "id": "eWx0ZEHYv6PR"
      }
    },
    {
      "cell_type": "code",
      "source": [
        "list=[]\n",
        "for i in range(5,len(runs)):\n",
        "  list.append(runs[i])\n",
        "print(list)"
      ],
      "metadata": {
        "colab": {
          "base_uri": "https://localhost:8080/"
        },
        "id": "3ncUHSyFvPz7",
        "outputId": "7c45c16f-4301-4e81-b59a-bbc164eecfd5"
      },
      "execution_count": 18,
      "outputs": [
        {
          "output_type": "stream",
          "name": "stdout",
          "text": [
            "[101, 122, 99, 81, 55]\n"
          ]
        }
      ]
    },
    {
      "cell_type": "code",
      "source": [
        "list=[]\n",
        "for i in range(-5,0,1):\n",
        "  list.append(runs[i])\n",
        "print(list)"
      ],
      "metadata": {
        "colab": {
          "base_uri": "https://localhost:8080/"
        },
        "id": "1BHGwizEv4vL",
        "outputId": "0830446d-1f8c-4283-f3db-345c55b4ef9f"
      },
      "execution_count": 19,
      "outputs": [
        {
          "output_type": "stream",
          "name": "stdout",
          "text": [
            "[101, 122, 99, 81, 55]\n"
          ]
        }
      ]
    },
    {
      "cell_type": "code",
      "source": [
        "#index of the last value is : -1, len(runs)-1\n",
        "#index of the second last value is : -2, len(runs)-2\n",
        "#index of the third last value is : -3, len(runs)-3\n",
        "#index of the fourth last value is : -4, len(runs)-4\n",
        "#index of the fifth last value is : -5, len(runs)-5\n",
        "\n",
        "list=[]\n",
        "for i in range(len(runs)-5,len(runs),1):\n",
        "  list.append(runs[i])\n",
        "print(list)"
      ],
      "metadata": {
        "colab": {
          "base_uri": "https://localhost:8080/"
        },
        "id": "ll1K182av4v5",
        "outputId": "e8bc49ab-82fc-4695-9906-3c07d1f84795"
      },
      "execution_count": 20,
      "outputs": [
        {
          "output_type": "stream",
          "name": "stdout",
          "text": [
            "[101, 122, 99, 81, 55]\n"
          ]
        }
      ]
    },
    {
      "cell_type": "markdown",
      "source": [
        "Given list of all runs by Virat, create a new list of runs made in first 3 matches. runs = [62, 85, 74, 10, 12, 101, 122, 99, 81, 55] Output should be: [62, 85, 74]\n"
      ],
      "metadata": {
        "id": "XBwpkUXYykq6"
      }
    },
    {
      "cell_type": "code",
      "source": [
        "lst=[]\n",
        "for i in range(3):\n",
        "  lst.append(runs[i])\n",
        "\n",
        "print(lst)"
      ],
      "metadata": {
        "colab": {
          "base_uri": "https://localhost:8080/"
        },
        "id": "HJx_Hmoix31p",
        "outputId": "c35c6882-74a9-453f-db4a-2163f9859f90"
      },
      "execution_count": 22,
      "outputs": [
        {
          "output_type": "stream",
          "name": "stdout",
          "text": [
            "[62, 85, 74]\n"
          ]
        }
      ]
    },
    {
      "cell_type": "markdown",
      "source": [],
      "metadata": {
        "id": "sbLqKQDezZmS"
      }
    },
    {
      "cell_type": "markdown",
      "source": [
        "Question-5\n",
        "Given list of all runs by Virat, create a new list of runs made from the 3rd match to the 7th match. runs = [62, 85, 74, 10, 12, 101, 122, 99, 81, 55] Output should be: [74, 10, 12, 101, 122]\n",
        "You can assume that the list length will be valid\n"
      ],
      "metadata": {
        "id": "DdWqKQfKzZns"
      }
    },
    {
      "cell_type": "code",
      "source": [
        "lst=[]\n",
        "for i in range(2,7):\n",
        "  lst.append(runs[i])\n",
        "\n",
        "print(lst)"
      ],
      "metadata": {
        "colab": {
          "base_uri": "https://localhost:8080/"
        },
        "id": "5sk6avzHyztx",
        "outputId": "43aa3743-6706-4aaf-f6b8-3f7298d98843"
      },
      "execution_count": 23,
      "outputs": [
        {
          "output_type": "stream",
          "name": "stdout",
          "text": [
            "[74, 10, 12, 101, 122]\n"
          ]
        }
      ]
    },
    {
      "cell_type": "code",
      "source": [
        "# list slicing>> the output will always be a python list"
      ],
      "metadata": {
        "id": "afd_oPvqzrhp"
      },
      "execution_count": 24,
      "outputs": []
    },
    {
      "cell_type": "code",
      "source": [
        "avengers=['iron-man','thor','cap','hulk','groot']\n",
        "# list[start:end]>>slice the list>> [start ,start+1,start+2,...,end-1]>> end index is not included>> default step sizeL:1"
      ],
      "metadata": {
        "id": "-Al2NPkl0hTY"
      },
      "execution_count": 25,
      "outputs": []
    },
    {
      "cell_type": "code",
      "source": [
        "print(avengers[1:4])"
      ],
      "metadata": {
        "colab": {
          "base_uri": "https://localhost:8080/"
        },
        "id": "5WIvOAkl1ZEn",
        "outputId": "c6c29a9f-ec9c-41d8-8bf7-c6fa3068dcc1"
      },
      "execution_count": 26,
      "outputs": [
        {
          "output_type": "stream",
          "name": "stdout",
          "text": [
            "['thor', 'cap', 'hulk']\n"
          ]
        }
      ]
    },
    {
      "cell_type": "code",
      "source": [
        "print(avengers[1:4:2])"
      ],
      "metadata": {
        "colab": {
          "base_uri": "https://localhost:8080/"
        },
        "id": "VO6R1k771c2v",
        "outputId": "ddac35af-4a2d-4ede-92fe-bbd6f61900ff"
      },
      "execution_count": 27,
      "outputs": [
        {
          "output_type": "stream",
          "name": "stdout",
          "text": [
            "['thor', 'hulk']\n"
          ]
        }
      ]
    },
    {
      "cell_type": "code",
      "source": [],
      "metadata": {
        "id": "6ez0FcNl2e6n"
      },
      "execution_count": null,
      "outputs": []
    }
  ]
}