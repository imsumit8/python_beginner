{
  "nbformat": 4,
  "nbformat_minor": 0,
  "metadata": {
    "colab": {
      "provenance": [],
      "authorship_tag": "ABX9TyM7Mvx1TN/uRUQ1MuB2AtrU",
      "include_colab_link": true
    },
    "kernelspec": {
      "name": "python3",
      "display_name": "Python 3"
    },
    "language_info": {
      "name": "python"
    }
  },
  "cells": [
    {
      "cell_type": "markdown",
      "metadata": {
        "id": "view-in-github",
        "colab_type": "text"
      },
      "source": [
        "<a href=\"https://colab.research.google.com/github/imsumit8/python_beginner/blob/main/Operators.ipynb\" target=\"_parent\"><img src=\"https://colab.research.google.com/assets/colab-badge.svg\" alt=\"Open In Colab\"/></a>"
      ]
    },
    {
      "cell_type": "code",
      "execution_count": 1,
      "metadata": {
        "colab": {
          "base_uri": "https://localhost:8080/"
        },
        "id": "aipPh3oQj7fv",
        "outputId": "6b36fa14-3385-4356-99f0-ade04b979062"
      },
      "outputs": [
        {
          "output_type": "stream",
          "name": "stdout",
          "text": [
            "25\n"
          ]
        }
      ],
      "source": [
        "print(5**2)"
      ]
    },
    {
      "cell_type": "code",
      "source": [
        "print(5.0**2.0)"
      ],
      "metadata": {
        "colab": {
          "base_uri": "https://localhost:8080/"
        },
        "id": "SyWgPOL6kHb3",
        "outputId": "36d790fe-28e4-487a-ef48-16eea016b6f6"
      },
      "execution_count": 3,
      "outputs": [
        {
          "output_type": "stream",
          "name": "stdout",
          "text": [
            "25.0\n"
          ]
        }
      ]
    },
    {
      "cell_type": "code",
      "source": [
        "print(25**(1/2))"
      ],
      "metadata": {
        "colab": {
          "base_uri": "https://localhost:8080/"
        },
        "id": "tbAmvj6AkSis",
        "outputId": "e465430f-19a2-4c7a-e7ef-b6e8793d9b9c"
      },
      "execution_count": 4,
      "outputs": [
        {
          "output_type": "stream",
          "name": "stdout",
          "text": [
            "5.0\n"
          ]
        }
      ]
    },
    {
      "cell_type": "code",
      "source": [
        "#floor division\n",
        "# find the largest integer that is smaller or equal to the value\n",
        "print(7/2,7//2)\n",
        "print(-5/2,-5//2)"
      ],
      "metadata": {
        "colab": {
          "base_uri": "https://localhost:8080/"
        },
        "id": "PTtyKvfVkj99",
        "outputId": "d4be1888-a6b3-4390-f0dc-065372cb2509"
      },
      "execution_count": 6,
      "outputs": [
        {
          "output_type": "stream",
          "name": "stdout",
          "text": [
            "3.5 3\n",
            "-2.5 -3\n"
          ]
        }
      ]
    },
    {
      "cell_type": "code",
      "source": [
        "print(625**(1/4))"
      ],
      "metadata": {
        "colab": {
          "base_uri": "https://localhost:8080/"
        },
        "id": "2H6Dl_eRlDsu",
        "outputId": "cf16c4d6-9f4c-4b3b-ed56-a9cda61b1f63"
      },
      "execution_count": 7,
      "outputs": [
        {
          "output_type": "stream",
          "name": "stdout",
          "text": [
            "5.0\n"
          ]
        }
      ]
    },
    {
      "cell_type": "code",
      "source": [
        "print(100/30)\n",
        "#you cannot break the candy\n",
        "print(100//30)"
      ],
      "metadata": {
        "colab": {
          "base_uri": "https://localhost:8080/"
        },
        "id": "82CAAJNMl7uk",
        "outputId": "c6aefd27-2a56-466f-a2d3-8f4c1030e8ac"
      },
      "execution_count": 9,
      "outputs": [
        {
          "output_type": "stream",
          "name": "stdout",
          "text": [
            "3.3333333333333335\n",
            "3\n"
          ]
        }
      ]
    },
    {
      "cell_type": "code",
      "source": [
        "# modoulus\n",
        "print(5%2)\n",
        "print(15%4)"
      ],
      "metadata": {
        "colab": {
          "base_uri": "https://localhost:8080/"
        },
        "id": "sHWplpaxml7k",
        "outputId": "f170f9c7-0fa4-488b-8f8f-62b79d4f96a7"
      },
      "execution_count": 12,
      "outputs": [
        {
          "output_type": "stream",
          "name": "stdout",
          "text": [
            "1\n",
            "3\n"
          ]
        }
      ]
    },
    {
      "cell_type": "code",
      "source": [
        "print(-15%4)"
      ],
      "metadata": {
        "colab": {
          "base_uri": "https://localhost:8080/"
        },
        "id": "D_DCXylXnKSW",
        "outputId": "ec9e3c8c-8f94-4a0e-e027-9f90fb958872"
      },
      "execution_count": 13,
      "outputs": [
        {
          "output_type": "stream",
          "name": "stdout",
          "text": [
            "1\n"
          ]
        }
      ]
    },
    {
      "cell_type": "code",
      "source": [
        "# by definition remainder can never be negative\n",
        "#  -15=(-4*4)+1\n"
      ],
      "metadata": {
        "id": "xh6c21vvneHz"
      },
      "execution_count": 14,
      "outputs": []
    },
    {
      "cell_type": "code",
      "source": [
        "print(5%2.0)\n",
        "# output will be float if one of it's operands is float"
      ],
      "metadata": {
        "colab": {
          "base_uri": "https://localhost:8080/"
        },
        "id": "Gan33Cj7ojij",
        "outputId": "453e9e7f-e91d-4669-dbce-e6332a7095b7"
      },
      "execution_count": 15,
      "outputs": [
        {
          "output_type": "stream",
          "name": "stdout",
          "text": [
            "1.0\n"
          ]
        }
      ]
    },
    {
      "cell_type": "code",
      "source": [
        "#BODMAS RULE\n",
        "5*3+5"
      ],
      "metadata": {
        "colab": {
          "base_uri": "https://localhost:8080/"
        },
        "id": "WyitdV2comCU",
        "outputId": "97896f90-46d8-4f47-b759-6a3999d3baab"
      },
      "execution_count": 16,
      "outputs": [
        {
          "output_type": "execute_result",
          "data": {
            "text/plain": [
              "20"
            ]
          },
          "metadata": {},
          "execution_count": 16
        }
      ]
    },
    {
      "cell_type": "code",
      "source": [
        "#PRIORITY:\n",
        "#1.()\n",
        "#2. **\n",
        "#3. / * // %\n",
        "#4. +-\n",
        "# In case of same priority go left to right"
      ],
      "metadata": {
        "id": "BEAoDIpspAtT"
      },
      "execution_count": 17,
      "outputs": []
    },
    {
      "cell_type": "code",
      "source": [
        "print(5*2+5)"
      ],
      "metadata": {
        "colab": {
          "base_uri": "https://localhost:8080/"
        },
        "id": "WM_86xLHp4ec",
        "outputId": "ae1f35c3-f227-4353-b3cb-0fad6fa2d4c6"
      },
      "execution_count": 18,
      "outputs": [
        {
          "output_type": "stream",
          "name": "stdout",
          "text": [
            "15\n"
          ]
        }
      ]
    },
    {
      "cell_type": "code",
      "source": [
        "print(5*2//10)"
      ],
      "metadata": {
        "colab": {
          "base_uri": "https://localhost:8080/"
        },
        "id": "sUPFk3Oop9gT",
        "outputId": "563dc3ed-89b8-4275-f24c-5b55c5611024"
      },
      "execution_count": 19,
      "outputs": [
        {
          "output_type": "stream",
          "name": "stdout",
          "text": [
            "1\n"
          ]
        }
      ]
    },
    {
      "cell_type": "code",
      "source": [
        "10-4*2 +5-6//2"
      ],
      "metadata": {
        "colab": {
          "base_uri": "https://localhost:8080/"
        },
        "id": "gNBoKm_RqPPj",
        "outputId": "cc7f0e79-53fb-48ff-e3bd-e80bc39ae3c0"
      },
      "execution_count": 20,
      "outputs": [
        {
          "output_type": "execute_result",
          "data": {
            "text/plain": [
              "4"
            ]
          },
          "metadata": {},
          "execution_count": 20
        }
      ]
    },
    {
      "cell_type": "code",
      "source": [
        "print(float('10.0'))"
      ],
      "metadata": {
        "colab": {
          "base_uri": "https://localhost:8080/"
        },
        "id": "mCiu76YuqoD7",
        "outputId": "23e42a0f-e173-47bd-854f-69e55215fd5f"
      },
      "execution_count": 22,
      "outputs": [
        {
          "output_type": "stream",
          "name": "stdout",
          "text": [
            "10.0\n"
          ]
        }
      ]
    },
    {
      "cell_type": "code",
      "source": [
        "# converting float to in t is not same as rounding or floor division\n"
      ],
      "metadata": {
        "id": "U_yQk0tXr_EL"
      },
      "execution_count": 23,
      "outputs": []
    },
    {
      "cell_type": "code",
      "source": [
        "#type casting to bool\n",
        "# int to bool"
      ],
      "metadata": {
        "id": "2A4-sWFKsW5y"
      },
      "execution_count": 25,
      "outputs": []
    },
    {
      "cell_type": "code",
      "source": [
        "print(5,bool(5))\n",
        "print(4,bool(4))\n",
        "print(0,bool(0)) #####\n",
        "print(-1,bool(-1))"
      ],
      "metadata": {
        "colab": {
          "base_uri": "https://localhost:8080/"
        },
        "id": "yhWwFrz9seBq",
        "outputId": "3a64114e-8027-48e8-c96e-456e7b6e560b"
      },
      "execution_count": 27,
      "outputs": [
        {
          "output_type": "stream",
          "name": "stdout",
          "text": [
            "5 True\n",
            "4 True\n",
            "0 False\n",
            "-1 True\n"
          ]
        }
      ]
    },
    {
      "cell_type": "code",
      "source": [
        "print(bool(12345.6789))\n",
        "print(bool(-0.0))\n",
        "print(bool(0.0))\n",
        "print(bool(-123.45))\n",
        "# everything is true except 0"
      ],
      "metadata": {
        "colab": {
          "base_uri": "https://localhost:8080/"
        },
        "id": "GJP-HR_BspAa",
        "outputId": "ed953572-7406-4f69-e293-65c71d924c97"
      },
      "execution_count": 29,
      "outputs": [
        {
          "output_type": "stream",
          "name": "stdout",
          "text": [
            "True\n",
            "False\n",
            "False\n",
            "True\n"
          ]
        }
      ]
    },
    {
      "cell_type": "code",
      "source": [
        "# string\n",
        "print(bool('ronaldo'))\n",
        "print(bool('messi'))\n",
        "print(bool('0'))\n",
        "# everything is true except empty string\n",
        "print(bool(''))"
      ],
      "metadata": {
        "colab": {
          "base_uri": "https://localhost:8080/"
        },
        "id": "orcmpmRFtAaK",
        "outputId": "abf464f5-8b7b-45d8-c442-c88cf1fd6b46"
      },
      "execution_count": 35,
      "outputs": [
        {
          "output_type": "stream",
          "name": "stdout",
          "text": [
            "True\n",
            "True\n",
            "True\n",
            "False\n"
          ]
        }
      ]
    },
    {
      "cell_type": "code",
      "source": [
        "print(bool(None)) # False"
      ],
      "metadata": {
        "colab": {
          "base_uri": "https://localhost:8080/"
        },
        "id": "ZSNFm_NAtRvL",
        "outputId": "81412eea-444f-4d3d-c530-a12eeac9b2d6"
      },
      "execution_count": 37,
      "outputs": [
        {
          "output_type": "stream",
          "name": "stdout",
          "text": [
            "False\n"
          ]
        }
      ]
    },
    {
      "cell_type": "code",
      "source": [
        "# logical operators\n",
        "2<5"
      ],
      "metadata": {
        "colab": {
          "base_uri": "https://localhost:8080/"
        },
        "id": "m-aev7fYt6Fy",
        "outputId": "e2824954-b86c-49c0-fc53-77ea499e1b52"
      },
      "execution_count": 38,
      "outputs": [
        {
          "output_type": "execute_result",
          "data": {
            "text/plain": [
              "True"
            ]
          },
          "metadata": {},
          "execution_count": 38
        }
      ]
    },
    {
      "cell_type": "code",
      "source": [
        "# a=2 ; this is used for assignment of a variable\n",
        "# a==2 ; this is used for comparison\n",
        "print(2==5)\n",
        "print(2==2)\n",
        "print(2==2.0)\n",
        "print(2=='2')"
      ],
      "metadata": {
        "colab": {
          "base_uri": "https://localhost:8080/"
        },
        "id": "dMlfBk-vupKa",
        "outputId": "f4a9098f-ccc2-43cd-87dd-57e8dc5e402b"
      },
      "execution_count": 42,
      "outputs": [
        {
          "output_type": "stream",
          "name": "stdout",
          "text": [
            "False\n",
            "True\n",
            "True\n",
            "False\n"
          ]
        }
      ]
    },
    {
      "cell_type": "code",
      "source": [
        "top_marks=90\n",
        "user_marks=int(input('hey user what are your marks: '))\n",
        "print(user_marks==top_marks)"
      ],
      "metadata": {
        "colab": {
          "base_uri": "https://localhost:8080/"
        },
        "id": "2bXgkCC_u_ER",
        "outputId": "46b18bcf-a55e-473e-92bd-69a04eaaf92f"
      },
      "execution_count": 43,
      "outputs": [
        {
          "output_type": "stream",
          "name": "stdout",
          "text": [
            "hey user what are your marks: 90\n",
            "True\n"
          ]
        }
      ]
    },
    {
      "cell_type": "code",
      "source": [
        "# > greater than\n",
        "print(5>2)\n",
        "print(5>5)\n",
        "print(5>7)"
      ],
      "metadata": {
        "colab": {
          "base_uri": "https://localhost:8080/"
        },
        "id": "UO4nCxIqvhgJ",
        "outputId": "49032c58-74a9-40f8-dffb-97c3e132199f"
      },
      "execution_count": 44,
      "outputs": [
        {
          "output_type": "stream",
          "name": "stdout",
          "text": [
            "True\n",
            "False\n",
            "False\n"
          ]
        }
      ]
    },
    {
      "cell_type": "code",
      "source": [
        "# < lesser than\n",
        "print(5<2)\n",
        "print(5<5)\n",
        "print(5<7)"
      ],
      "metadata": {
        "colab": {
          "base_uri": "https://localhost:8080/"
        },
        "id": "NQouw2ZhvxtU",
        "outputId": "04f62057-fa36-46f7-ceb1-9f0ea4b2a57c"
      },
      "execution_count": 46,
      "outputs": [
        {
          "output_type": "stream",
          "name": "stdout",
          "text": [
            "False\n",
            "False\n",
            "True\n"
          ]
        }
      ]
    },
    {
      "cell_type": "code",
      "source": [
        "# comparison of str\n",
        "print('ronaldo'=='messi')"
      ],
      "metadata": {
        "colab": {
          "base_uri": "https://localhost:8080/"
        },
        "id": "d57nrJb5wKFg",
        "outputId": "ffdb3b4d-c565-460a-9d96-d1fdc2a56ba3"
      },
      "execution_count": 48,
      "outputs": [
        {
          "output_type": "stream",
          "name": "stdout",
          "text": [
            "False\n"
          ]
        }
      ]
    },
    {
      "cell_type": "code",
      "source": [
        "# lexicographic /dictionary order\n",
        "print('goa'>'delhi')"
      ],
      "metadata": {
        "colab": {
          "base_uri": "https://localhost:8080/"
        },
        "id": "ZzP9XRKnymwB",
        "outputId": "17fc1092-6283-4ab8-b964-49982c16aba6"
      },
      "execution_count": 50,
      "outputs": [
        {
          "output_type": "stream",
          "name": "stdout",
          "text": [
            "True\n"
          ]
        }
      ]
    },
    {
      "cell_type": "code",
      "source": [
        "# asci value\n",
        "print(ord('g')),print(ord('d'))\n",
        "print(ord('G')),print(ord('D'))"
      ],
      "metadata": {
        "colab": {
          "base_uri": "https://localhost:8080/"
        },
        "id": "sXJjBSqgyvZY",
        "outputId": "8259ce12-6fd6-4a63-914d-db7f5e49c5c5"
      },
      "execution_count": 52,
      "outputs": [
        {
          "output_type": "stream",
          "name": "stdout",
          "text": [
            "103\n",
            "100\n",
            "71\n",
            "68\n"
          ]
        },
        {
          "output_type": "execute_result",
          "data": {
            "text/plain": [
              "(None, None)"
            ]
          },
          "metadata": {},
          "execution_count": 52
        }
      ]
    },
    {
      "cell_type": "code",
      "source": [
        "print('Goa'>'delhi')"
      ],
      "metadata": {
        "colab": {
          "base_uri": "https://localhost:8080/"
        },
        "id": "nzeTeB4dzW7o",
        "outputId": "c8cc7652-10f5-40a9-a9ab-78f68cc03ffc"
      },
      "execution_count": 53,
      "outputs": [
        {
          "output_type": "stream",
          "name": "stdout",
          "text": [
            "False\n"
          ]
        }
      ]
    },
    {
      "cell_type": "code",
      "source": [
        "#a-z\n",
        "print(ord('a'),ord('z'))\n",
        "#A-Z\n",
        "print(ord('A'),ord('Z'))\n"
      ],
      "metadata": {
        "colab": {
          "base_uri": "https://localhost:8080/"
        },
        "id": "0VSZFicrznjn",
        "outputId": "1f517d3c-ef8e-496d-d9f4-189c2adc23b9"
      },
      "execution_count": 55,
      "outputs": [
        {
          "output_type": "stream",
          "name": "stdout",
          "text": [
            "97 122\n",
            "65 90\n"
          ]
        }
      ]
    },
    {
      "cell_type": "code",
      "source": [
        "print('str to ascii' , ord('a'))\n",
        "print('ascii to str', chr(97))"
      ],
      "metadata": {
        "colab": {
          "base_uri": "https://localhost:8080/"
        },
        "id": "ccAQlWmlzxbf",
        "outputId": "812b271d-ed92-4671-9ab8-a8e2b3432b1d"
      },
      "execution_count": 69,
      "outputs": [
        {
          "output_type": "stream",
          "name": "stdout",
          "text": [
            "str to ascii 97\n",
            "ascii to str a\n"
          ]
        }
      ]
    },
    {
      "cell_type": "code",
      "source": [
        "print('bat'>'ball')"
      ],
      "metadata": {
        "colab": {
          "base_uri": "https://localhost:8080/"
        },
        "id": "R8dOCotI0N1g",
        "outputId": "e5a5279b-1ea3-4a18-a633-2c70aab5864f"
      },
      "execution_count": 58,
      "outputs": [
        {
          "output_type": "stream",
          "name": "stdout",
          "text": [
            "True\n"
          ]
        }
      ]
    },
    {
      "cell_type": "code",
      "source": [
        "# ascii is standard for whole world"
      ],
      "metadata": {
        "id": "jz3VJjF30W0g"
      },
      "execution_count": 59,
      "outputs": []
    },
    {
      "cell_type": "code",
      "source": [
        "print('batter'>'bat')"
      ],
      "metadata": {
        "colab": {
          "base_uri": "https://localhost:8080/"
        },
        "id": "_SOc3pwV0cpv",
        "outputId": "8891cab6-ddc2-4cf2-c4ed-5b6913c69755"
      },
      "execution_count": 60,
      "outputs": [
        {
          "output_type": "stream",
          "name": "stdout",
          "text": [
            "True\n"
          ]
        }
      ]
    },
    {
      "cell_type": "code",
      "source": [
        "# EVERYTHING IN YOUR KEYBOARD HAS AN ORDINAL VALUE\n",
        "# EVEN SPACE HAS A ORDINAL VALUE\n",
        "ord(' ')"
      ],
      "metadata": {
        "colab": {
          "base_uri": "https://localhost:8080/"
        },
        "id": "jdPmE2Ch0qRm",
        "outputId": "67bee642-cf77-4805-abc9-a8e47f7c439e"
      },
      "execution_count": 63,
      "outputs": [
        {
          "output_type": "execute_result",
          "data": {
            "text/plain": [
              "32"
            ]
          },
          "metadata": {},
          "execution_count": 63
        }
      ]
    },
    {
      "cell_type": "code",
      "source": [
        "ord('0')"
      ],
      "metadata": {
        "colab": {
          "base_uri": "https://localhost:8080/"
        },
        "id": "lpm1WS9h1FqH",
        "outputId": "957fbfdb-f97f-4c58-d08d-3000d1e40f06"
      },
      "execution_count": 64,
      "outputs": [
        {
          "output_type": "execute_result",
          "data": {
            "text/plain": [
              "48"
            ]
          },
          "metadata": {},
          "execution_count": 64
        }
      ]
    },
    {
      "cell_type": "code",
      "source": [
        "print('this is a str')\n",
        "print(len('tis is a str'))"
      ],
      "metadata": {
        "colab": {
          "base_uri": "https://localhost:8080/"
        },
        "id": "INZZkT021QLn",
        "outputId": "9bbcd6a5-d6cc-4f95-cf8f-9c7627f17c62"
      },
      "execution_count": 65,
      "outputs": [
        {
          "output_type": "stream",
          "name": "stdout",
          "text": [
            "this is a str\n",
            "12\n"
          ]
        }
      ]
    },
    {
      "cell_type": "code",
      "source": [
        "print(len(''))"
      ],
      "metadata": {
        "colab": {
          "base_uri": "https://localhost:8080/"
        },
        "id": "WEzotGSF1ZUn",
        "outputId": "4e1f2713-e0d1-4d50-8390-c2a8d6326424"
      },
      "execution_count": 66,
      "outputs": [
        {
          "output_type": "stream",
          "name": "stdout",
          "text": [
            "0\n"
          ]
        }
      ]
    },
    {
      "cell_type": "code",
      "source": [
        "print(len(' '))"
      ],
      "metadata": {
        "colab": {
          "base_uri": "https://localhost:8080/"
        },
        "id": "rJpmqVfy1d5H",
        "outputId": "46749326-f7e2-4e36-f55d-26e256b1128c"
      },
      "execution_count": 67,
      "outputs": [
        {
          "output_type": "stream",
          "name": "stdout",
          "text": [
            "1\n"
          ]
        }
      ]
    },
    {
      "cell_type": "code",
      "source": [
        "# you cannot compare str and integer\n",
        "'ronaldo'>25"
      ],
      "metadata": {
        "colab": {
          "base_uri": "https://localhost:8080/",
          "height": 193
        },
        "id": "GZ4NFH3O1g1O",
        "outputId": "4e376e70-0c60-4252-f0ce-fb17c9e2e8aa"
      },
      "execution_count": 68,
      "outputs": [
        {
          "output_type": "error",
          "ename": "TypeError",
          "evalue": "ignored",
          "traceback": [
            "\u001b[0;31m---------------------------------------------------------------------------\u001b[0m",
            "\u001b[0;31mTypeError\u001b[0m                                 Traceback (most recent call last)",
            "\u001b[0;32m<ipython-input-68-fd245c016a15>\u001b[0m in \u001b[0;36m<cell line: 2>\u001b[0;34m()\u001b[0m\n\u001b[1;32m      1\u001b[0m \u001b[0;31m# you cannot compare str and integer\u001b[0m\u001b[0;34m\u001b[0m\u001b[0;34m\u001b[0m\u001b[0m\n\u001b[0;32m----> 2\u001b[0;31m \u001b[0;34m'ronaldo'\u001b[0m\u001b[0;34m>\u001b[0m\u001b[0;36m25\u001b[0m\u001b[0;34m\u001b[0m\u001b[0;34m\u001b[0m\u001b[0m\n\u001b[0m",
            "\u001b[0;31mTypeError\u001b[0m: '>' not supported between instances of 'str' and 'int'"
          ]
        }
      ]
    },
    {
      "cell_type": "code",
      "source": [
        "# assignment opearators\n"
      ],
      "metadata": {
        "id": "3nDAYzTq1q1G"
      },
      "execution_count": 70,
      "outputs": []
    },
    {
      "cell_type": "code",
      "source": [
        "marks=50\n",
        "print(marks)\n",
        "marks+=5\n",
        "print(marks)"
      ],
      "metadata": {
        "colab": {
          "base_uri": "https://localhost:8080/"
        },
        "id": "JOwHTSfP2Hhn",
        "outputId": "a3c1eff1-0a94-4ac7-c18c-cf7711fcb42b"
      },
      "execution_count": 71,
      "outputs": [
        {
          "output_type": "stream",
          "name": "stdout",
          "text": [
            "50\n",
            "55\n"
          ]
        }
      ]
    },
    {
      "cell_type": "code",
      "source": [
        "marks=50\n",
        "print(marks)\n",
        "marks*=5\n",
        "print(marks)"
      ],
      "metadata": {
        "colab": {
          "base_uri": "https://localhost:8080/"
        },
        "id": "cJLsYf-a2Wp3",
        "outputId": "eeb9ca41-8d87-4b78-8750-0d0f26024e9c"
      },
      "execution_count": 72,
      "outputs": [
        {
          "output_type": "stream",
          "name": "stdout",
          "text": [
            "50\n",
            "250\n"
          ]
        }
      ]
    },
    {
      "cell_type": "code",
      "source": [
        "marks=50\n",
        "print(marks)\n",
        "marks **=3\n",
        "print(marks)"
      ],
      "metadata": {
        "colab": {
          "base_uri": "https://localhost:8080/"
        },
        "id": "nReRtUVv2mW_",
        "outputId": "f38d04f1-7d5a-402f-9653-337771c29739"
      },
      "execution_count": 74,
      "outputs": [
        {
          "output_type": "stream",
          "name": "stdout",
          "text": [
            "50\n",
            "125000\n"
          ]
        }
      ]
    },
    {
      "cell_type": "code",
      "source": [
        "marks=50\n",
        "print(marks)\n",
        "marks //=5\n",
        "print(marks)"
      ],
      "metadata": {
        "colab": {
          "base_uri": "https://localhost:8080/"
        },
        "id": "PzRocOAW2o3v",
        "outputId": "9261b024-3a53-44b6-907c-4475e1e98e2b"
      },
      "execution_count": 75,
      "outputs": [
        {
          "output_type": "stream",
          "name": "stdout",
          "text": [
            "50\n",
            "10\n"
          ]
        }
      ]
    },
    {
      "cell_type": "code",
      "source": [
        "marks=50\n",
        "print(marks)\n",
        "marks %=3\n",
        "print(marks)"
      ],
      "metadata": {
        "colab": {
          "base_uri": "https://localhost:8080/"
        },
        "id": "jdeEx5MP2t8W",
        "outputId": "a759d80c-d006-4f17-b0e9-038d65050021"
      },
      "execution_count": 77,
      "outputs": [
        {
          "output_type": "stream",
          "name": "stdout",
          "text": [
            "50\n",
            "2\n"
          ]
        }
      ]
    },
    {
      "cell_type": "code",
      "source": [
        "jee= 220\n",
        "boards =75\n",
        "print(boards>=75 and jee>200) # and both codition have to be true\n"
      ],
      "metadata": {
        "colab": {
          "base_uri": "https://localhost:8080/"
        },
        "id": "Ri50-yer2w4X",
        "outputId": "56f8cea3-8f00-4c23-f380-656cae02d6e1"
      },
      "execution_count": 79,
      "outputs": [
        {
          "output_type": "stream",
          "name": "stdout",
          "text": [
            "True\n"
          ]
        }
      ]
    },
    {
      "cell_type": "code",
      "source": [
        "print(boards>=75 or jee>200)"
      ],
      "metadata": {
        "colab": {
          "base_uri": "https://localhost:8080/"
        },
        "id": "ZYyWCKuL3MW-",
        "outputId": "b5240d14-45cf-4947-e982-6496b0c0795f"
      },
      "execution_count": 81,
      "outputs": [
        {
          "output_type": "stream",
          "name": "stdout",
          "text": [
            "True\n"
          ]
        }
      ]
    },
    {
      "cell_type": "code",
      "source": [
        "#not\n",
        "# not T >> F\n",
        "# not F >> T"
      ],
      "metadata": {
        "id": "O2Zn9udp3jwW"
      },
      "execution_count": 82,
      "outputs": []
    },
    {
      "cell_type": "code",
      "source": [
        "age=20\n",
        "criminal=True\n",
        "# anyone in India who is adult and not a criminal can vote\n",
        "print(age>=18 and not criminal)\n"
      ],
      "metadata": {
        "colab": {
          "base_uri": "https://localhost:8080/"
        },
        "id": "jhrzSVvC3y2O",
        "outputId": "599ca1d2-9cb1-4ca9-d8da-f34052207a9a"
      },
      "execution_count": 83,
      "outputs": [
        {
          "output_type": "stream",
          "name": "stdout",
          "text": [
            "False\n"
          ]
        }
      ]
    },
    {
      "cell_type": "code",
      "source": [],
      "metadata": {
        "id": "WCzAQuSd4RnO"
      },
      "execution_count": null,
      "outputs": []
    }
  ]
}