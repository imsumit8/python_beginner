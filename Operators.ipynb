{
  "nbformat": 4,
  "nbformat_minor": 0,
  "metadata": {
    "colab": {
      "provenance": [],
      "authorship_tag": "ABX9TyOGuPslQml3EOvh69x253Gc",
      "include_colab_link": true
    },
    "kernelspec": {
      "name": "python3",
      "display_name": "Python 3"
    },
    "language_info": {
      "name": "python"
    }
  },
  "cells": [
    {
      "cell_type": "markdown",
      "metadata": {
        "id": "view-in-github",
        "colab_type": "text"
      },
      "source": [
        "<a href=\"https://colab.research.google.com/github/imsumit8/python_beginner/blob/main/Operators.ipynb\" target=\"_parent\"><img src=\"https://colab.research.google.com/assets/colab-badge.svg\" alt=\"Open In Colab\"/></a>"
      ]
    },
    {
      "cell_type": "code",
      "execution_count": 1,
      "metadata": {
        "colab": {
          "base_uri": "https://localhost:8080/"
        },
        "id": "aipPh3oQj7fv",
        "outputId": "6b36fa14-3385-4356-99f0-ade04b979062"
      },
      "outputs": [
        {
          "output_type": "stream",
          "name": "stdout",
          "text": [
            "25\n"
          ]
        }
      ],
      "source": [
        "print(5**2)"
      ]
    },
    {
      "cell_type": "code",
      "source": [
        "print(5.0**2.0)"
      ],
      "metadata": {
        "colab": {
          "base_uri": "https://localhost:8080/"
        },
        "id": "SyWgPOL6kHb3",
        "outputId": "36d790fe-28e4-487a-ef48-16eea016b6f6"
      },
      "execution_count": 3,
      "outputs": [
        {
          "output_type": "stream",
          "name": "stdout",
          "text": [
            "25.0\n"
          ]
        }
      ]
    },
    {
      "cell_type": "code",
      "source": [
        "print(25**(1/2))"
      ],
      "metadata": {
        "colab": {
          "base_uri": "https://localhost:8080/"
        },
        "id": "tbAmvj6AkSis",
        "outputId": "e465430f-19a2-4c7a-e7ef-b6e8793d9b9c"
      },
      "execution_count": 4,
      "outputs": [
        {
          "output_type": "stream",
          "name": "stdout",
          "text": [
            "5.0\n"
          ]
        }
      ]
    },
    {
      "cell_type": "code",
      "source": [
        "#floor division\n",
        "# find the largest integer that is smaller or equal to the value\n",
        "print(7/2,7//2)\n",
        "print(-5/2,-5//2)"
      ],
      "metadata": {
        "colab": {
          "base_uri": "https://localhost:8080/"
        },
        "id": "PTtyKvfVkj99",
        "outputId": "d4be1888-a6b3-4390-f0dc-065372cb2509"
      },
      "execution_count": 6,
      "outputs": [
        {
          "output_type": "stream",
          "name": "stdout",
          "text": [
            "3.5 3\n",
            "-2.5 -3\n"
          ]
        }
      ]
    },
    {
      "cell_type": "code",
      "source": [
        "print(625**(1/4))"
      ],
      "metadata": {
        "colab": {
          "base_uri": "https://localhost:8080/"
        },
        "id": "2H6Dl_eRlDsu",
        "outputId": "cf16c4d6-9f4c-4b3b-ed56-a9cda61b1f63"
      },
      "execution_count": 7,
      "outputs": [
        {
          "output_type": "stream",
          "name": "stdout",
          "text": [
            "5.0\n"
          ]
        }
      ]
    },
    {
      "cell_type": "code",
      "source": [
        "print(100/30)\n",
        "#you cannot break the candy\n",
        "print(100//30)"
      ],
      "metadata": {
        "colab": {
          "base_uri": "https://localhost:8080/"
        },
        "id": "82CAAJNMl7uk",
        "outputId": "c6aefd27-2a56-466f-a2d3-8f4c1030e8ac"
      },
      "execution_count": 9,
      "outputs": [
        {
          "output_type": "stream",
          "name": "stdout",
          "text": [
            "3.3333333333333335\n",
            "3\n"
          ]
        }
      ]
    },
    {
      "cell_type": "code",
      "source": [
        "# modoulus\n",
        "print(5%2)\n",
        "print(15%4)"
      ],
      "metadata": {
        "colab": {
          "base_uri": "https://localhost:8080/"
        },
        "id": "sHWplpaxml7k",
        "outputId": "f170f9c7-0fa4-488b-8f8f-62b79d4f96a7"
      },
      "execution_count": 12,
      "outputs": [
        {
          "output_type": "stream",
          "name": "stdout",
          "text": [
            "1\n",
            "3\n"
          ]
        }
      ]
    },
    {
      "cell_type": "code",
      "source": [
        "print(-15%4)"
      ],
      "metadata": {
        "colab": {
          "base_uri": "https://localhost:8080/"
        },
        "id": "D_DCXylXnKSW",
        "outputId": "ec9e3c8c-8f94-4a0e-e027-9f90fb958872"
      },
      "execution_count": 13,
      "outputs": [
        {
          "output_type": "stream",
          "name": "stdout",
          "text": [
            "1\n"
          ]
        }
      ]
    },
    {
      "cell_type": "code",
      "source": [
        "# by definition remainder can never be negative\n",
        "#  -15=(-4*4)+1\n"
      ],
      "metadata": {
        "id": "xh6c21vvneHz"
      },
      "execution_count": 14,
      "outputs": []
    },
    {
      "cell_type": "code",
      "source": [
        "print(5%2.0)\n",
        "# output will be float if one of it's operands is float"
      ],
      "metadata": {
        "colab": {
          "base_uri": "https://localhost:8080/"
        },
        "id": "Gan33Cj7ojij",
        "outputId": "453e9e7f-e91d-4669-dbce-e6332a7095b7"
      },
      "execution_count": 15,
      "outputs": [
        {
          "output_type": "stream",
          "name": "stdout",
          "text": [
            "1.0\n"
          ]
        }
      ]
    },
    {
      "cell_type": "code",
      "source": [
        "#BODMAS RULE\n",
        "5*3+5"
      ],
      "metadata": {
        "colab": {
          "base_uri": "https://localhost:8080/"
        },
        "id": "WyitdV2comCU",
        "outputId": "97896f90-46d8-4f47-b759-6a3999d3baab"
      },
      "execution_count": 16,
      "outputs": [
        {
          "output_type": "execute_result",
          "data": {
            "text/plain": [
              "20"
            ]
          },
          "metadata": {},
          "execution_count": 16
        }
      ]
    },
    {
      "cell_type": "code",
      "source": [
        "#PRIORITY:\n",
        "#1.()\n",
        "#2. **\n",
        "#3. / * // %\n",
        "#4. +-\n",
        "# In case of same priority go left to right"
      ],
      "metadata": {
        "id": "BEAoDIpspAtT"
      },
      "execution_count": 17,
      "outputs": []
    },
    {
      "cell_type": "code",
      "source": [
        "print(5*2+5)"
      ],
      "metadata": {
        "colab": {
          "base_uri": "https://localhost:8080/"
        },
        "id": "WM_86xLHp4ec",
        "outputId": "ae1f35c3-f227-4353-b3cb-0fad6fa2d4c6"
      },
      "execution_count": 18,
      "outputs": [
        {
          "output_type": "stream",
          "name": "stdout",
          "text": [
            "15\n"
          ]
        }
      ]
    },
    {
      "cell_type": "code",
      "source": [
        "print(5*2//10)"
      ],
      "metadata": {
        "colab": {
          "base_uri": "https://localhost:8080/"
        },
        "id": "sUPFk3Oop9gT",
        "outputId": "563dc3ed-89b8-4275-f24c-5b55c5611024"
      },
      "execution_count": 19,
      "outputs": [
        {
          "output_type": "stream",
          "name": "stdout",
          "text": [
            "1\n"
          ]
        }
      ]
    },
    {
      "cell_type": "code",
      "source": [
        "10-4*2 +5-6//2"
      ],
      "metadata": {
        "colab": {
          "base_uri": "https://localhost:8080/"
        },
        "id": "gNBoKm_RqPPj",
        "outputId": "cc7f0e79-53fb-48ff-e3bd-e80bc39ae3c0"
      },
      "execution_count": 20,
      "outputs": [
        {
          "output_type": "execute_result",
          "data": {
            "text/plain": [
              "4"
            ]
          },
          "metadata": {},
          "execution_count": 20
        }
      ]
    },
    {
      "cell_type": "code",
      "source": [],
      "metadata": {
        "id": "mCiu76YuqoD7"
      },
      "execution_count": null,
      "outputs": []
    }
  ]
}