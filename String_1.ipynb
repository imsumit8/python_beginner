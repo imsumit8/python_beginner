{
  "nbformat": 4,
  "nbformat_minor": 0,
  "metadata": {
    "colab": {
      "provenance": [],
      "authorship_tag": "ABX9TyOrE0/BHlfIfYM3rL0PTsBJ",
      "include_colab_link": true
    },
    "kernelspec": {
      "name": "python3",
      "display_name": "Python 3"
    },
    "language_info": {
      "name": "python"
    }
  },
  "cells": [
    {
      "cell_type": "markdown",
      "metadata": {
        "id": "view-in-github",
        "colab_type": "text"
      },
      "source": [
        "<a href=\"https://colab.research.google.com/github/imsumit8/python_beginner/blob/main/String_1.ipynb\" target=\"_parent\"><img src=\"https://colab.research.google.com/assets/colab-badge.svg\" alt=\"Open In Colab\"/></a>"
      ]
    },
    {
      "cell_type": "code",
      "execution_count": 1,
      "metadata": {
        "colab": {
          "base_uri": "https://localhost:8080/"
        },
        "id": "FxAiHL3qgtVh",
        "outputId": "66f64255-4fbc-4538-82c1-9688f7f56b4f"
      },
      "outputs": [
        {
          "output_type": "execute_result",
          "data": {
            "text/plain": [
              "97"
            ]
          },
          "metadata": {},
          "execution_count": 1
        }
      ],
      "source": [
        "ord('a')"
      ]
    },
    {
      "cell_type": "code",
      "source": [
        "ord('A')"
      ],
      "metadata": {
        "colab": {
          "base_uri": "https://localhost:8080/"
        },
        "id": "mu9OSvdThT3w",
        "outputId": "299f5872-6884-4a16-d2fe-70d83270e0b8"
      },
      "execution_count": 2,
      "outputs": [
        {
          "output_type": "execute_result",
          "data": {
            "text/plain": [
              "65"
            ]
          },
          "metadata": {},
          "execution_count": 2
        }
      ]
    },
    {
      "cell_type": "code",
      "source": [
        "ord('😊')"
      ],
      "metadata": {
        "colab": {
          "base_uri": "https://localhost:8080/"
        },
        "id": "acCR6Lt8hWTF",
        "outputId": "41a09dbf-8ea4-49cc-b86c-8a12e905fa0b"
      },
      "execution_count": 3,
      "outputs": [
        {
          "output_type": "execute_result",
          "data": {
            "text/plain": [
              "128522"
            ]
          },
          "metadata": {},
          "execution_count": 3
        }
      ]
    },
    {
      "cell_type": "code",
      "source": [
        "print(ord('a'),ord('z'))\n",
        "print(ord('A'),ord('Z'))\n",
        "print(ord('0'),ord('9'))\n"
      ],
      "metadata": {
        "colab": {
          "base_uri": "https://localhost:8080/"
        },
        "id": "CWUPdKmchvWd",
        "outputId": "d9bdd4ff-780b-4bc5-9aab-cf592fbfcaf4"
      },
      "execution_count": 5,
      "outputs": [
        {
          "output_type": "stream",
          "name": "stdout",
          "text": [
            "97 122\n",
            "65 90\n",
            "48 57\n"
          ]
        }
      ]
    },
    {
      "cell_type": "code",
      "source": [
        "'a'>'A'"
      ],
      "metadata": {
        "colab": {
          "base_uri": "https://localhost:8080/"
        },
        "id": "KsL5zwLEiQJv",
        "outputId": "729b13f5-c3af-4c53-8b07-d8d6e2e17be1"
      },
      "execution_count": 6,
      "outputs": [
        {
          "output_type": "execute_result",
          "data": {
            "text/plain": [
              "True"
            ]
          },
          "metadata": {},
          "execution_count": 6
        }
      ]
    },
    {
      "cell_type": "code",
      "source": [
        "chr(10500)"
      ],
      "metadata": {
        "colab": {
          "base_uri": "https://localhost:8080/",
          "height": 36
        },
        "id": "1LqL_EO1ikFV",
        "outputId": "009ca4a7-f160-4af3-af19-86070df2d7bc"
      },
      "execution_count": 7,
      "outputs": [
        {
          "output_type": "execute_result",
          "data": {
            "text/plain": [
              "'⤄'"
            ],
            "application/vnd.google.colaboratory.intrinsic+json": {
              "type": "string"
            }
          },
          "metadata": {},
          "execution_count": 7
        }
      ]
    },
    {
      "cell_type": "code",
      "source": [
        "print('>>+')\n",
        "print(\"cristiano\"+\"Ronaldo\")"
      ],
      "metadata": {
        "colab": {
          "base_uri": "https://localhost:8080/"
        },
        "id": "DOid1Uejiq-E",
        "outputId": "5bf0f64e-fc74-4749-c7e1-d804741e52cb"
      },
      "execution_count": 8,
      "outputs": [
        {
          "output_type": "stream",
          "name": "stdout",
          "text": [
            ">>+\n",
            "cristianoRonaldo\n"
          ]
        }
      ]
    },
    {
      "cell_type": "code",
      "source": [
        "#f str\n",
        "my_str=\"I live on earth, and we are 3 planet\""
      ],
      "metadata": {
        "id": "2y9VXZzhi8vV"
      },
      "execution_count": 9,
      "outputs": []
    },
    {
      "cell_type": "code",
      "source": [
        "planet='Earth'\n",
        "rank=3\n",
        "#1: Replace all the data with var names with {}\n",
        "\n",
        "my_str=f\"I live on {planet}, and we are {rank} planet\"\n",
        "print(my_str)"
      ],
      "metadata": {
        "colab": {
          "base_uri": "https://localhost:8080/"
        },
        "id": "K021KDa7jQn9",
        "outputId": "8386fd26-64b2-405f-9913-55bf68e147be"
      },
      "execution_count": 10,
      "outputs": [
        {
          "output_type": "stream",
          "name": "stdout",
          "text": [
            "I live on Earth, and we are 3 planet\n"
          ]
        }
      ]
    },
    {
      "cell_type": "code",
      "source": [
        "my_str=\"I live on {}, and we are {} planet\".format(planet,rank)\n",
        "print(my_str)"
      ],
      "metadata": {
        "colab": {
          "base_uri": "https://localhost:8080/"
        },
        "id": "q3YUPV1mj6G4",
        "outputId": "eba8908b-8b60-4a98-e6ad-2e10fecc8d0d"
      },
      "execution_count": 11,
      "outputs": [
        {
          "output_type": "stream",
          "name": "stdout",
          "text": [
            "I live on Earth, and we are 3 planet\n"
          ]
        }
      ]
    },
    {
      "cell_type": "code",
      "source": [],
      "metadata": {
        "id": "gZTU03mUlNIE"
      },
      "execution_count": null,
      "outputs": []
    },
    {
      "cell_type": "markdown",
      "source": [
        "Question-1\n",
        "Take a string input from user and print that string character by character, with each character in new line.\n"
      ],
      "metadata": {
        "id": "2jTstEswlNj6"
      }
    },
    {
      "cell_type": "code",
      "source": [
        "string=input()\n",
        "for i in string:\n",
        "  print(i)"
      ],
      "metadata": {
        "colab": {
          "base_uri": "https://localhost:8080/"
        },
        "id": "uvO19GySkbTc",
        "outputId": "a36762b1-30fc-42a8-8554-18606c40dcf4"
      },
      "execution_count": 13,
      "outputs": [
        {
          "output_type": "stream",
          "name": "stdout",
          "text": [
            "fghjk\n",
            "f\n",
            "g\n",
            "h\n",
            "j\n",
            "k\n"
          ]
        }
      ]
    },
    {
      "cell_type": "code",
      "source": [
        "my_str=input()\n",
        "first_character=my_str[0]\n",
        "last_character=my_str[-1]\n",
        "print(f\"first character-{first_character} , last_character- {last_character}\")"
      ],
      "metadata": {
        "colab": {
          "base_uri": "https://localhost:8080/"
        },
        "id": "H00zCbvXk_iU",
        "outputId": "d3c709ea-c895-4c10-9205-58d638e0e0b8"
      },
      "execution_count": 17,
      "outputs": [
        {
          "output_type": "stream",
          "name": "stdout",
          "text": [
            "INDIA\n",
            "first character-I , last_character- A\n"
          ]
        }
      ]
    },
    {
      "cell_type": "code",
      "source": [
        "# you cannot update a string\n",
        "my_str[3]='g'"
      ],
      "metadata": {
        "colab": {
          "base_uri": "https://localhost:8080/",
          "height": 200
        },
        "id": "nqMORUkxpQL6",
        "outputId": "8471ee70-608c-45c0-d9f8-5d7fc86da7ab"
      },
      "execution_count": 20,
      "outputs": [
        {
          "output_type": "error",
          "ename": "TypeError",
          "evalue": "ignored",
          "traceback": [
            "\u001b[0;31m---------------------------------------------------------------------------\u001b[0m",
            "\u001b[0;31mTypeError\u001b[0m                                 Traceback (most recent call last)",
            "\u001b[0;32m<ipython-input-20-7978010f3e7c>\u001b[0m in \u001b[0;36m<cell line: 2>\u001b[0;34m()\u001b[0m\n\u001b[1;32m      1\u001b[0m \u001b[0;31m# you cannot update a string\u001b[0m\u001b[0;34m\u001b[0m\u001b[0;34m\u001b[0m\u001b[0m\n\u001b[0;32m----> 2\u001b[0;31m \u001b[0mmy_str\u001b[0m\u001b[0;34m[\u001b[0m\u001b[0;36m3\u001b[0m\u001b[0;34m]\u001b[0m\u001b[0;34m=\u001b[0m\u001b[0;34m'g'\u001b[0m\u001b[0;34m\u001b[0m\u001b[0;34m\u001b[0m\u001b[0m\n\u001b[0m",
            "\u001b[0;31mTypeError\u001b[0m: 'str' object does not support item assignment"
          ]
        }
      ]
    },
    {
      "cell_type": "code",
      "source": [
        "my_str=input()\n",
        "print(my_str[::-1])\n"
      ],
      "metadata": {
        "colab": {
          "base_uri": "https://localhost:8080/"
        },
        "id": "woi_jqudm5Zv",
        "outputId": "38be3b64-d447-4575-9e4a-2804b9aeded3"
      },
      "execution_count": 18,
      "outputs": [
        {
          "output_type": "stream",
          "name": "stdout",
          "text": [
            "asdfg\n",
            "gfdsa\n"
          ]
        }
      ]
    },
    {
      "cell_type": "code",
      "source": [
        "my_str=input().lower()\n",
        "if my_str==my_str[::-1]:\n",
        "  print(\"Palindrome\")\n",
        "else:\n",
        "  print(\"Not palindrome\")"
      ],
      "metadata": {
        "colab": {
          "base_uri": "https://localhost:8080/"
        },
        "id": "b7TAWSoOojIz",
        "outputId": "9d11fe49-3348-44f1-e949-2baaa3320db7"
      },
      "execution_count": 23,
      "outputs": [
        {
          "output_type": "stream",
          "name": "stdout",
          "text": [
            "Noon\n",
            "Palindrome\n"
          ]
        }
      ]
    },
    {
      "cell_type": "code",
      "source": [
        "list(reversed(my_str))"
      ],
      "metadata": {
        "colab": {
          "base_uri": "https://localhost:8080/"
        },
        "id": "zWjYhHV3pHri",
        "outputId": "5fd9a804-6903-4aa1-918c-ea0fefab798c"
      },
      "execution_count": 26,
      "outputs": [
        {
          "output_type": "execute_result",
          "data": {
            "text/plain": [
              "['n', 'o', 'o', 'n']"
            ]
          },
          "metadata": {},
          "execution_count": 26
        }
      ]
    },
    {
      "cell_type": "markdown",
      "source": [
        "Question-5\n",
        "Take a string input from user.\n",
        "Print the number of upper case characters in that string.\n"
      ],
      "metadata": {
        "id": "5_-nYMz4tgJV"
      }
    },
    {
      "cell_type": "code",
      "source": [
        "#1\n",
        "my_str=input()\n",
        "sum=0\n",
        "for CHARACTER in my_str:\n",
        "  if ord(CHARACTER)>=65 and ord(CHARACTER)<=90:\n",
        "    sum+=1\n",
        "print(f\"Number of uppercase char is {sum}\")"
      ],
      "metadata": {
        "colab": {
          "base_uri": "https://localhost:8080/"
        },
        "id": "MCQOtCm5qubz",
        "outputId": "803f2666-1718-44d7-9101-49caa2f08342"
      },
      "execution_count": 28,
      "outputs": [
        {
          "output_type": "stream",
          "name": "stdout",
          "text": [
            "SEDGYUKdfhjymkuk\n",
            "Number of uppercase char is 7\n"
          ]
        }
      ]
    },
    {
      "cell_type": "code",
      "source": [
        "#1\n",
        "my_str=input()\n",
        "sum=0\n",
        "for CHARACTER in my_str:\n",
        "  if CHARACTER.isupper():\n",
        "    sum+=1\n",
        "print(f\"Number of uppercase char is {sum}\")"
      ],
      "metadata": {
        "colab": {
          "base_uri": "https://localhost:8080/"
        },
        "id": "0CCuOrkqtVGx",
        "outputId": "152f6789-bd9e-468a-b176-832389426667"
      },
      "execution_count": 29,
      "outputs": [
        {
          "output_type": "stream",
          "name": "stdout",
          "text": [
            "India\n",
            "Number of uppercase char is 1\n"
          ]
        }
      ]
    },
    {
      "cell_type": "code",
      "source": [
        "# Split and join\n",
        "my_str=\"1,2,3,4,5,6\"\n",
        "print(my_str.split(','))"
      ],
      "metadata": {
        "colab": {
          "base_uri": "https://localhost:8080/"
        },
        "id": "ax0tLXqBun4D",
        "outputId": "2c4aeed5-68bf-4a27-be3e-cc3431915ac5"
      },
      "execution_count": 30,
      "outputs": [
        {
          "output_type": "stream",
          "name": "stdout",
          "text": [
            "['1', '2', '3', '4', '5', '6']\n"
          ]
        }
      ]
    },
    {
      "cell_type": "code",
      "source": [
        "my_list_of_str=['1','2','3','4','5']\n",
        "print(' '.join(my_list_of_str))\n",
        "print('__'.join(my_list_of_str))"
      ],
      "metadata": {
        "colab": {
          "base_uri": "https://localhost:8080/"
        },
        "id": "7K_10A-lvEdh",
        "outputId": "4ca65ff4-3480-4312-d698-9b9970328391"
      },
      "execution_count": 32,
      "outputs": [
        {
          "output_type": "stream",
          "name": "stdout",
          "text": [
            "1 2 3 4 5\n",
            "1__2__3__4__5\n"
          ]
        }
      ]
    },
    {
      "cell_type": "code",
      "source": [
        "char=[chr(int(i))  for i in input().split(',')]\n",
        "print(''.join(char))\n",
        "\n",
        "\n"
      ],
      "metadata": {
        "colab": {
          "base_uri": "https://localhost:8080/"
        },
        "id": "vEooFCSXvZyg",
        "outputId": "3c12bca8-8d84-4d48-b805-81e32c332e34"
      },
      "execution_count": 36,
      "outputs": [
        {
          "output_type": "stream",
          "name": "stdout",
          "text": [
            "1,5,89\n",
            "\u0001\u0005Y\n"
          ]
        }
      ]
    },
    {
      "cell_type": "code",
      "source": [
        "def generate_str(lst):\n",
        "  s=\"\"\n",
        "  for i in lst:\n",
        "    s+=chr(i)\n",
        "  return s"
      ],
      "metadata": {
        "id": "iaSWcY7fwMBI"
      },
      "execution_count": 37,
      "outputs": []
    },
    {
      "cell_type": "code",
      "source": [
        "generate_str([65,97,68])"
      ],
      "metadata": {
        "colab": {
          "base_uri": "https://localhost:8080/",
          "height": 36
        },
        "id": "kWa3aKZ0wRgg",
        "outputId": "c7825594-7387-4bc7-ecce-32e5705011ad"
      },
      "execution_count": 39,
      "outputs": [
        {
          "output_type": "execute_result",
          "data": {
            "text/plain": [
              "'AaD'"
            ],
            "application/vnd.google.colaboratory.intrinsic+json": {
              "type": "string"
            }
          },
          "metadata": {},
          "execution_count": 39
        }
      ]
    },
    {
      "cell_type": "code",
      "source": [
        "def generate_str(lst):\n",
        "  s=[]\n",
        "  for i in lst:\n",
        "    s.append(chr(i))\n",
        "  return \"\".join(s)\n"
      ],
      "metadata": {
        "id": "ae0Px8mWxzq_"
      },
      "execution_count": 43,
      "outputs": []
    },
    {
      "cell_type": "code",
      "source": [
        "generate_str([65,97,68])"
      ],
      "metadata": {
        "colab": {
          "base_uri": "https://localhost:8080/",
          "height": 36
        },
        "id": "8hdUjEm_yXBJ",
        "outputId": "2ae073e5-6abc-4c96-981b-4cc8e18a522d"
      },
      "execution_count": 44,
      "outputs": [
        {
          "output_type": "execute_result",
          "data": {
            "text/plain": [
              "'AaD'"
            ],
            "application/vnd.google.colaboratory.intrinsic+json": {
              "type": "string"
            }
          },
          "metadata": {},
          "execution_count": 44
        }
      ]
    },
    {
      "cell_type": "markdown",
      "source": [
        "Question-7\n",
        "Get input from the user of a string of comma separated int.\n",
        "Convert it into a list of individual int.\n",
        "\"56,78,99,101\"\n",
        "[56, 78, 99, 101]\n"
      ],
      "metadata": {
        "id": "jCxbyVGQymvT"
      }
    },
    {
      "cell_type": "code",
      "source": [
        "my_str=[int(i) for i in input().split(',')]\n",
        "print(my_str)"
      ],
      "metadata": {
        "colab": {
          "base_uri": "https://localhost:8080/"
        },
        "id": "KxG3xZ0hyniQ",
        "outputId": "051bb39d-552e-475c-a063-b69b54ac8350"
      },
      "execution_count": 40,
      "outputs": [
        {
          "output_type": "stream",
          "name": "stdout",
          "text": [
            "5,6,7,8,9\n",
            "[5, 6, 7, 8, 9]\n"
          ]
        }
      ]
    },
    {
      "cell_type": "code",
      "source": [],
      "metadata": {
        "id": "73Tx7MoMzArh"
      },
      "execution_count": null,
      "outputs": []
    }
  ]
}