{
  "nbformat": 4,
  "nbformat_minor": 0,
  "metadata": {
    "colab": {
      "provenance": [],
      "authorship_tag": "ABX9TyOFiKsyUYmn6qVBouESPIyh",
      "include_colab_link": true
    },
    "kernelspec": {
      "name": "python3",
      "display_name": "Python 3"
    },
    "language_info": {
      "name": "python"
    }
  },
  "cells": [
    {
      "cell_type": "markdown",
      "metadata": {
        "id": "view-in-github",
        "colab_type": "text"
      },
      "source": [
        "<a href=\"https://colab.research.google.com/github/imsumit8/python_beginner/blob/main/Functions_1.ipynb\" target=\"_parent\"><img src=\"https://colab.research.google.com/assets/colab-badge.svg\" alt=\"Open In Colab\"/></a>"
      ]
    },
    {
      "cell_type": "code",
      "execution_count": 1,
      "metadata": {
        "id": "jUfJ7U9K5q3w"
      },
      "outputs": [],
      "source": [
        "def tea_maker():\n",
        "  print(\"making tea\")"
      ]
    },
    {
      "cell_type": "code",
      "source": [
        "tea_maker()\n",
        "tea_maker()\n",
        "tea_maker()\n",
        "tea_maker()\n",
        "tea_maker()"
      ],
      "metadata": {
        "colab": {
          "base_uri": "https://localhost:8080/"
        },
        "id": "wFUroiyY54fv",
        "outputId": "2c61c04b-3931-4637-c4f2-32377904ba86"
      },
      "execution_count": 2,
      "outputs": [
        {
          "output_type": "stream",
          "name": "stdout",
          "text": [
            "making tea\n",
            "making tea\n",
            "making tea\n",
            "making tea\n",
            "making tea\n"
          ]
        }
      ]
    },
    {
      "cell_type": "code",
      "source": [
        "for i in range(5):\n",
        "  print(\"making tea\")"
      ],
      "metadata": {
        "colab": {
          "base_uri": "https://localhost:8080/"
        },
        "id": "MZsjoO3U6AF7",
        "outputId": "712f7d9c-5522-4202-d899-e2e2f70120c5"
      },
      "execution_count": 3,
      "outputs": [
        {
          "output_type": "stream",
          "name": "stdout",
          "text": [
            "making tea\n",
            "making tea\n",
            "making tea\n",
            "making tea\n",
            "making tea\n"
          ]
        }
      ]
    },
    {
      "cell_type": "code",
      "source": [
        "def making_tea():\n",
        "  print(\"Step 1\")\n",
        "  print(\"step 2\")\n",
        "  print(\"step 3\")"
      ],
      "metadata": {
        "id": "7GoaLHut6RS7"
      },
      "execution_count": 4,
      "outputs": []
    },
    {
      "cell_type": "code",
      "source": [
        "def making_tea():\n",
        "  for i in range(n):\n",
        "    print(\"making tea\")"
      ],
      "metadata": {
        "id": "FLfpA6r06pkT"
      },
      "execution_count": 5,
      "outputs": []
    },
    {
      "cell_type": "code",
      "source": [
        "def hello(name):\n",
        "  print(\"HELLO\",name,\"!\")"
      ],
      "metadata": {
        "id": "3ON5Segq7C-r"
      },
      "execution_count": 6,
      "outputs": []
    },
    {
      "cell_type": "code",
      "source": [
        "name=input()\n",
        "hello(name)"
      ],
      "metadata": {
        "colab": {
          "base_uri": "https://localhost:8080/"
        },
        "id": "s2O7Pxrq9xPL",
        "outputId": "bc85a29e-6a8b-443c-f338-786b941762ea"
      },
      "execution_count": 7,
      "outputs": [
        {
          "output_type": "stream",
          "name": "stdout",
          "text": [
            "sumit\n",
            "HELLO sumit !\n"
          ]
        }
      ]
    },
    {
      "cell_type": "code",
      "source": [
        "def propose(name):\n",
        "  print(\"I LOVE YOU\",name,end=\"!\")\n",
        "\n",
        "dare_name=input()\n",
        "propose(dare_name)"
      ],
      "metadata": {
        "colab": {
          "base_uri": "https://localhost:8080/"
        },
        "id": "a7sapQUH96Oi",
        "outputId": "a76e0349-b9c3-44ac-a187-ed70eda9ffb8"
      },
      "execution_count": 9,
      "outputs": [
        {
          "output_type": "stream",
          "name": "stdout",
          "text": [
            "sdfg\n",
            "I LOVE YOU sdfg!"
          ]
        }
      ]
    },
    {
      "cell_type": "code",
      "source": [
        "def product(a,b):\n",
        "\n",
        "  return a*b\n",
        "\n",
        "result=product(5,6)\n",
        "print(result)"
      ],
      "metadata": {
        "colab": {
          "base_uri": "https://localhost:8080/"
        },
        "id": "O9TlXKVcBdgx",
        "outputId": "d64066cf-687b-416e-c07a-fcb48d0bc4cf"
      },
      "execution_count": 13,
      "outputs": [
        {
          "output_type": "stream",
          "name": "stdout",
          "text": [
            "30\n"
          ]
        }
      ]
    },
    {
      "cell_type": "code",
      "source": [
        "def convert(t):\n",
        "    return t*9/5 + 32\n",
        "\n",
        "print(convert(20))\n"
      ],
      "metadata": {
        "colab": {
          "base_uri": "https://localhost:8080/"
        },
        "id": "t_7Cl3qaPtL2",
        "outputId": "21f85687-33c2-4f40-ab5e-147d6294c35c"
      },
      "execution_count": 14,
      "outputs": [
        {
          "output_type": "stream",
          "name": "stdout",
          "text": [
            "68.0\n"
          ]
        }
      ]
    },
    {
      "cell_type": "code",
      "source": [
        "x = 55\n",
        "def hi():\n",
        "  return x\n",
        "x +=10\n",
        "print(hi())\n"
      ],
      "metadata": {
        "colab": {
          "base_uri": "https://localhost:8080/"
        },
        "id": "djFTxRRfUrQ7",
        "outputId": "db0b9e4f-1459-46aa-c203-1b64e2b8fe06"
      },
      "execution_count": 15,
      "outputs": [
        {
          "output_type": "stream",
          "name": "stdout",
          "text": [
            "65\n"
          ]
        }
      ]
    },
    {
      "cell_type": "code",
      "source": [],
      "metadata": {
        "id": "_yy60nqpU9ti"
      },
      "execution_count": null,
      "outputs": []
    }
  ]
}