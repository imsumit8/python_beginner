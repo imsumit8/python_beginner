{
  "nbformat": 4,
  "nbformat_minor": 0,
  "metadata": {
    "colab": {
      "provenance": [],
      "authorship_tag": "ABX9TyMA9GCU2hXNy4C8u5GVo6z1",
      "include_colab_link": true
    },
    "kernelspec": {
      "name": "python3",
      "display_name": "Python 3"
    },
    "language_info": {
      "name": "python"
    }
  },
  "cells": [
    {
      "cell_type": "markdown",
      "metadata": {
        "id": "view-in-github",
        "colab_type": "text"
      },
      "source": [
        "<a href=\"https://colab.research.google.com/github/imsumit8/python_beginner/blob/main/Control_Statements.ipynb\" target=\"_parent\"><img src=\"https://colab.research.google.com/assets/colab-badge.svg\" alt=\"Open In Colab\"/></a>"
      ]
    },
    {
      "cell_type": "code",
      "execution_count": 1,
      "metadata": {
        "colab": {
          "base_uri": "https://localhost:8080/"
        },
        "id": "9q2x1M1ZEp2s",
        "outputId": "d4130d0b-8cad-4ce8-9ff2-18d94d232857"
      },
      "outputs": [
        {
          "output_type": "stream",
          "name": "stdout",
          "text": [
            "True\n"
          ]
        }
      ],
      "source": [
        "age=26\n",
        "print(age>=18)"
      ]
    },
    {
      "cell_type": "code",
      "source": [
        "age =26\n",
        "if age >= 18:\n",
        "  print(\"you can vote!\")\n",
        "  print(\"your age next year will be\",age+1)\n",
        "  print(\"Democracy works because of your votes\")\n"
      ],
      "metadata": {
        "colab": {
          "base_uri": "https://localhost:8080/"
        },
        "id": "zUtBOJ4KE4NA",
        "outputId": "58e292a9-ab1d-4397-b56a-62765837bedb"
      },
      "execution_count": 3,
      "outputs": [
        {
          "output_type": "stream",
          "name": "stdout",
          "text": [
            "you can vote!\n",
            "your age next year will be 27\n",
            "Democracy works because of your votes\n"
          ]
        }
      ]
    },
    {
      "cell_type": "code",
      "source": [
        "age =2\n",
        "if age < 18:\n",
        "  print(\"you can't vote!\")\n",
        "  print(\"your age next year will be\",age+1)\n",
        "  print(\"Democracy works because of someone else's votes\")\n"
      ],
      "metadata": {
        "colab": {
          "base_uri": "https://localhost:8080/"
        },
        "id": "xdMLIkOkFEAJ",
        "outputId": "c42a14ce-1203-46a8-e210-733e60054318"
      },
      "execution_count": 5,
      "outputs": [
        {
          "output_type": "stream",
          "name": "stdout",
          "text": [
            "you can't vote!\n",
            "your age next year will be 3\n",
            "Democracy works because of someone else's votes\n"
          ]
        }
      ]
    },
    {
      "cell_type": "code",
      "source": [
        "age =26\n",
        "if age >= 18:\n",
        "  print(\"you can vote!\")\n",
        "  print(\"your age next year will be\",age+1)\n",
        "  print(\"Democracy works because of your votes\")\n",
        "\n",
        "  if not age>=18:\n",
        "    print(\"you can't vote!\")\n",
        "    print(\"your age next year will be\",age+1)\n",
        "    print(\"Democracy works because of someone else votes\")\n",
        "\n"
      ],
      "metadata": {
        "colab": {
          "base_uri": "https://localhost:8080/"
        },
        "id": "YO4r3vj4HRpB",
        "outputId": "71b739f5-3f4f-4090-b033-5dd6b7569084"
      },
      "execution_count": 6,
      "outputs": [
        {
          "output_type": "stream",
          "name": "stdout",
          "text": [
            "you can vote!\n",
            "your age next year will be 27\n",
            "Democracy works because of your votes\n"
          ]
        }
      ]
    },
    {
      "cell_type": "code",
      "source": [
        "age =2\n",
        "if age >= 18:\n",
        "  print(\"you can vote!\")\n",
        "  print(\"your age next year will be\",age+1)\n",
        "  print(\"Democracy works because of your votes\")\n",
        "\n",
        "if not age>=18:\n",
        "    print(\"you can't vote!\")\n",
        "    print(\"your age next year will be\",age+1)\n",
        "    print(\"Democracy works because of someone else votes\")\n",
        "\n"
      ],
      "metadata": {
        "colab": {
          "base_uri": "https://localhost:8080/"
        },
        "id": "gU4E5lCHJZ9H",
        "outputId": "5f8c472c-20d1-4bf4-c64d-6d51fd3035e9"
      },
      "execution_count": 8,
      "outputs": [
        {
          "output_type": "stream",
          "name": "stdout",
          "text": [
            "you can't vote!\n",
            "your age next year will be 3\n",
            "Democracy works because of someone else votes\n"
          ]
        }
      ]
    },
    {
      "cell_type": "code",
      "source": [
        "# if-else\n",
        "age =2\n",
        "if age >= 18:\n",
        "  print(\"you can vote!\")\n",
        "  print(\"your age next year will be\",age+1)\n",
        "  print(\"Democracy works because of your votes\")\n",
        "\n",
        "else:\n",
        "    print(\"you can't vote!\")\n",
        "    print(\"your age next year will be\",age+1)\n",
        "    print(\"Democracy works because of someone else votes\")\n",
        "\n"
      ],
      "metadata": {
        "colab": {
          "base_uri": "https://localhost:8080/"
        },
        "id": "FmMg0k4uJg1H",
        "outputId": "28aca8a5-6ae5-46a7-fe6b-70f778f53513"
      },
      "execution_count": 9,
      "outputs": [
        {
          "output_type": "stream",
          "name": "stdout",
          "text": [
            "you can't vote!\n",
            "your age next year will be 3\n",
            "Democracy works because of someone else votes\n"
          ]
        }
      ]
    },
    {
      "cell_type": "code",
      "source": [
        "chefMode='Happy'\n",
        "if chefMode == 'Happy':\n",
        "  quality_of_food=\"Great\"\n",
        "else:\n",
        "  quality_of_food=\"Not Great\"\n",
        "print(\"The food quality will be\",quality_of_food)"
      ],
      "metadata": {
        "colab": {
          "base_uri": "https://localhost:8080/"
        },
        "id": "rVKEwUfZKPP0",
        "outputId": "bc63b0e9-cd85-4905-c7ab-54a0ffee6d80"
      },
      "execution_count": 10,
      "outputs": [
        {
          "output_type": "stream",
          "name": "stdout",
          "text": [
            "The food quality will be Great\n"
          ]
        }
      ]
    },
    {
      "cell_type": "code",
      "source": [
        "chefMode='Sad'\n",
        "if chefMode == 'Happy':\n",
        "  quality_of_food=\"Great\"\n",
        "else:\n",
        "  quality_of_food=\"Not Great\"\n",
        "print(\"The food quality will be\",quality_of_food)"
      ],
      "metadata": {
        "colab": {
          "base_uri": "https://localhost:8080/"
        },
        "id": "hhSVCRgGL6z7",
        "outputId": "078d80ef-c589-4828-9852-ee84ff6aa0a1"
      },
      "execution_count": 11,
      "outputs": [
        {
          "output_type": "stream",
          "name": "stdout",
          "text": [
            "The food quality will be Not Great\n"
          ]
        }
      ]
    },
    {
      "cell_type": "code",
      "source": [
        "print('''\n",
        "Question 1:\n",
        "1. Ask the user to give some integer input\n",
        "2.calculate cube of the input integer\n",
        "3. If cube> 50:\n",
        "     if yes: say \"that is huge\"\n",
        "     if no: say \"that is tiny\"\n",
        "4. say \"Execution complete\"\n",
        "''')"
      ],
      "metadata": {
        "colab": {
          "base_uri": "https://localhost:8080/"
        },
        "id": "LhpV7VbwL-oi",
        "outputId": "72330fb3-8acb-404b-e9fa-cd568abb9d9b"
      },
      "execution_count": 12,
      "outputs": [
        {
          "output_type": "stream",
          "name": "stdout",
          "text": [
            "\n",
            "Question 1:\n",
            "1. Ask the user to give some integer input\n",
            "2.calculate cube of the input integer\n",
            "3. If cube> 50:\n",
            "     if yes: say \"that is huge\"\n",
            "     if no: say \"that is tiny\"\n",
            "4. say \"Execution complete\"\n",
            "\n"
          ]
        }
      ]
    },
    {
      "cell_type": "code",
      "source": [
        "inp=int(input(\"please give an integer: \"))\n",
        "cube=inp**3\n",
        "if cube>50:\n",
        "  print(\"that is huge\")\n",
        "else:\n",
        "  print(\"that is tiny\")\n",
        "print(\"Execution complete\")"
      ],
      "metadata": {
        "colab": {
          "base_uri": "https://localhost:8080/"
        },
        "id": "mZaByHF9ULgX",
        "outputId": "eab41cdf-e56e-48bc-b922-0e60e3abdd4b"
      },
      "execution_count": 13,
      "outputs": [
        {
          "output_type": "stream",
          "name": "stdout",
          "text": [
            "please give an integer: 5\n",
            "that is huge\n",
            "Execution complete\n"
          ]
        }
      ]
    },
    {
      "cell_type": "code",
      "source": [
        "# Greeting clock\n",
        "# Good morning, Good evening, Good afternoon,Good night\n"
      ],
      "metadata": {
        "id": "c3mJlcFfUrMR"
      },
      "execution_count": 14,
      "outputs": []
    },
    {
      "cell_type": "code",
      "source": [
        "time=20\n",
        "\n",
        "if time>=9 and time<12:\n",
        "  print(\"Good Morning\")\n",
        "else:\n",
        "  if time>=12 and time <17:\n",
        "    print(\"Good Afternoon\")\n",
        "  else:\n",
        "    if time>=17 and time<20:\n",
        "      print(\"Good evening\")\n",
        "    else:\n",
        "      print(\"Good Night\")"
      ],
      "metadata": {
        "colab": {
          "base_uri": "https://localhost:8080/"
        },
        "id": "Fns2NkwEWajN",
        "outputId": "5a50ac9c-c1bc-4f95-9661-1d5ced21d43d"
      },
      "execution_count": 16,
      "outputs": [
        {
          "output_type": "stream",
          "name": "stdout",
          "text": [
            "Good Night\n"
          ]
        }
      ]
    },
    {
      "cell_type": "code",
      "source": [
        "# Alternate approach elif\n",
        "time=22\n",
        "\n",
        "if time>=9 and time<12:\n",
        "  print(\"Good Morning\")\n",
        "elif time>=12 and time <17:\n",
        "  print(\"Good Afternoon\")\n",
        "elif time>=17 and time<20:\n",
        "  print(\"Good evening\")\n",
        "else:\n",
        "  print(\"Good Night\")"
      ],
      "metadata": {
        "colab": {
          "base_uri": "https://localhost:8080/"
        },
        "id": "18vfz6S8XaiY",
        "outputId": "0fab3662-069c-4e17-a4c4-09316dd88212"
      },
      "execution_count": 17,
      "outputs": [
        {
          "output_type": "stream",
          "name": "stdout",
          "text": [
            "Good Night\n"
          ]
        }
      ]
    },
    {
      "cell_type": "code",
      "source": [
        "print(\"\"\"\n",
        "Question 2:\n",
        "1. ask the user to enter an integer\n",
        "2. check if it is positive(>0) OR it is not positive\n",
        "\n",
        "eg:\n",
        "5>> positive\n",
        "0>> not positive\n",
        "-10>> not positive\n",
        "\"\"\")\n"
      ],
      "metadata": {
        "colab": {
          "base_uri": "https://localhost:8080/"
        },
        "id": "wxa_7oYoZGf1",
        "outputId": "4524e870-6fae-4351-b5a4-f151218a8d26"
      },
      "execution_count": 18,
      "outputs": [
        {
          "output_type": "stream",
          "name": "stdout",
          "text": [
            "\n",
            "Question 2:\n",
            "1. ask the user to enter an integer\n",
            "2. check if it is positive(>0) OR it is not positive\n",
            "\n",
            "eg:\n",
            "5>> positive\n",
            "0>> not positive\n",
            "-10>> not positive\n",
            "\n"
          ]
        }
      ]
    },
    {
      "cell_type": "code",
      "source": [
        "m=int(input(\"Please enter an integer: \"))\n",
        "if m>0:\n",
        "  print('positive')\n",
        "else:\n",
        "  print('Not positive')"
      ],
      "metadata": {
        "colab": {
          "base_uri": "https://localhost:8080/"
        },
        "id": "Q7stHW2NZmo4",
        "outputId": "03ea00d4-7eef-4fb8-d3ef-6dcfbeb2711e"
      },
      "execution_count": 21,
      "outputs": [
        {
          "output_type": "stream",
          "name": "stdout",
          "text": [
            "Please enter an integer: -5\n",
            "Not positive\n"
          ]
        }
      ]
    },
    {
      "cell_type": "code",
      "source": [
        "\n",
        "print(\"\"\"\n",
        "Question 2: Part II\n",
        "1. ask the user to enter an integer\n",
        "2. check if it is positive OR negative OR zero\n",
        "\n",
        "eg:\n",
        "5>> positive\n",
        "0>> zero\n",
        "-10>> negative\n",
        "\"\"\")"
      ],
      "metadata": {
        "colab": {
          "base_uri": "https://localhost:8080/"
        },
        "id": "wzaQd2rJZ_jt",
        "outputId": "6e71ed57-a6ca-457a-92f9-90cb318f8356"
      },
      "execution_count": 22,
      "outputs": [
        {
          "output_type": "stream",
          "name": "stdout",
          "text": [
            "\n",
            "Question 2: Part II\n",
            "1. ask the user to enter an integer\n",
            "2. check if it is positive OR negative OR zero\n",
            "\n",
            "eg:\n",
            "5>> positive\n",
            "0>> zero\n",
            "-10>> negative\n",
            "\n"
          ]
        }
      ]
    },
    {
      "cell_type": "code",
      "source": [
        "m=int(input(\"Please enter an integer: \"))\n",
        "if m>0:\n",
        "  print('positive')\n",
        "elif m<0:\n",
        "  print('Negative')\n",
        "else:\n",
        "  print('Zero')"
      ],
      "metadata": {
        "colab": {
          "base_uri": "https://localhost:8080/"
        },
        "id": "xhe8l9v9azLP",
        "outputId": "d9321087-81ca-45bc-c16d-89d6b97fb680"
      },
      "execution_count": 26,
      "outputs": [
        {
          "output_type": "stream",
          "name": "stdout",
          "text": [
            "Please enter an integer: -8\n",
            "Negative\n"
          ]
        }
      ]
    },
    {
      "cell_type": "code",
      "source": [
        "m=int(input(\"Please enter an integer: \"))\n",
        "if m>0:\n",
        "  print('positive')\n",
        "elif m<0:\n",
        "  print('Negative')\n",
        "elif m==0:\n",
        "  print('Zero')"
      ],
      "metadata": {
        "colab": {
          "base_uri": "https://localhost:8080/"
        },
        "id": "2iZkicD_bDLO",
        "outputId": "fa43ca45-1afa-4c36-99ee-3977400c2d8e"
      },
      "execution_count": 27,
      "outputs": [
        {
          "output_type": "stream",
          "name": "stdout",
          "text": [
            "Please enter an integer: 0\n",
            "Zero\n"
          ]
        }
      ]
    },
    {
      "cell_type": "code",
      "source": [
        "\n",
        "print(\"\"\"\n",
        "Question 3 -\n",
        "Take a non-negative single digit positive number as input.\n",
        "If num**5%50+20-6 is > 15\n",
        "then print(\"BLACK\") else print(\"BLUE\").\n",
        "\n",
        "Note - Reject by saying \"INVALID INPUT\" any inputs which\n",
        "are not single digit or positive\n",
        "\"\"\")\n",
        "\n"
      ],
      "metadata": {
        "colab": {
          "base_uri": "https://localhost:8080/"
        },
        "id": "Om91XRZacnHb",
        "outputId": "a418594b-b483-42c4-a1d8-07db71363585"
      },
      "execution_count": 28,
      "outputs": [
        {
          "output_type": "stream",
          "name": "stdout",
          "text": [
            "\n",
            "Question 3 -\n",
            "Take a non-negative single digit positive number as input.\n",
            "If num**5%50+20-6 is > 15\n",
            "then print(\"BLACK\") else print(\"BLUE\").\n",
            "\n",
            "Note - Reject by saying \"INVALID INPUT\" any inputs which\n",
            "are not single digit or positive\n",
            "\n"
          ]
        }
      ]
    },
    {
      "cell_type": "code",
      "source": [
        "\n",
        "num= int(input( \"Please enter a non-negative single digit positive number as input\"))\n",
        "if  num >=0 and num<=9:\n",
        "  if num**5%50+20-6 > 15:\n",
        "    print('BLACK')\n",
        "  else:\n",
        "    print('BLUE')\n",
        "else:\n",
        "  print('INVALID INPUT')\n",
        "\n"
      ],
      "metadata": {
        "colab": {
          "base_uri": "https://localhost:8080/"
        },
        "id": "LYQ8HmQycuXx",
        "outputId": "3ec867a7-0b58-4ed7-81cd-f7e41dc3c4dc"
      },
      "execution_count": 32,
      "outputs": [
        {
          "output_type": "stream",
          "name": "stdout",
          "text": [
            "Please enter a non-negative single digit positive number as input90\n",
            "INVALID INPUT\n"
          ]
        }
      ]
    },
    {
      "cell_type": "code",
      "source": [
        "\n",
        "num= int(input( \"Please enter a non-negative single digit positive number as input: \"))\n",
        "if not ( num >=0 and num<=9):\n",
        "    print('INVALID INPUT')\n",
        "\n",
        "elif num**5%50+20-6 > 15:\n",
        "  print('BLACK')\n",
        "else:\n",
        "  print('BLUE')\n",
        "\n",
        "\n",
        "\n"
      ],
      "metadata": {
        "colab": {
          "base_uri": "https://localhost:8080/"
        },
        "id": "lsnYMr5LeLli",
        "outputId": "26a6033f-18c1-4bed-e3e8-076b942cdcea"
      },
      "execution_count": 34,
      "outputs": [
        {
          "output_type": "stream",
          "name": "stdout",
          "text": [
            "Please enter a non-negative single digit positive number as input: 1\n",
            "BLUE\n"
          ]
        }
      ]
    },
    {
      "cell_type": "code",
      "source": [
        "print(\"\"\"\n",
        "Question 4:\n",
        "Ask the user, what language they like\n",
        "If they are saying \"python\", say good choice else say you need to think again\n",
        "\"\"\")\n"
      ],
      "metadata": {
        "colab": {
          "base_uri": "https://localhost:8080/"
        },
        "id": "taU4T8VKhOz7",
        "outputId": "593b2269-78e6-4168-baa4-f39b7d217801"
      },
      "execution_count": 35,
      "outputs": [
        {
          "output_type": "stream",
          "name": "stdout",
          "text": [
            "\n",
            "Question 4:\n",
            "Ask the user, what language they like\n",
            "If they are saying \"python\", say good choice else say you need to think again\n",
            "\n"
          ]
        }
      ]
    },
    {
      "cell_type": "code",
      "source": [
        "lang=input(\"please enter your favourite language: \")\n",
        "if lang == 'python':\n",
        "  print(\"Good choice!\")\n",
        "else:\n",
        "  print(\"You need to think again!\")"
      ],
      "metadata": {
        "colab": {
          "base_uri": "https://localhost:8080/"
        },
        "id": "Ihj_w-KZiv6e",
        "outputId": "72eac1e9-a1d6-42a9-a01b-db20fac146b7"
      },
      "execution_count": 41,
      "outputs": [
        {
          "output_type": "stream",
          "name": "stdout",
          "text": [
            "please enter your favourite language: PYTHON\n",
            "Good choice!\n"
          ]
        }
      ]
    },
    {
      "cell_type": "code",
      "source": [
        "\"tHIS is my STRing\".lower()"
      ],
      "metadata": {
        "colab": {
          "base_uri": "https://localhost:8080/",
          "height": 35
        },
        "id": "7hLYeWttjP6Q",
        "outputId": "b5197a95-1a2d-4b7f-f61f-9084e25df77e"
      },
      "execution_count": 42,
      "outputs": [
        {
          "output_type": "execute_result",
          "data": {
            "text/plain": [
              "'this is my string'"
            ],
            "application/vnd.google.colaboratory.intrinsic+json": {
              "type": "string"
            }
          },
          "metadata": {},
          "execution_count": 42
        }
      ]
    },
    {
      "cell_type": "code",
      "source": [
        "\"tHIS is my STRing\".upper()"
      ],
      "metadata": {
        "colab": {
          "base_uri": "https://localhost:8080/",
          "height": 35
        },
        "id": "A_5cOblGj16p",
        "outputId": "d4a8fc77-2ceb-4916-f5f7-82e7d7ac69fe"
      },
      "execution_count": 40,
      "outputs": [
        {
          "output_type": "execute_result",
          "data": {
            "text/plain": [
              "'THIS IS MY STRING'"
            ],
            "application/vnd.google.colaboratory.intrinsic+json": {
              "type": "string"
            }
          },
          "metadata": {},
          "execution_count": 40
        }
      ]
    },
    {
      "cell_type": "code",
      "source": [
        "lang=input(\"please enter your favourite language: \")\n",
        "if lang.lower() == 'python':\n",
        "  print(\"Good choice!\")\n",
        "else:\n",
        "  print(\"You need to think again!\")"
      ],
      "metadata": {
        "colab": {
          "base_uri": "https://localhost:8080/"
        },
        "id": "K2AV5J6mj5QO",
        "outputId": "dbc595cb-5565-4999-971c-5db6d2c4f1e1"
      },
      "execution_count": 43,
      "outputs": [
        {
          "output_type": "stream",
          "name": "stdout",
          "text": [
            "please enter your favourite language: PYthon\n",
            "Good choice!\n"
          ]
        }
      ]
    },
    {
      "cell_type": "code",
      "source": [
        "\n",
        "print(\"\"\"\n",
        "Question 5:\n",
        "FIZZBUZZ\n",
        "1. ask the user for an integer\n",
        "2. if it is divisible by 3--> say FIZZ\n",
        "3. if it is divisible by 5--> say BUZZ\n",
        "3. if it is divisible by 3 as well as 5--> say FIZZBUZZ\n",
        "If not divisible by any of the above, do nothing\n",
        "\"\"\")\n",
        "\n"
      ],
      "metadata": {
        "colab": {
          "base_uri": "https://localhost:8080/"
        },
        "id": "U2MAhKSKlQNi",
        "outputId": "1fe870bf-72a6-49e5-8616-b7a3f2b1383c"
      },
      "execution_count": 44,
      "outputs": [
        {
          "output_type": "stream",
          "name": "stdout",
          "text": [
            "\n",
            "Question 5:\n",
            "FIZZBUZZ\n",
            "1. ask the user for an integer\n",
            "2. if it is divisible by 3--> say FIZZ\n",
            "3. if it is divisible by 5--> say BUZZ\n",
            "3. if it is divisible by 3 as well as 5--> say FIZZBUZZ\n",
            "If not divisible by any of the above, do nothing\n",
            "\n"
          ]
        }
      ]
    },
    {
      "cell_type": "code",
      "source": [
        "num=int(input(\"please enter an integer: \"))\n",
        "if num%3 == 0 and num%5==0:\n",
        "  print(\"FIZZBUZZ\")\n",
        "elif num%3==0:\n",
        "  print(\"FIZZ\")\n",
        "elif num%5==0:\n",
        "  print(\"BUZZ\")"
      ],
      "metadata": {
        "colab": {
          "base_uri": "https://localhost:8080/"
        },
        "id": "CZ4L1Z4Blomc",
        "outputId": "9ef8bfe9-d5c2-4932-8cb7-45a49cf76acb"
      },
      "execution_count": 46,
      "outputs": [
        {
          "output_type": "stream",
          "name": "stdout",
          "text": [
            "please enter an integer: 25\n",
            "BUZZ\n"
          ]
        }
      ]
    },
    {
      "cell_type": "code",
      "source": [
        "# the most stringent condition goes first"
      ],
      "metadata": {
        "id": "9zIxjnvomdaN"
      },
      "execution_count": 47,
      "outputs": []
    },
    {
      "cell_type": "code",
      "source": [
        "print('''\n",
        "Question 6 -\n",
        "What will be the output of the following?\n",
        "\n",
        "a = 50\n",
        "if a > 40:\n",
        "    print(\"A\")\n",
        "if a > 30:\n",
        "    print(\"B\")\n",
        "if a > 20:\n",
        "    print(\"C\")\n",
        "''')"
      ],
      "metadata": {
        "colab": {
          "base_uri": "https://localhost:8080/"
        },
        "id": "UQ67zH4hqBNm",
        "outputId": "e99f9280-ad0b-4b28-f70a-3efb3facb333"
      },
      "execution_count": 48,
      "outputs": [
        {
          "output_type": "stream",
          "name": "stdout",
          "text": [
            "\n",
            "Question 6 -\n",
            "What will be the output of the following?\n",
            "\n",
            "a = 50\n",
            "if a > 40:\n",
            "    print(\"A\")\n",
            "if a > 30:\n",
            "    print(\"B\")\n",
            "if a > 20:\n",
            "    print(\"C\")\n",
            "\n"
          ]
        }
      ]
    },
    {
      "cell_type": "code",
      "source": [
        "a = 50\n",
        "if a > 40:\n",
        "    print(\"A\")\n",
        "if a > 30:\n",
        "    print(\"B\")\n",
        "if a > 20:\n",
        "    print(\"C\")"
      ],
      "metadata": {
        "colab": {
          "base_uri": "https://localhost:8080/"
        },
        "id": "D3lQIw_NrVxj",
        "outputId": "86cae007-8830-4ef6-d81a-8d646959f379"
      },
      "execution_count": 49,
      "outputs": [
        {
          "output_type": "stream",
          "name": "stdout",
          "text": [
            "A\n",
            "B\n",
            "C\n"
          ]
        }
      ]
    },
    {
      "cell_type": "code",
      "source": [
        "# (WINDOWS+. )❤😊"
      ],
      "metadata": {
        "id": "Vto2fYiqradz"
      },
      "execution_count": 50,
      "outputs": []
    },
    {
      "cell_type": "code",
      "source": [],
      "metadata": {
        "id": "l_gRin1Pr-cQ"
      },
      "execution_count": null,
      "outputs": []
    }
  ]
}