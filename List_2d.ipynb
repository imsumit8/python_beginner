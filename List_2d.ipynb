{
  "nbformat": 4,
  "nbformat_minor": 0,
  "metadata": {
    "colab": {
      "provenance": [],
      "authorship_tag": "ABX9TyNy27ox/+aZw22TQex71JoA",
      "include_colab_link": true
    },
    "kernelspec": {
      "name": "python3",
      "display_name": "Python 3"
    },
    "language_info": {
      "name": "python"
    }
  },
  "cells": [
    {
      "cell_type": "markdown",
      "metadata": {
        "id": "view-in-github",
        "colab_type": "text"
      },
      "source": [
        "<a href=\"https://colab.research.google.com/github/imsumit8/python_beginner/blob/main/List_2d.ipynb\" target=\"_parent\"><img src=\"https://colab.research.google.com/assets/colab-badge.svg\" alt=\"Open In Colab\"/></a>"
      ]
    },
    {
      "cell_type": "code",
      "execution_count": null,
      "metadata": {
        "id": "WIbsXtBqx36G"
      },
      "outputs": [],
      "source": []
    },
    {
      "cell_type": "markdown",
      "source": [
        "Write a program to reverse a list. [1, 2, 3, 4, 5] > [5, 4, 3, 2, 1]\n"
      ],
      "metadata": {
        "id": "1Rrw2jUFx9yT"
      }
    },
    {
      "cell_type": "code",
      "source": [
        "arr=[1,2,3,4,5]\n",
        "arr.reverse()\n",
        "print(arr)"
      ],
      "metadata": {
        "colab": {
          "base_uri": "https://localhost:8080/"
        },
        "id": "hdDun6omx_Sa",
        "outputId": "66ee3b2d-37bf-4065-bc47-7c3ed163f783"
      },
      "execution_count": 2,
      "outputs": [
        {
          "output_type": "stream",
          "name": "stdout",
          "text": [
            "[5, 4, 3, 2, 1]\n"
          ]
        }
      ]
    },
    {
      "cell_type": "code",
      "source": [
        "from typing_extensions import assert_never\n",
        "arr=[1,2,3,4,5]\n",
        "print(arr)\n",
        "\n",
        "print(list(reversed(arr)))\n",
        "print(arr)"
      ],
      "metadata": {
        "colab": {
          "base_uri": "https://localhost:8080/"
        },
        "id": "rBsB8rAjyTvz",
        "outputId": "a314a61d-e6d7-4c1e-f046-acaf83ae119e"
      },
      "execution_count": 3,
      "outputs": [
        {
          "output_type": "stream",
          "name": "stdout",
          "text": [
            "[1, 2, 3, 4, 5]\n",
            "[5, 4, 3, 2, 1]\n",
            "[1, 2, 3, 4, 5]\n"
          ]
        }
      ]
    },
    {
      "cell_type": "code",
      "source": [
        "# sort\n",
        "a=[1,-10,2,3,-100,4,5,5,5]\n",
        "a.sort()\n",
        "print(a)"
      ],
      "metadata": {
        "colab": {
          "base_uri": "https://localhost:8080/"
        },
        "id": "u59L-h3Wy8XL",
        "outputId": "ddc78012-b1d5-43f0-958e-4007dd81b1fe"
      },
      "execution_count": 6,
      "outputs": [
        {
          "output_type": "stream",
          "name": "stdout",
          "text": [
            "[-100, -10, 1, 2, 3, 4, 5, 5, 5]\n"
          ]
        }
      ]
    },
    {
      "cell_type": "code",
      "source": [
        "#sorted\n",
        "a=[1,-10,2,3,-100,4,5,5,5]\n",
        "\n",
        "print(sorted(a))\n",
        "print(a)"
      ],
      "metadata": {
        "colab": {
          "base_uri": "https://localhost:8080/"
        },
        "id": "GTvH0H5X0Vas",
        "outputId": "49325a6a-9db3-43fb-bac1-3736a610cfd5"
      },
      "execution_count": 10,
      "outputs": [
        {
          "output_type": "stream",
          "name": "stdout",
          "text": [
            "[-100, -10, 1, 2, 3, 4, 5, 5, 5]\n",
            "[1, -10, 2, 3, -100, 4, 5, 5, 5]\n"
          ]
        }
      ]
    },
    {
      "cell_type": "code",
      "source": [],
      "metadata": {
        "id": "RReBXfPa0Vbu"
      },
      "execution_count": null,
      "outputs": []
    },
    {
      "cell_type": "code",
      "source": [
        "#index>> index of the first occurence\n",
        "print(a.index(5))\n",
        "#count\n",
        "print(a.count(5))\n"
      ],
      "metadata": {
        "colab": {
          "base_uri": "https://localhost:8080/"
        },
        "id": "Sz68JtoGzS2x",
        "outputId": "ad3fa177-56b6-407c-a00b-945c53862e6f"
      },
      "execution_count": 8,
      "outputs": [
        {
          "output_type": "stream",
          "name": "stdout",
          "text": [
            "6\n",
            "3\n"
          ]
        }
      ]
    },
    {
      "cell_type": "markdown",
      "source": [],
      "metadata": {
        "id": "Pri6LWHs0tEy"
      }
    },
    {
      "cell_type": "markdown",
      "source": [
        "## LIST 2D"
      ],
      "metadata": {
        "id": "RHmUH2zz0tF5"
      }
    },
    {
      "cell_type": "code",
      "source": [
        "player=['Ronaldo',38,185.5,True,None]"
      ],
      "metadata": {
        "id": "F9d7tw2Lzqe5"
      },
      "execution_count": 11,
      "outputs": []
    },
    {
      "cell_type": "code",
      "source": [
        "print(player)\n",
        "print('# of elements in my list :',len(player))"
      ],
      "metadata": {
        "colab": {
          "base_uri": "https://localhost:8080/"
        },
        "id": "kuxqoZS71USo",
        "outputId": "428e3c14-c976-41c2-e122-25dadb0b4f09"
      },
      "execution_count": 12,
      "outputs": [
        {
          "output_type": "stream",
          "name": "stdout",
          "text": [
            "['Ronaldo', 38, 185.5, True, None]\n",
            "# of elements in my list : 5\n"
          ]
        }
      ]
    },
    {
      "cell_type": "code",
      "source": [
        "for p in player:\n",
        "  print(p)"
      ],
      "metadata": {
        "colab": {
          "base_uri": "https://localhost:8080/"
        },
        "id": "OH1oqXtf1iLI",
        "outputId": "a00c572a-1396-419f-a65c-70f36c96975f"
      },
      "execution_count": 13,
      "outputs": [
        {
          "output_type": "stream",
          "name": "stdout",
          "text": [
            "Ronaldo\n",
            "38\n",
            "185.5\n",
            "True\n",
            "None\n"
          ]
        }
      ]
    },
    {
      "cell_type": "code",
      "source": [
        "groceryList=[3,'tables',3,'chairs',1.5,'apples',['Ronaldo',38,185.5,True,None]]\n",
        "print(groceryList)"
      ],
      "metadata": {
        "colab": {
          "base_uri": "https://localhost:8080/"
        },
        "id": "I8XmAyfF1pBw",
        "outputId": "d3d52c2f-0160-4839-ae81-7115721f35f5"
      },
      "execution_count": 14,
      "outputs": [
        {
          "output_type": "stream",
          "name": "stdout",
          "text": [
            "[3, 'tables', 3, 'chairs', 1.5, 'apples', ['Ronaldo', 38, 185.5, True, None]]\n"
          ]
        }
      ]
    },
    {
      "cell_type": "code",
      "source": [
        "matrix=[\n",
        "    [1,2,3],\n",
        "    [4,5,6],\n",
        "    [7,8,9]\n",
        "]\n",
        "print(matrix)"
      ],
      "metadata": {
        "colab": {
          "base_uri": "https://localhost:8080/"
        },
        "id": "THM4Maxf23r4",
        "outputId": "39384d57-96dc-4811-927d-dfeb7b0bdfe5"
      },
      "execution_count": 15,
      "outputs": [
        {
          "output_type": "stream",
          "name": "stdout",
          "text": [
            "[[1, 2, 3], [4, 5, 6], [7, 8, 9]]\n"
          ]
        }
      ]
    },
    {
      "cell_type": "code",
      "source": [
        "print('# of rows: ',len(matrix))"
      ],
      "metadata": {
        "colab": {
          "base_uri": "https://localhost:8080/"
        },
        "id": "DEuxEGSE3X2_",
        "outputId": "342eb3a2-0437-441d-c99d-e21d7f6b1839"
      },
      "execution_count": 16,
      "outputs": [
        {
          "output_type": "stream",
          "name": "stdout",
          "text": [
            "# of rows:  3\n"
          ]
        }
      ]
    },
    {
      "cell_type": "code",
      "source": [
        "print('# of cols: ',len(matrix[0]))"
      ],
      "metadata": {
        "colab": {
          "base_uri": "https://localhost:8080/"
        },
        "id": "w5QKquNc3gYw",
        "outputId": "82af82f1-fcb7-4ef3-e5c1-88a0b336c183"
      },
      "execution_count": 17,
      "outputs": [
        {
          "output_type": "stream",
          "name": "stdout",
          "text": [
            "# of cols:  3\n"
          ]
        }
      ]
    },
    {
      "cell_type": "code",
      "source": [
        "matrix=[\n",
        "    [1,2,3],\n",
        "    [4,5,6]\n",
        "]\n",
        "print(matrix)\n",
        "print('# of cols: ',len(matrix[0]))"
      ],
      "metadata": {
        "colab": {
          "base_uri": "https://localhost:8080/"
        },
        "id": "s10F00ZR3wHw",
        "outputId": "fbd085e9-1ef5-4b65-d749-c9f76cc9f47a"
      },
      "execution_count": 18,
      "outputs": [
        {
          "output_type": "stream",
          "name": "stdout",
          "text": [
            "[[1, 2, 3], [4, 5, 6]]\n",
            "# of cols:  3\n"
          ]
        }
      ]
    },
    {
      "cell_type": "code",
      "source": [
        "player=['Ronaldo',38,185.5,True,None]\n",
        "print(player[1])\n",
        "print(player[-4])"
      ],
      "metadata": {
        "colab": {
          "base_uri": "https://localhost:8080/"
        },
        "id": "vqG7W0uj39Q4",
        "outputId": "da3cc86f-836c-4955-b1ba-b2224724f012"
      },
      "execution_count": 20,
      "outputs": [
        {
          "output_type": "stream",
          "name": "stdout",
          "text": [
            "38\n",
            "38\n"
          ]
        }
      ]
    },
    {
      "cell_type": "code",
      "source": [
        "#chair\n",
        "groceryList=[3,'tables',3,'chairs',1.5,'apples',['Ronaldo',38,185.5,True,None]]\n",
        "print(groceryList[3])"
      ],
      "metadata": {
        "colab": {
          "base_uri": "https://localhost:8080/"
        },
        "id": "pI4AP_3B4T0o",
        "outputId": "13ab5156-44ba-4e74-c3a4-eb32c8d2a268"
      },
      "execution_count": 21,
      "outputs": [
        {
          "output_type": "stream",
          "name": "stdout",
          "text": [
            "chairs\n"
          ]
        }
      ]
    },
    {
      "cell_type": "code",
      "source": [
        "print(groceryList[-1])\n",
        "print(groceryList[6])\n",
        "print(groceryList[6][1])\n",
        "print(groceryList[6][-4])\n",
        "groceryList[4]=2"
      ],
      "metadata": {
        "colab": {
          "base_uri": "https://localhost:8080/"
        },
        "id": "kS36BcTc4muA",
        "outputId": "462eca9f-9f65-4a25-9f74-4a80847e9089"
      },
      "execution_count": 24,
      "outputs": [
        {
          "output_type": "stream",
          "name": "stdout",
          "text": [
            "['Ronaldo', 38, 185.5, True, None]\n",
            "['Ronaldo', 38, 185.5, True, None]\n",
            "38\n",
            "38\n"
          ]
        }
      ]
    },
    {
      "cell_type": "code",
      "source": [
        "groceryList[6][4]=2026\n",
        "print(groceryList)"
      ],
      "metadata": {
        "colab": {
          "base_uri": "https://localhost:8080/"
        },
        "id": "LKoP9Ncy4wq3",
        "outputId": "46a96e35-55b1-4a12-99bf-6da98b1216a8"
      },
      "execution_count": 25,
      "outputs": [
        {
          "output_type": "stream",
          "name": "stdout",
          "text": [
            "[3, 'tables', 3, 'chairs', 2, 'apples', ['Ronaldo', 38, 185.5, True, 2026]]\n"
          ]
        }
      ]
    },
    {
      "cell_type": "code",
      "source": [
        "my_list = [1,2,3,[4,5,[\"hello\",[True, \"Find ME!!\"]],6]]\n",
        "\n",
        "my_list[3][2][1][1]\n"
      ],
      "metadata": {
        "colab": {
          "base_uri": "https://localhost:8080/",
          "height": 36
        },
        "id": "TLlQVPPx50Sf",
        "outputId": "dbd9b51b-e594-45a4-99c6-f7de420467b1"
      },
      "execution_count": 27,
      "outputs": [
        {
          "output_type": "execute_result",
          "data": {
            "text/plain": [
              "'Find ME!!'"
            ],
            "application/vnd.google.colaboratory.intrinsic+json": {
              "type": "string"
            }
          },
          "metadata": {},
          "execution_count": 27
        }
      ]
    },
    {
      "cell_type": "code",
      "source": [
        "matrix[1][1]#>> [row_index][col_index]"
      ],
      "metadata": {
        "colab": {
          "base_uri": "https://localhost:8080/"
        },
        "id": "j1uOjWq56nIm",
        "outputId": "643068db-8696-47d3-a702-58f8d6dc0629"
      },
      "execution_count": 28,
      "outputs": [
        {
          "output_type": "execute_result",
          "data": {
            "text/plain": [
              "5"
            ]
          },
          "metadata": {},
          "execution_count": 28
        }
      ]
    },
    {
      "cell_type": "code",
      "source": [
        "matrix=[\n",
        "    [1,2,3],\n",
        "    [4,5,6]\n",
        "]\n",
        "for row in matrix:\n",
        "  print(row)"
      ],
      "metadata": {
        "colab": {
          "base_uri": "https://localhost:8080/"
        },
        "id": "KoG0xgMZ7uJ2",
        "outputId": "037edf7a-c19e-4e9d-8966-fc420946eb56"
      },
      "execution_count": 29,
      "outputs": [
        {
          "output_type": "stream",
          "name": "stdout",
          "text": [
            "[1, 2, 3]\n",
            "[4, 5, 6]\n"
          ]
        }
      ]
    },
    {
      "cell_type": "code",
      "source": [
        "matrix=[\n",
        "    [1,2,3],\n",
        "    [4,5,6]\n",
        "]\n",
        "for row in matrix:\n",
        "  for ele in row:\n",
        "    print(ele,end=\" \")\n",
        "  print()\n"
      ],
      "metadata": {
        "colab": {
          "base_uri": "https://localhost:8080/"
        },
        "id": "aj9Sg_mZ-9TN",
        "outputId": "748c677e-6252-4976-e61d-6fe76bb34786"
      },
      "execution_count": 30,
      "outputs": [
        {
          "output_type": "stream",
          "name": "stdout",
          "text": [
            "1 2 3 \n",
            "4 5 6 \n"
          ]
        }
      ]
    },
    {
      "cell_type": "code",
      "source": [
        "# iterating by index\n",
        "#invalid matrix\n",
        "matrix=[\n",
        "    [1,2,3],\n",
        "    [4,5,6],\n",
        "    [7,8,9,-7,-8,-9],\n",
        "    [0,10,11]\n",
        "]\n",
        "for row in matrix:\n",
        "  for ele in row:\n",
        "    print(ele,end=\" \")\n",
        "  print()\n"
      ],
      "metadata": {
        "colab": {
          "base_uri": "https://localhost:8080/"
        },
        "id": "C4EWdBNS_SLF",
        "outputId": "56a1c658-8bed-41b2-b346-9ca7cb70d03f"
      },
      "execution_count": 31,
      "outputs": [
        {
          "output_type": "stream",
          "name": "stdout",
          "text": [
            "1 2 3 \n",
            "4 5 6 \n",
            "7 8 9 -7 -8 -9 \n",
            "0 10 11 \n"
          ]
        }
      ]
    },
    {
      "cell_type": "code",
      "source": [
        "# iterating by index\n",
        "#valid matrix\n",
        "matrix=[\n",
        "    [1,2,3],\n",
        "    [4,5,6],\n",
        "    [7,8,9],\n",
        "    [0,10,11]\n",
        "]\n",
        "for rowindex in range(len(matrix)):\n",
        "  for colindex in range(len(matrix[0])):\n",
        "    print(matrix[rowindex][colindex],end=\" \")\n",
        "  print()\n"
      ],
      "metadata": {
        "colab": {
          "base_uri": "https://localhost:8080/"
        },
        "id": "BdQ5e-zq_zye",
        "outputId": "6a0f8efd-33c4-4303-e15e-67d314ef1e29"
      },
      "execution_count": 33,
      "outputs": [
        {
          "output_type": "stream",
          "name": "stdout",
          "text": [
            "1 2 3 \n",
            "4 5 6 \n",
            "7 8 9 \n",
            "0 10 11 \n"
          ]
        }
      ]
    },
    {
      "cell_type": "code",
      "source": [
        "# iterating by index\n",
        "#valid matrix\n",
        "#find\n",
        "matrix=[\n",
        "    [1,2,3],\n",
        "    [4,5,6],\n",
        "    [7,8,9],\n",
        "    [0,10,11]\n",
        "]\n",
        "search_ele=2\n",
        "for rowindex in range(len(matrix)):\n",
        "  for colindex in range(len(matrix[0])):\n",
        "    if matrix[rowindex][colindex]==search_ele:\n",
        "      print(rowindex,colindex)\n",
        "  print()\n"
      ],
      "metadata": {
        "colab": {
          "base_uri": "https://localhost:8080/"
        },
        "id": "h_5z7ouHAbI9",
        "outputId": "a4e1acfa-8d36-4106-c6ee-396e1d1af20c"
      },
      "execution_count": 34,
      "outputs": [
        {
          "output_type": "stream",
          "name": "stdout",
          "text": [
            "0 1\n",
            "\n",
            "\n",
            "\n",
            "\n"
          ]
        }
      ]
    },
    {
      "cell_type": "code",
      "source": [
        "sum=0\n",
        "for i in matrix:\n",
        "  for j in matrix[0]:\n",
        "    sum+=j\n",
        "print(sum)"
      ],
      "metadata": {
        "colab": {
          "base_uri": "https://localhost:8080/"
        },
        "id": "c83qt0CXA-kd",
        "outputId": "6b8c63f6-f478-498e-c226-c0b9cbecaf08"
      },
      "execution_count": 35,
      "outputs": [
        {
          "output_type": "stream",
          "name": "stdout",
          "text": [
            "24\n"
          ]
        }
      ]
    },
    {
      "cell_type": "code",
      "source": [
        "sum=0\n",
        "for rowindex in range(len(matrix)):\n",
        "  for colindex in range(len(matrix[0])):\n",
        "    sum+= matrix[rowindex][colindex]\n",
        "\n",
        "print(sum)"
      ],
      "metadata": {
        "colab": {
          "base_uri": "https://localhost:8080/"
        },
        "id": "Gj6BWKpGBRN8",
        "outputId": "0f51ec13-3b5c-4797-e6f8-74ed9b985b1f"
      },
      "execution_count": 36,
      "outputs": [
        {
          "output_type": "stream",
          "name": "stdout",
          "text": [
            "66\n"
          ]
        }
      ]
    },
    {
      "cell_type": "markdown",
      "source": [],
      "metadata": {
        "id": "By4RYSS7CDZW"
      }
    },
    {
      "cell_type": "markdown",
      "source": [
        "what is the sum of all the elements row -wise?\n",
        ">> [6,15,24,21]\n",
        "\n"
      ],
      "metadata": {
        "id": "zOPq0FtkCDar"
      }
    },
    {
      "cell_type": "code",
      "source": [
        "lst=[]\n",
        "for row in matrix:\n",
        "  sum=0\n",
        "\n",
        "\n",
        "  for j in row:\n",
        "    sum+=j\n",
        "  lst.append(sum)\n",
        "\n",
        "print(lst)\n",
        ""
      ],
      "metadata": {
        "colab": {
          "base_uri": "https://localhost:8080/"
        },
        "id": "KXtvro5jB37l",
        "outputId": "e28613f4-90b6-4ed9-e2d7-d8a7b311b317"
      },
      "execution_count": 44,
      "outputs": [
        {
          "output_type": "stream",
          "name": "stdout",
          "text": [
            "[6, 15, 24, 21]\n"
          ]
        }
      ]
    },
    {
      "cell_type": "code",
      "source": [
        "print(lst)"
      ],
      "metadata": {
        "colab": {
          "base_uri": "https://localhost:8080/"
        },
        "id": "cOqHkvFGCrTe",
        "outputId": "ff9c6738-497c-46ae-bfab-02390d9f6c2e"
      },
      "execution_count": 41,
      "outputs": [
        {
          "output_type": "stream",
          "name": "stdout",
          "text": [
            "[21]\n"
          ]
        }
      ]
    },
    {
      "cell_type": "markdown",
      "source": [
        "what is the sum of all the elements col -wise?\n",
        ">> [12,25,29]\n"
      ],
      "metadata": {
        "id": "tK5iAk2gEId3"
      }
    },
    {
      "cell_type": "code",
      "source": [
        "for i in range(len(matrix)):\n",
        "  sum=0\n",
        "  for j in range(len(matrix[0])):\n",
        "    if j==0:\n",
        "      sum+=matrix[i][j]\n",
        "  print(sum)\n"
      ],
      "metadata": {
        "colab": {
          "base_uri": "https://localhost:8080/"
        },
        "id": "isVx7YxNDP0s",
        "outputId": "109f9234-27f4-4e4a-cb49-79917ce441af"
      },
      "execution_count": 47,
      "outputs": [
        {
          "output_type": "stream",
          "name": "stdout",
          "text": [
            "1\n",
            "4\n",
            "7\n",
            "0\n"
          ]
        }
      ]
    },
    {
      "cell_type": "code",
      "source": [
        "nrows=len(matrix)\n",
        "ncols=len(matrix[0])\n",
        "ans=[]\n",
        "for colindex in range(ncols):\n",
        "  ans.append(0)\n",
        "print(ans)\n",
        "for rowindex in range(nrows):\n",
        "  for colindex in range(ncols):\n",
        "    ans[colindex]+=matrix[rowindex][colindex]\n",
        "print(ans)"
      ],
      "metadata": {
        "colab": {
          "base_uri": "https://localhost:8080/"
        },
        "id": "gAU9naKvFHHM",
        "outputId": "e01a25e8-8003-4ade-cfb9-5029fec06e64"
      },
      "execution_count": 52,
      "outputs": [
        {
          "output_type": "stream",
          "name": "stdout",
          "text": [
            "[0, 0, 0]\n",
            "[12, 25, 29]\n"
          ]
        }
      ]
    },
    {
      "cell_type": "markdown",
      "source": [
        "\n",
        "what is the sum of the diaginal>> 1+5+9 = 15\n",
        "\n",
        "\n",
        "```\n",
        "# This is formatted as code\n",
        "```\n",
        "\n"
      ],
      "metadata": {
        "id": "onjp2jilGd4d"
      }
    },
    {
      "cell_type": "code",
      "source": [
        "matrix = [\n",
        "    [1, 2, 3],\n",
        "    [4, 5, 6],\n",
        "    [7, 8, 9]\n",
        "     ]\n",
        "\n",
        "nrows=len(matrix)\n",
        "ncols=len(matrix[0])\n",
        "sum=0\n",
        "for i in range(nrows):\n",
        "  print(matrix[i][i])\n",
        "  sum+=matrix[i][i]\n",
        "\n",
        "print('sum of diagonal is:',sum)\n"
      ],
      "metadata": {
        "colab": {
          "base_uri": "https://localhost:8080/"
        },
        "id": "Ds2KgVq6Ghcb",
        "outputId": "6a09479e-7444-4c7c-8e82-1ed00749bb31"
      },
      "execution_count": 58,
      "outputs": [
        {
          "output_type": "stream",
          "name": "stdout",
          "text": [
            "1\n",
            "5\n",
            "9\n",
            "sum of diagonal is: 15\n"
          ]
        }
      ]
    },
    {
      "cell_type": "code",
      "source": [],
      "metadata": {
        "id": "vChe_CvFG_WC"
      },
      "execution_count": null,
      "outputs": []
    }
  ]
}