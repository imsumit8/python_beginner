{
  "nbformat": 4,
  "nbformat_minor": 0,
  "metadata": {
    "colab": {
      "provenance": [],
      "authorship_tag": "ABX9TyPsHJeU9j1RQFnsaix77saE",
      "include_colab_link": true
    },
    "kernelspec": {
      "name": "python3",
      "display_name": "Python 3"
    },
    "language_info": {
      "name": "python"
    }
  },
  "cells": [
    {
      "cell_type": "markdown",
      "metadata": {
        "id": "view-in-github",
        "colab_type": "text"
      },
      "source": [
        "<a href=\"https://colab.research.google.com/github/imsumit8/python_beginner/blob/main/list_misc.ipynb\" target=\"_parent\"><img src=\"https://colab.research.google.com/assets/colab-badge.svg\" alt=\"Open In Colab\"/></a>"
      ]
    },
    {
      "cell_type": "code",
      "execution_count": 3,
      "metadata": {
        "id": "ZhEN9qhLCoZh"
      },
      "outputs": [],
      "source": [
        "s=\"hello\""
      ]
    },
    {
      "cell_type": "code",
      "source": [
        "s[::-1]"
      ],
      "metadata": {
        "colab": {
          "base_uri": "https://localhost:8080/",
          "height": 35
        },
        "id": "wG_EETXuCr1P",
        "outputId": "16bb4305-a467-45e9-9cac-71cd67d6a1f9"
      },
      "execution_count": 4,
      "outputs": [
        {
          "output_type": "execute_result",
          "data": {
            "text/plain": [
              "'olleh'"
            ],
            "application/vnd.google.colaboratory.intrinsic+json": {
              "type": "string"
            }
          },
          "metadata": {},
          "execution_count": 4
        }
      ]
    },
    {
      "cell_type": "code",
      "source": [
        "s[0:9]"
      ],
      "metadata": {
        "colab": {
          "base_uri": "https://localhost:8080/",
          "height": 35
        },
        "id": "QmAR7MekC5H6",
        "outputId": "c895010b-cd7d-4e14-9495-4c478723dab6"
      },
      "execution_count": 6,
      "outputs": [
        {
          "output_type": "execute_result",
          "data": {
            "text/plain": [
              "'hello'"
            ],
            "application/vnd.google.colaboratory.intrinsic+json": {
              "type": "string"
            }
          },
          "metadata": {},
          "execution_count": 6
        }
      ]
    },
    {
      "cell_type": "code",
      "source": [
        "char=input()\n",
        "for i in char:\n",
        "  print(i)"
      ],
      "metadata": {
        "colab": {
          "base_uri": "https://localhost:8080/"
        },
        "id": "vTvgzu_CDDg3",
        "outputId": "44fd4384-1ec4-46a5-bc41-dc2c7fd57775"
      },
      "execution_count": 1,
      "outputs": [
        {
          "output_type": "stream",
          "name": "stdout",
          "text": [
            "VIRAT\n",
            "V\n",
            "I\n",
            "R\n",
            "A\n",
            "T\n"
          ]
        }
      ]
    },
    {
      "cell_type": "code",
      "source": [
        "char=input()\n",
        "first_element=char[0]\n",
        "last_element=char[-1]\n",
        "print(f\"First character - {first_element}, Last Character- {last_element}\")\n",
        "\n"
      ],
      "metadata": {
        "colab": {
          "base_uri": "https://localhost:8080/"
        },
        "id": "49ecgcrd7TNA",
        "outputId": "7e0fdced-9b21-4c4b-a390-9e131b760ba1"
      },
      "execution_count": 2,
      "outputs": [
        {
          "output_type": "stream",
          "name": "stdout",
          "text": [
            "Madhur MAA\n",
            "First character - M, Last Character- A\n"
          ]
        }
      ]
    },
    {
      "cell_type": "code",
      "source": [
        "def custom_join(list_of_strings,delimeter):\n",
        "  str1=\"\"\n",
        "  for i in range(len(list_of_strings)):\n",
        "    if i==len(list_of_strings)-1:\n",
        "      str1+=list_of_strings[i]\n",
        "    else:\n",
        "      str1+=list_of_strings[i]+delimeter\n",
        "  return str1\n"
      ],
      "metadata": {
        "id": "1MM-tgsB8jkg"
      },
      "execution_count": 1,
      "outputs": []
    },
    {
      "cell_type": "code",
      "source": [
        "custom_join(['a','string','with','a','list of words'],' ')"
      ],
      "metadata": {
        "colab": {
          "base_uri": "https://localhost:8080/",
          "height": 35
        },
        "id": "cca-lCB8g247",
        "outputId": "14b2c80c-7efc-4cea-f49f-780674c5667c"
      },
      "execution_count": 4,
      "outputs": [
        {
          "output_type": "execute_result",
          "data": {
            "text/plain": [
              "'a string with a list of words'"
            ],
            "application/vnd.google.colaboratory.intrinsic+json": {
              "type": "string"
            }
          },
          "metadata": {},
          "execution_count": 4
        }
      ]
    },
    {
      "cell_type": "code",
      "source": [
        "custom_join(['a','string','with','a','list', 'of', 'words','a lot','of','words'],' ')"
      ],
      "metadata": {
        "colab": {
          "base_uri": "https://localhost:8080/",
          "height": 35
        },
        "id": "mpFlqZlxhJyq",
        "outputId": "a66cae07-f48e-453b-e940-dec466255388"
      },
      "execution_count": 5,
      "outputs": [
        {
          "output_type": "execute_result",
          "data": {
            "text/plain": [
              "'a string with a list of words a lot of words'"
            ],
            "application/vnd.google.colaboratory.intrinsic+json": {
              "type": "string"
            }
          },
          "metadata": {},
          "execution_count": 5
        }
      ]
    },
    {
      "cell_type": "code",
      "source": [],
      "metadata": {
        "id": "SubuYmhRiYUa"
      },
      "execution_count": null,
      "outputs": []
    }
  ]
}