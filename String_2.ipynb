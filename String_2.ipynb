{
  "nbformat": 4,
  "nbformat_minor": 0,
  "metadata": {
    "colab": {
      "provenance": [],
      "authorship_tag": "ABX9TyNu9W/+EFz3nD6dB4S9grmq",
      "include_colab_link": true
    },
    "kernelspec": {
      "name": "python3",
      "display_name": "Python 3"
    },
    "language_info": {
      "name": "python"
    }
  },
  "cells": [
    {
      "cell_type": "markdown",
      "metadata": {
        "id": "view-in-github",
        "colab_type": "text"
      },
      "source": [
        "<a href=\"https://colab.research.google.com/github/imsumit8/python_beginner/blob/main/String_2.ipynb\" target=\"_parent\"><img src=\"https://colab.research.google.com/assets/colab-badge.svg\" alt=\"Open In Colab\"/></a>"
      ]
    },
    {
      "cell_type": "code",
      "execution_count": 2,
      "metadata": {
        "colab": {
          "base_uri": "https://localhost:8080/"
        },
        "id": "LGJLO9-zT1Mz",
        "outputId": "aa106023-17ed-4a13-e3e8-93955323b9d6"
      },
      "outputs": [
        {
          "output_type": "stream",
          "name": "stdout",
          "text": [
            "hlowrd"
          ]
        }
      ],
      "source": [
        "message=\"hello world\"\n",
        "i=0\n",
        "while i<len(message):\n",
        "  if i%2==0:\n",
        "    print(message[i],end=\"\")\n",
        "  i+=1"
      ]
    },
    {
      "cell_type": "code",
      "source": [
        "#str methods"
      ],
      "metadata": {
        "id": "IKaSaTVLUZuV"
      },
      "execution_count": 3,
      "outputs": []
    },
    {
      "cell_type": "code",
      "source": [
        "#split\n",
        "\"1 2 3 4 55 5\".split()"
      ],
      "metadata": {
        "colab": {
          "base_uri": "https://localhost:8080/"
        },
        "id": "dQwayYoJU4HM",
        "outputId": "b67a5903-abcf-4461-ebcb-4614a62a6a8d"
      },
      "execution_count": 4,
      "outputs": [
        {
          "output_type": "execute_result",
          "data": {
            "text/plain": [
              "['1', '2', '3', '4', '55', '5']"
            ]
          },
          "metadata": {},
          "execution_count": 4
        }
      ]
    },
    {
      "cell_type": "code",
      "source": [
        "\"1 2 3 4 55 5\".split('5')"
      ],
      "metadata": {
        "colab": {
          "base_uri": "https://localhost:8080/"
        },
        "id": "1NRrsXijVAPj",
        "outputId": "1c63cc78-346d-4581-e425-3127961118eb"
      },
      "execution_count": 5,
      "outputs": [
        {
          "output_type": "execute_result",
          "data": {
            "text/plain": [
              "['1 2 3 4 ', '', ' ', '']"
            ]
          },
          "metadata": {},
          "execution_count": 5
        }
      ]
    },
    {
      "cell_type": "code",
      "source": [
        "# default split happens on white spaces, this is not same as space\n",
        "\"1 2  3  4\".split()"
      ],
      "metadata": {
        "colab": {
          "base_uri": "https://localhost:8080/"
        },
        "id": "7366wxUDVSm7",
        "outputId": "8717a895-68ed-4e38-9665-939da646cb71"
      },
      "execution_count": 6,
      "outputs": [
        {
          "output_type": "execute_result",
          "data": {
            "text/plain": [
              "['1', '2', '3', '4']"
            ]
          },
          "metadata": {},
          "execution_count": 6
        }
      ]
    },
    {
      "cell_type": "code",
      "source": [
        "\"this is a random str\".split()"
      ],
      "metadata": {
        "colab": {
          "base_uri": "https://localhost:8080/"
        },
        "id": "Q-baMsifVrpj",
        "outputId": "5f36c3a7-4c7f-43ad-83d1-5dd613b4133e"
      },
      "execution_count": 7,
      "outputs": [
        {
          "output_type": "execute_result",
          "data": {
            "text/plain": [
              "['this', 'is', 'a', 'random', 'str']"
            ]
          },
          "metadata": {},
          "execution_count": 7
        }
      ]
    },
    {
      "cell_type": "code",
      "source": [
        "# join : str, list of str>str\n",
        "\"-\".join(['this', 'is', 'a', 'random', 'str'])"
      ],
      "metadata": {
        "colab": {
          "base_uri": "https://localhost:8080/",
          "height": 35
        },
        "id": "5bzBr28DWOez",
        "outputId": "a4c46319-d224-4921-e1c7-3f827709bd6e"
      },
      "execution_count": 8,
      "outputs": [
        {
          "output_type": "execute_result",
          "data": {
            "text/plain": [
              "'this-is-a-random-str'"
            ],
            "application/vnd.google.colaboratory.intrinsic+json": {
              "type": "string"
            }
          },
          "metadata": {},
          "execution_count": 8
        }
      ]
    },
    {
      "cell_type": "code",
      "source": [
        "# find"
      ],
      "metadata": {
        "id": "1YxUNdT0WUsj"
      },
      "execution_count": 9,
      "outputs": []
    },
    {
      "cell_type": "code",
      "source": [
        "\"this is a random str\".find('is')"
      ],
      "metadata": {
        "colab": {
          "base_uri": "https://localhost:8080/"
        },
        "id": "j0zVIAHDXR1j",
        "outputId": "6d40ed9b-b2fa-4cc6-adb6-4a34df1ab4be"
      },
      "execution_count": 11,
      "outputs": [
        {
          "output_type": "execute_result",
          "data": {
            "text/plain": [
              "2"
            ]
          },
          "metadata": {},
          "execution_count": 11
        }
      ]
    },
    {
      "cell_type": "code",
      "source": [
        "\"this is a random str\".find('apple')"
      ],
      "metadata": {
        "colab": {
          "base_uri": "https://localhost:8080/"
        },
        "id": "g25-pZ89XXSD",
        "outputId": "485b4868-5cbe-4ddb-e57e-6c086c62d9c4"
      },
      "execution_count": 12,
      "outputs": [
        {
          "output_type": "execute_result",
          "data": {
            "text/plain": [
              "-1"
            ]
          },
          "metadata": {},
          "execution_count": 12
        }
      ]
    },
    {
      "cell_type": "code",
      "source": [
        "# replace"
      ],
      "metadata": {
        "id": "RSkg6_gGXn1K"
      },
      "execution_count": 13,
      "outputs": []
    },
    {
      "cell_type": "code",
      "source": [
        "\"this is a random str that i randomly create on a Random day\".replace(\"random\",\"super random\")"
      ],
      "metadata": {
        "colab": {
          "base_uri": "https://localhost:8080/",
          "height": 35
        },
        "id": "isxbSabqX5Vh",
        "outputId": "4f95a61e-4885-4d45-b8a5-4c5c96168ea4"
      },
      "execution_count": 16,
      "outputs": [
        {
          "output_type": "execute_result",
          "data": {
            "text/plain": [
              "'this is a super random str that i super randomly create on a Random day'"
            ],
            "application/vnd.google.colaboratory.intrinsic+json": {
              "type": "string"
            }
          },
          "metadata": {},
          "execution_count": 16
        }
      ]
    },
    {
      "cell_type": "code",
      "source": [
        "\"this is a random str that i randomly create on a random day\".lower().count(\"random \")"
      ],
      "metadata": {
        "colab": {
          "base_uri": "https://localhost:8080/"
        },
        "id": "DOHJPhTJYg3v",
        "outputId": "7b32d7c9-66cb-432c-8ece-61b6c4ef6087"
      },
      "execution_count": 18,
      "outputs": [
        {
          "output_type": "execute_result",
          "data": {
            "text/plain": [
              "2"
            ]
          },
          "metadata": {},
          "execution_count": 18
        }
      ]
    },
    {
      "cell_type": "code",
      "source": [
        "\"this is a random str that i randomly create on a random day\".lower().split().count(\"random\")"
      ],
      "metadata": {
        "colab": {
          "base_uri": "https://localhost:8080/"
        },
        "id": "YvY4XPrCY0dZ",
        "outputId": "96a6b62c-d019-4cdf-80d7-519a19d6fe00"
      },
      "execution_count": 20,
      "outputs": [
        {
          "output_type": "execute_result",
          "data": {
            "text/plain": [
              "2"
            ]
          },
          "metadata": {},
          "execution_count": 20
        }
      ]
    },
    {
      "cell_type": "code",
      "source": [
        "#Question\n",
        "# Take a string as input.\n",
        "# convert the string to a lowercase without using any inbuilt functions\n",
        "str=input()\n",
        "lst=[]\n",
        "LST1=[]\n",
        "for   e in str:\n",
        "  if ord(e)>=65 and ord(e)<=90:\n",
        "    lst.append(chr(ord(e)+32))\n",
        "    LST1.append(e)\n",
        "str.replace(LST1,lst)\n",
        "print(str)"
      ],
      "metadata": {
        "colab": {
          "base_uri": "https://localhost:8080/",
          "height": 245
        },
        "id": "YQ6RDGFblB57",
        "outputId": "5353df3c-4c66-4e18-b702-c57e8af1010f"
      },
      "execution_count": 27,
      "outputs": [
        {
          "name": "stdout",
          "output_type": "stream",
          "text": [
            "ASFJHGsfghk\n"
          ]
        },
        {
          "output_type": "error",
          "ename": "TypeError",
          "evalue": "ignored",
          "traceback": [
            "\u001b[0;31m---------------------------------------------------------------------------\u001b[0m",
            "\u001b[0;31mTypeError\u001b[0m                                 Traceback (most recent call last)",
            "\u001b[0;32m<ipython-input-27-b29da7f54ebc>\u001b[0m in \u001b[0;36m<cell line: 11>\u001b[0;34m()\u001b[0m\n\u001b[1;32m      9\u001b[0m     \u001b[0mlst\u001b[0m\u001b[0;34m.\u001b[0m\u001b[0mappend\u001b[0m\u001b[0;34m(\u001b[0m\u001b[0mchr\u001b[0m\u001b[0;34m(\u001b[0m\u001b[0mord\u001b[0m\u001b[0;34m(\u001b[0m\u001b[0me\u001b[0m\u001b[0;34m)\u001b[0m\u001b[0;34m+\u001b[0m\u001b[0;36m32\u001b[0m\u001b[0;34m)\u001b[0m\u001b[0;34m)\u001b[0m\u001b[0;34m\u001b[0m\u001b[0;34m\u001b[0m\u001b[0m\n\u001b[1;32m     10\u001b[0m     \u001b[0mLST1\u001b[0m\u001b[0;34m.\u001b[0m\u001b[0mappend\u001b[0m\u001b[0;34m(\u001b[0m\u001b[0me\u001b[0m\u001b[0;34m)\u001b[0m\u001b[0;34m\u001b[0m\u001b[0;34m\u001b[0m\u001b[0m\n\u001b[0;32m---> 11\u001b[0;31m \u001b[0mstr\u001b[0m\u001b[0;34m.\u001b[0m\u001b[0mreplace\u001b[0m\u001b[0;34m(\u001b[0m\u001b[0mLST1\u001b[0m\u001b[0;34m,\u001b[0m\u001b[0mlst\u001b[0m\u001b[0;34m)\u001b[0m\u001b[0;34m\u001b[0m\u001b[0;34m\u001b[0m\u001b[0m\n\u001b[0m\u001b[1;32m     12\u001b[0m \u001b[0mprint\u001b[0m\u001b[0;34m(\u001b[0m\u001b[0mstr\u001b[0m\u001b[0;34m)\u001b[0m\u001b[0;34m\u001b[0m\u001b[0;34m\u001b[0m\u001b[0m\n",
            "\u001b[0;31mTypeError\u001b[0m: replace() argument 1 must be str, not list"
          ]
        }
      ]
    },
    {
      "cell_type": "code",
      "source": [
        "#1 loop over all the elements\n",
        "# 2. find if the char is uppercase or not\n",
        "# 3 . \"a\">>\"A\": ASCII+32 > LOWER CASE\n",
        "# 4. CREATE A NEW STR WITH THE MODIFIED CHARACTERS\n",
        "def convert2lowercase(my_str):\n",
        "  result=\"\"\n",
        "  for char in my_str:\n",
        "    if ord(char)>=ord('A') and ord(char)<=ord('Z'):\n",
        "      lowerchr=chr(ord(char)+32)\n",
        "    else:\n",
        "      lowerchr=char\n",
        "    result+=lowerchr\n",
        "  return result\n"
      ],
      "metadata": {
        "id": "j1460qoPnjdx"
      },
      "execution_count": 36,
      "outputs": []
    },
    {
      "cell_type": "code",
      "source": [
        "def convert2lowercase(my_str):\n",
        "    result = \"\"\n",
        "    for char in my_str:# 1 loop over all the chars\n",
        "        if ord(char)>=ord('A') and ord(char)<=ord('Z'):# 2 find if the char is capital/upper OR not\n",
        "            lowerChar = chr(ord(char)+32) # 3 \"a\" >> \"A\": ascii+ 32>> lowercase\n",
        "        else:\n",
        "            lowerChar= char\n",
        "        result+=lowerChar\n",
        "    return result\n",
        "convert2lowercase(my_str=\"This is A stRIng\")\n"
      ],
      "metadata": {
        "colab": {
          "base_uri": "https://localhost:8080/",
          "height": 35
        },
        "id": "SjXEo6dhrRtX",
        "outputId": "dc46498b-aacd-4fa2-c62f-c60ed28c5a23"
      },
      "execution_count": 35,
      "outputs": [
        {
          "output_type": "execute_result",
          "data": {
            "text/plain": [
              "'this is a string'"
            ],
            "application/vnd.google.colaboratory.intrinsic+json": {
              "type": "string"
            }
          },
          "metadata": {},
          "execution_count": 35
        }
      ]
    },
    {
      "cell_type": "code",
      "source": [
        "convert2lowercase(my_str=\"This is A stRIng\")\n"
      ],
      "metadata": {
        "colab": {
          "base_uri": "https://localhost:8080/",
          "height": 35
        },
        "id": "Me9-UgTXrahH",
        "outputId": "55ac1457-68f9-4312-fc25-3bbacdbdc5d8"
      },
      "execution_count": 37,
      "outputs": [
        {
          "output_type": "execute_result",
          "data": {
            "text/plain": [
              "'this is a string'"
            ],
            "application/vnd.google.colaboratory.intrinsic+json": {
              "type": "string"
            }
          },
          "metadata": {},
          "execution_count": 37
        }
      ]
    },
    {
      "cell_type": "code",
      "source": [
        "def convert2lowercase(my_str):\n",
        "\n",
        "  for i in range(ord('A'),ord('Z')+1):\n",
        "    my_str=my_str.replace(chr(i),chr(i+32))\n",
        "  return my_str\n"
      ],
      "metadata": {
        "id": "3xtXfe7vs0He"
      },
      "execution_count": 40,
      "outputs": []
    },
    {
      "cell_type": "code",
      "source": [
        "convert2lowercase(my_str=\"This is A stRIng\")\n"
      ],
      "metadata": {
        "colab": {
          "base_uri": "https://localhost:8080/",
          "height": 35
        },
        "id": "osGzVGJRvjyt",
        "outputId": "d0bc3042-8144-420c-8174-fbf4489bd699"
      },
      "execution_count": 41,
      "outputs": [
        {
          "output_type": "execute_result",
          "data": {
            "text/plain": [
              "'this is a string'"
            ],
            "application/vnd.google.colaboratory.intrinsic+json": {
              "type": "string"
            }
          },
          "metadata": {},
          "execution_count": 41
        }
      ]
    },
    {
      "cell_type": "code",
      "source": [
        "# ABC---XYZ\n",
        "# abc---xyc\n",
        "def convert2lowercase(my_str):\n",
        "    for i in range(ord('A'), ord('Z')+1):\n",
        "        my_str=my_str.replace(chr(i), chr(i+32))\n",
        "    return my_str\n",
        "convert2lowercase(my_str=\"This is A stRIng\")\n",
        ""
      ],
      "metadata": {
        "colab": {
          "base_uri": "https://localhost:8080/",
          "height": 35
        },
        "id": "SpJRqEp3vm1t",
        "outputId": "efca6b97-e240-4e5f-acb1-5675fe1af6ed"
      },
      "execution_count": 42,
      "outputs": [
        {
          "output_type": "execute_result",
          "data": {
            "text/plain": [
              "'this is a string'"
            ],
            "application/vnd.google.colaboratory.intrinsic+json": {
              "type": "string"
            }
          },
          "metadata": {},
          "execution_count": 42
        }
      ]
    },
    {
      "cell_type": "code",
      "source": [
        "# isdigit()\n",
        "'5'.isdigit()"
      ],
      "metadata": {
        "colab": {
          "base_uri": "https://localhost:8080/"
        },
        "id": "SRDybv6Bv_j9",
        "outputId": "d1d8eba0-413b-4709-b277-2c19bcf4bbaf"
      },
      "execution_count": 43,
      "outputs": [
        {
          "output_type": "execute_result",
          "data": {
            "text/plain": [
              "True"
            ]
          },
          "metadata": {},
          "execution_count": 43
        }
      ]
    },
    {
      "cell_type": "code",
      "source": [
        "# isalpha\n",
        "'ABNKGBJ'.isalpha()"
      ],
      "metadata": {
        "colab": {
          "base_uri": "https://localhost:8080/"
        },
        "id": "Iclh58PPwhAz",
        "outputId": "c8054ec5-83a4-43b9-b30b-3aa63a81cdf5"
      },
      "execution_count": 44,
      "outputs": [
        {
          "output_type": "execute_result",
          "data": {
            "text/plain": [
              "True"
            ]
          },
          "metadata": {},
          "execution_count": 44
        }
      ]
    },
    {
      "cell_type": "code",
      "source": [
        "'a b c '.islower()"
      ],
      "metadata": {
        "colab": {
          "base_uri": "https://localhost:8080/"
        },
        "id": "4LeVhuRkw3N1",
        "outputId": "fb4033b1-ceb5-4a08-f3c3-b2fb637d321b"
      },
      "execution_count": 45,
      "outputs": [
        {
          "output_type": "execute_result",
          "data": {
            "text/plain": [
              "True"
            ]
          },
          "metadata": {},
          "execution_count": 45
        }
      ]
    },
    {
      "cell_type": "code",
      "source": [
        "'       '.isspace()"
      ],
      "metadata": {
        "colab": {
          "base_uri": "https://localhost:8080/"
        },
        "id": "5MlzN5PRxTRT",
        "outputId": "056b3852-4bc6-4148-f907-f25e8a5463bf"
      },
      "execution_count": 46,
      "outputs": [
        {
          "output_type": "execute_result",
          "data": {
            "text/plain": [
              "True"
            ]
          },
          "metadata": {},
          "execution_count": 46
        }
      ]
    },
    {
      "cell_type": "code",
      "source": [
        "#isspace\n",
        "' '.isspace()"
      ],
      "metadata": {
        "colab": {
          "base_uri": "https://localhost:8080/"
        },
        "id": "CF6SB5ioxXBE",
        "outputId": "bd316b6f-5c78-4ee2-ee0f-3957fd562d2f"
      },
      "execution_count": 8,
      "outputs": [
        {
          "output_type": "execute_result",
          "data": {
            "text/plain": [
              "True"
            ]
          },
          "metadata": {},
          "execution_count": 8
        }
      ]
    },
    {
      "cell_type": "code",
      "source": [
        "a = 'hello'\n",
        "b = a\n",
        "a = 'yello'\n",
        "\n",
        "print(b)\n",
        "print(a)\n"
      ],
      "metadata": {
        "colab": {
          "base_uri": "https://localhost:8080/"
        },
        "id": "vYvymCdIxbQE",
        "outputId": "a5af98a9-a546-461c-b65e-0f274f59dbdf"
      },
      "execution_count": 48,
      "outputs": [
        {
          "output_type": "stream",
          "name": "stdout",
          "text": [
            "hello\n",
            "yello\n"
          ]
        }
      ]
    },
    {
      "cell_type": "code",
      "source": [
        "# question\n",
        "# take a string as an input\n",
        "# replace all the space with underscore\n",
        "str=input()\n",
        "str1=str.replace(' ','_')\n"
      ],
      "metadata": {
        "colab": {
          "base_uri": "https://localhost:8080/"
        },
        "id": "f1fdMrBq2gBx",
        "outputId": "99b67dee-c929-49b9-d49e-999c573b13d7"
      },
      "execution_count": 3,
      "outputs": [
        {
          "name": "stdout",
          "output_type": "stream",
          "text": [
            "my name is sultan\n"
          ]
        }
      ]
    },
    {
      "cell_type": "code",
      "source": [
        "print(str1)"
      ],
      "metadata": {
        "colab": {
          "base_uri": "https://localhost:8080/"
        },
        "id": "Z2CCTtC4pJ9U",
        "outputId": "949cd893-0d42-4a35-88d4-cf7b06d57f3f"
      },
      "execution_count": 4,
      "outputs": [
        {
          "output_type": "stream",
          "name": "stdout",
          "text": [
            "my_name_is_sultan\n"
          ]
        }
      ]
    },
    {
      "cell_type": "code",
      "source": [
        "def change2underscore(my_str):\n",
        "  result=\"\"\n",
        "  for i in my_str:\n",
        "    if i.isspace():\n",
        "      result+=\"_\"\n",
        "    else:\n",
        "      result+=i\n",
        "  return result"
      ],
      "metadata": {
        "id": "QCgZfDhdpcPs"
      },
      "execution_count": 5,
      "outputs": []
    },
    {
      "cell_type": "code",
      "source": [
        "change2underscore(\"My name is     virat\")"
      ],
      "metadata": {
        "colab": {
          "base_uri": "https://localhost:8080/",
          "height": 35
        },
        "id": "UzyG8kGrqhT0",
        "outputId": "d50611ec-113f-447b-c77d-ba1811041601"
      },
      "execution_count": 7,
      "outputs": [
        {
          "output_type": "execute_result",
          "data": {
            "text/plain": [
              "'My_name_is_____virat'"
            ],
            "application/vnd.google.colaboratory.intrinsic+json": {
              "type": "string"
            }
          },
          "metadata": {},
          "execution_count": 7
        }
      ]
    },
    {
      "cell_type": "code",
      "source": [
        "#startswith\n",
        "\"My name is     virat\".startswith(\"345\")"
      ],
      "metadata": {
        "colab": {
          "base_uri": "https://localhost:8080/"
        },
        "id": "DUYrQsTjqn8z",
        "outputId": "99ffb1a3-ae22-4ad6-c126-6e1e82f05666"
      },
      "execution_count": 11,
      "outputs": [
        {
          "output_type": "execute_result",
          "data": {
            "text/plain": [
              "False"
            ]
          },
          "metadata": {},
          "execution_count": 11
        }
      ]
    },
    {
      "cell_type": "code",
      "source": [
        "#endswith\n",
        "\"My name is     virat\".endswith(\"rat\")"
      ],
      "metadata": {
        "colab": {
          "base_uri": "https://localhost:8080/"
        },
        "id": "vviKwYLtrOi8",
        "outputId": "f2551f24-291f-4cad-c406-fad7ad79d481"
      },
      "execution_count": 12,
      "outputs": [
        {
          "output_type": "execute_result",
          "data": {
            "text/plain": [
              "True"
            ]
          },
          "metadata": {},
          "execution_count": 12
        }
      ]
    },
    {
      "cell_type": "code",
      "source": [
        "# quick search\n",
        "print(\"apple\" in \"an apple a day\")"
      ],
      "metadata": {
        "colab": {
          "base_uri": "https://localhost:8080/"
        },
        "id": "BNjFBQJurj7k",
        "outputId": "0dc8dafe-82e5-43c9-e533-3974ba84ffc1"
      },
      "execution_count": 13,
      "outputs": [
        {
          "output_type": "stream",
          "name": "stdout",
          "text": [
            "True\n"
          ]
        }
      ]
    },
    {
      "cell_type": "code",
      "source": [
        "print(\"doctor\" in \"an apple a day\")"
      ],
      "metadata": {
        "colab": {
          "base_uri": "https://localhost:8080/"
        },
        "id": "ASSXoRqktFJU",
        "outputId": "1fd7b0f7-6066-48f6-941d-b4bfdf5ef29d"
      },
      "execution_count": 14,
      "outputs": [
        {
          "output_type": "stream",
          "name": "stdout",
          "text": [
            "False\n"
          ]
        }
      ]
    },
    {
      "cell_type": "code",
      "source": [
        "#mutability and immutability\n"
      ],
      "metadata": {
        "id": "Jo4hC6wltLXZ"
      },
      "execution_count": 15,
      "outputs": []
    },
    {
      "cell_type": "code",
      "source": [
        "lst=[1,2,3]\n",
        "print(lst,id(lst))\n",
        "lst[2]=100\n",
        "print(lst,id(lst))"
      ],
      "metadata": {
        "colab": {
          "base_uri": "https://localhost:8080/"
        },
        "id": "bb0k9wVUtgdq",
        "outputId": "05bc184f-685b-4bb0-e57f-69002002e8fe"
      },
      "execution_count": 19,
      "outputs": [
        {
          "output_type": "stream",
          "name": "stdout",
          "text": [
            "[1, 2, 3] 133485154800640\n",
            "[1, 2, 100] 133485154800640\n"
          ]
        }
      ]
    },
    {
      "cell_type": "code",
      "source": [
        "integer=456789\n",
        "print(integer,id(integer))\n",
        "integer+=100\n",
        "print(integer,id(integer))"
      ],
      "metadata": {
        "colab": {
          "base_uri": "https://localhost:8080/"
        },
        "id": "8I9-2yVYtnMB",
        "outputId": "40018011-abb2-4ad6-efb0-f9bba9bc2d27"
      },
      "execution_count": 20,
      "outputs": [
        {
          "output_type": "stream",
          "name": "stdout",
          "text": [
            "456789 133485155380496\n",
            "456889 133485155381232\n"
          ]
        }
      ]
    },
    {
      "cell_type": "code",
      "source": [],
      "metadata": {
        "id": "l3USmsPVu4kJ"
      },
      "execution_count": null,
      "outputs": []
    }
  ]
}