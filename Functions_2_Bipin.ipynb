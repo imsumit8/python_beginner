{
  "nbformat": 4,
  "nbformat_minor": 0,
  "metadata": {
    "colab": {
      "provenance": [],
      "authorship_tag": "ABX9TyOpUjP9P9nyB6CbpiZ2dZNc",
      "include_colab_link": true
    },
    "kernelspec": {
      "name": "python3",
      "display_name": "Python 3"
    },
    "language_info": {
      "name": "python"
    }
  },
  "cells": [
    {
      "cell_type": "markdown",
      "metadata": {
        "id": "view-in-github",
        "colab_type": "text"
      },
      "source": [
        "<a href=\"https://colab.research.google.com/github/imsumit8/python_beginner/blob/main/Functions_2_Bipin.ipynb\" target=\"_parent\"><img src=\"https://colab.research.google.com/assets/colab-badge.svg\" alt=\"Open In Colab\"/></a>"
      ]
    },
    {
      "cell_type": "code",
      "execution_count": 6,
      "metadata": {
        "id": "LaVFQE_7BKq3"
      },
      "outputs": [],
      "source": [
        "def date_style(day,month,year,style=0):\n",
        "  if style==0:\n",
        "    print(day,month,year,sep=\"/\")\n",
        "  elif style==1:\n",
        "    print(month,day,year,sep=\"/\")\n",
        "  else:\n",
        "    print(\"Invalid style\")\n"
      ]
    },
    {
      "cell_type": "code",
      "source": [
        "date_style(8,11,1999,style=1)"
      ],
      "metadata": {
        "colab": {
          "base_uri": "https://localhost:8080/"
        },
        "id": "QLJ1RuRwCL3H",
        "outputId": "54a97a4d-8add-46cc-db17-fb7a8a617628"
      },
      "execution_count": 7,
      "outputs": [
        {
          "output_type": "stream",
          "name": "stdout",
          "text": [
            "11/8/1999\n"
          ]
        }
      ]
    },
    {
      "cell_type": "code",
      "source": [
        "if 4>5:\n",
        "  a=50\n",
        "else:\n",
        "  a=40\n"
      ],
      "metadata": {
        "id": "iWE5nxEKCVI8"
      },
      "execution_count": 8,
      "outputs": []
    },
    {
      "cell_type": "code",
      "source": [
        "a"
      ],
      "metadata": {
        "colab": {
          "base_uri": "https://localhost:8080/"
        },
        "id": "nQ1KLqztKrMf",
        "outputId": "16945583-b403-438f-ad43-fbc4675f4a26"
      },
      "execution_count": 9,
      "outputs": [
        {
          "output_type": "execute_result",
          "data": {
            "text/plain": [
              "40"
            ]
          },
          "metadata": {},
          "execution_count": 9
        }
      ]
    },
    {
      "cell_type": "code",
      "source": [
        "a= 50 if 4>5 else 40"
      ],
      "metadata": {
        "id": "ARcefGnAKufV"
      },
      "execution_count": 10,
      "outputs": []
    },
    {
      "cell_type": "code",
      "source": [
        "a"
      ],
      "metadata": {
        "colab": {
          "base_uri": "https://localhost:8080/"
        },
        "id": "tzTo6BWJK3Px",
        "outputId": "451cd99e-23f4-41d9-96b6-d319bba131b3"
      },
      "execution_count": 11,
      "outputs": [
        {
          "output_type": "execute_result",
          "data": {
            "text/plain": [
              "40"
            ]
          },
          "metadata": {},
          "execution_count": 11
        }
      ]
    },
    {
      "cell_type": "code",
      "source": [
        "def hello():\n",
        "  return \"hello\""
      ],
      "metadata": {
        "id": "wnddHpgoK4ZS"
      },
      "execution_count": 13,
      "outputs": []
    },
    {
      "cell_type": "code",
      "source": [
        "hello()"
      ],
      "metadata": {
        "colab": {
          "base_uri": "https://localhost:8080/",
          "height": 36
        },
        "id": "P5K_LOEbLQnY",
        "outputId": "9d6468bb-55cb-4011-d467-ebccfad4efa3"
      },
      "execution_count": 14,
      "outputs": [
        {
          "output_type": "execute_result",
          "data": {
            "text/plain": [
              "'hello'"
            ],
            "application/vnd.google.colaboratory.intrinsic+json": {
              "type": "string"
            }
          },
          "metadata": {},
          "execution_count": 14
        }
      ]
    },
    {
      "cell_type": "code",
      "source": [
        "def random(x):\n",
        "  return x+10"
      ],
      "metadata": {
        "id": "kIYswwbXLVXR"
      },
      "execution_count": null,
      "outputs": []
    },
    {
      "cell_type": "code",
      "source": [
        "random = lambda x: x+10"
      ],
      "metadata": {
        "id": "1fcLCoaAMYkZ"
      },
      "execution_count": 15,
      "outputs": []
    },
    {
      "cell_type": "code",
      "source": [
        "random(5)"
      ],
      "metadata": {
        "colab": {
          "base_uri": "https://localhost:8080/"
        },
        "id": "x_sAuRzhMfFJ",
        "outputId": "f5aba6a4-3d28-44e2-8585-9613e81fcd68"
      },
      "execution_count": 16,
      "outputs": [
        {
          "output_type": "execute_result",
          "data": {
            "text/plain": [
              "15"
            ]
          },
          "metadata": {},
          "execution_count": 16
        }
      ]
    },
    {
      "cell_type": "code",
      "source": [
        "random3= lambda x,y: x+y"
      ],
      "metadata": {
        "id": "DuvEwp0sMlOY"
      },
      "execution_count": 17,
      "outputs": []
    },
    {
      "cell_type": "code",
      "source": [
        "random3(10,5)"
      ],
      "metadata": {
        "colab": {
          "base_uri": "https://localhost:8080/"
        },
        "id": "I5nf7ZjZNr2Y",
        "outputId": "a77441d5-c620-4848-f3a7-2acb3999ca70"
      },
      "execution_count": 18,
      "outputs": [
        {
          "output_type": "execute_result",
          "data": {
            "text/plain": [
              "15"
            ]
          },
          "metadata": {},
          "execution_count": 18
        }
      ]
    },
    {
      "cell_type": "code",
      "source": [
        "random3(y=200,x=789)"
      ],
      "metadata": {
        "colab": {
          "base_uri": "https://localhost:8080/"
        },
        "id": "gqqdGiO9NvWo",
        "outputId": "0fea0848-f02c-4ce1-ba8e-db2649d37d2c"
      },
      "execution_count": 19,
      "outputs": [
        {
          "output_type": "execute_result",
          "data": {
            "text/plain": [
              "989"
            ]
          },
          "metadata": {},
          "execution_count": 19
        }
      ]
    },
    {
      "cell_type": "code",
      "source": [],
      "metadata": {
        "id": "xDf-DXQnN0Og"
      },
      "execution_count": null,
      "outputs": []
    }
  ]
}